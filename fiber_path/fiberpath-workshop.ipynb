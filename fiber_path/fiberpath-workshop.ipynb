{
  "cells": [
    {
      "cell_type": "markdown",
      "metadata": {
        "id": "ErL06KLX0ECA"
      },
      "source": [
        "## Install requirements"
      ]
    },
    {
      "cell_type": "code",
      "execution_count": null,
      "metadata": {
        "colab": {
          "base_uri": "https://localhost:8080/"
        },
        "collapsed": true,
        "executionInfo": {
          "elapsed": 37123,
          "status": "ok",
          "timestamp": 1686858635150,
          "user": {
            "displayName": "Utku Can Ozturk",
            "userId": "13276833277571537087"
          },
          "user_tz": -180
        },
        "id": "PMWtGYcd6QMI",
        "jupyter": {
          "outputs_hidden": false
        },
        "outputId": "1ad6e197-40d8-43b4-faa1-ca7ef5391eff"
      },
      "outputs": [],
      "source": [
        "%pip install fiona shapely pyproj rtree geopandas plotly pycountry networkx ipywidgets tdqm pyarrow"
      ]
    },
    {
      "cell_type": "markdown",
      "metadata": {
        "id": "4Ysh5OP01FxC"
      },
      "source": [
        "## Load dependencies"
      ]
    },
    {
      "cell_type": "code",
      "execution_count": 1,
      "metadata": {
        "gather": {
          "logged": 1710165565504
        },
        "id": "DPsJKb-J0GsT"
      },
      "outputs": [],
      "source": [
        "# notebook dependencies\n",
        "import ipywidgets as widgets\n",
        "from IPython.display import display\n",
        "\n",
        "\n",
        "# data handler libraries\n",
        "import pandas as pd\n",
        "import numpy as np\n",
        "import geopandas as gp\n",
        "\n",
        "# efficient queueing library\n",
        "import heapq\n",
        "\n",
        "# graph library\n",
        "import networkx as nx\n",
        "\n",
        "# visualisation libraries\n",
        "import plotly.express as px\n",
        "import plotly.graph_objects as go\n",
        "\n",
        "# misc\n",
        "import itertools\n",
        "from urllib.request import urlretrieve\n",
        "from tqdm import tqdm\n",
        "import pycountry\n",
        "import os\n",
        "\n",
        "base_download_url = 'https://bbmaps.itu.int/geonetwork/srv/api/records/884b4f42-2d49-4622-b1d8-e6285bf46c7f/attachments/'"
      ]
    },
    {
      "cell_type": "markdown",
      "metadata": {
        "id": "8PAMhst_1JSk"
      },
      "source": [
        "## Input parameters"
      ]
    },
    {
      "cell_type": "code",
      "execution_count": null,
      "metadata": {
        "cellView": "form",
        "colab": {
          "base_uri": "https://localhost:8080/",
          "height": 113,
          "referenced_widgets": [
            "dbcb588af55241f396b88e75c887d399",
            "5e283e36c8724dc1ba70dd854e3d8d80",
            "16210811b7864fe7924ff7f086825a80",
            "5cdf55f299be445db515c9b9271f3e26",
            "92af6ce2dcbb4a6f985e77706ff07967",
            "6ba0ab6bdd3f4cd482325b3e0713117c",
            "607339f88b51427ebb9518a2ccb36f09",
            "1e7e10446aba4e378d8e4a390fd15ee2",
            "1ded3b6f1bd74cf18a2c3442fe0ce87c",
            "85ac928b3f87447ea5a61c0c7042e73a",
            "ddd3bae0bf9f4208a8333b56b1633928",
            "bcb68a669be24f9d901b4b7d7c2b69db",
            "ab126a6c73da451fab4dd7a0fe238be8",
            "eff5874a824343168ce0db50552025c6",
            "375986d0c75541909b3739bfa87e0fd1",
            "a910f638ff474b308bb9cfb18d66b22f"
          ]
        },
        "executionInfo": {
          "elapsed": 280,
          "status": "ok",
          "timestamp": 1686859338207,
          "user": {
            "displayName": "Utku Can Ozturk",
            "userId": "13276833277571537087"
          },
          "user_tz": -180
        },
        "gather": {
          "logged": 1710165569408
        },
        "id": "j5bSTAko0Szd",
        "outputId": "12b5b15f-e27f-49ee-d39a-29de730e4afe"
      },
      "outputs": [],
      "source": [
        "# Define the layout for the input fields\n",
        "item_layout = widgets.Layout(\n",
        "    width='auto',\n",
        "    min_width='20px',\n",
        "    flex='1 1 auto',\n",
        "    display='flex',\n",
        "    flex_flow='row wrap',\n",
        "    align_items='center',  # Align items vertically in the middle\n",
        "    justify_content='space-between'\n",
        ")\n",
        "\n",
        "item_layout2 = widgets.Layout(\n",
        "    width='auto',\n",
        "    min_width='20px',\n",
        "    flex='1 1',\n",
        "    display='flex',\n",
        "    flex_flow='row wrap',\n",
        "    align_items='center',  # Align items vertically in the middle\n",
        "    justify_content='space-between'\n",
        ")\n",
        "\n",
        "# Create the input fields\n",
        "country = widgets.Dropdown(\n",
        "    description='Country:',\n",
        "    options=list(map(lambda x: x.name, pycountry.countries)),\n",
        "    value='Brazil',\n",
        "    layout=item_layout2,\n",
        "    style={'description_width': 'initial'}\n",
        ")\n",
        "\n",
        "municipality_code = widgets.Text(\n",
        "    value='1504059',\n",
        "    description='Municipaliy code:',\n",
        "    layout=item_layout2,\n",
        "    style={'description_width': 'initial'}\n",
        ")\n",
        "\n",
        "maximum_connection_length = widgets.FloatSlider(\n",
        "    description='Maximum Connection Length:',\n",
        "    min=0,\n",
        "    max=100,\n",
        "    step=1,\n",
        "    value=15,\n",
        "    layout=item_layout,\n",
        "    style={'description_width': 'initial'}\n",
        ")\n",
        "\n",
        "# Create a container to hold the input fields\n",
        "inputs_layout = widgets.VBox(\n",
        "    children=[\n",
        "        widgets.HBox([country], layout=widgets.Layout(justify_content='space-between')),\n",
        "        widgets.HBox([municipality_code], layout=widgets.Layout(justify_content='space-between')),\n",
        "        widgets.HBox([maximum_connection_length], layout=widgets.Layout(justify_content='space-between')),\n",
        "        #widgets.HBox([max_tower_reach, n_visible], layout=widgets.Layout(justify_content='space-between'))\n",
        "    ]\n",
        ")\n",
        "\n",
        "# Display the input fields\n",
        "display(inputs_layout)\n"
      ]
    },
    {
      "cell_type": "markdown",
      "metadata": {
        "id": "TI9ES8rW1Nd3"
      },
      "source": [
        "## Download & Initialize school dataset"
      ]
    },
    {
      "cell_type": "code",
      "execution_count": null,
      "metadata": {
        "gather": {
          "logged": 1710165580058
        },
        "id": "4DRBKLB61L6_"
      },
      "outputs": [],
      "source": [
        "# Downloading school data from url\n",
        "def download_entity_dataset(base_url, entity_type, country_name, administrative_division_code):\n",
        "  \"\"\"\n",
        "  Downloads a dataset for a specific entity type and location.\n",
        "\n",
        "  Args:\n",
        "      base_url (str): The base URL where the dataset files are stored.\n",
        "      entity_type (str): The type of entity to download the dataset for.\n",
        "      country_name (str): The name of the country where the entity is located.\n",
        "      administrative_division_code (str): The administrative division code for the entity.\n",
        "\n",
        "  Returns:\n",
        "      str: The filename of the downloaded dataset.\n",
        "\n",
        "  Raises:\n",
        "      pycountry.LookupError: If the country name is not recognized.\n",
        "\n",
        "  \"\"\"\n",
        "  # Get the country code from the country name\n",
        "  country_code = pycountry.countries.get(name = country.value).alpha_3\n",
        "\n",
        "  # Construct the filename for the dataset\n",
        "  entity_filename = f'{country_code.lower()}_{administrative_division_code}_{entity_type}.parquet'\n",
        "\n",
        "  # Download the dataset file\n",
        "  urlretrieve(base_url + entity_filename, entity_filename)\n",
        "\n",
        "  # Return the filename of the downloaded dataset\n",
        "  return entity_filename\n",
        "\n",
        "\n",
        "# Reading school data from a file into a python data table\n",
        "def read_file(file_path):\n",
        "    \"\"\"\n",
        "    Read a file from the data directory.\n",
        "\n",
        "    Args:\n",
        "        file_name (str): The name of the file to read.\n",
        "\n",
        "    Returns:\n",
        "        pd.DataFrame or gp.GeoDataFrame: The data read from the file.\n",
        "    \"\"\"\n",
        "    suffix = os.path.splitext(file_path)[1]\n",
        "\n",
        "    assert os.path.exists(file_path), f'{file_path} cannot be found in the data directory!'\n",
        "\n",
        "    if suffix == '.csv':\n",
        "        return pd.read_csv(file_path)\n",
        "    elif suffix == '.xlsx' or suffix == '.xls':\n",
        "        return pd.read_excel(file_path, engine = 'openpyxl')\n",
        "    elif suffix == '.shp' or suffix == '.zip':\n",
        "        return gp.read_file(file_path)\n",
        "    elif suffix == '.parquet':\n",
        "        try:\n",
        "          return gp.read_parquet(file_path)\n",
        "        except:\n",
        "          return pd.read_parquet(file_path)\n",
        "    elif suffix == '.geoparquet':\n",
        "        return gp.read_parquet(file_path)\n",
        "    elif suffix == '.json':\n",
        "        return pd.read_json(file_path)\n",
        "    elif suffix == '.geojson':\n",
        "        return gp.read_file(file_path)\n",
        "    elif suffix == '.gpkg':\n",
        "        return gp.read_file(file_path)\n",
        "    else:\n",
        "        raise ValueError(f\"Unsupported file type: {suffix}\")"
      ]
    },
    {
      "cell_type": "code",
      "execution_count": null,
      "metadata": {
        "gather": {
          "logged": 1710165583399
        },
        "id": "d4yXYWw21VW3"
      },
      "outputs": [],
      "source": [
        "file_name_school = download_entity_dataset(base_download_url, 'school', country.value, municipality_code.value)"
      ]
    },
    {
      "cell_type": "code",
      "execution_count": null,
      "metadata": {
        "colab": {
          "base_uri": "https://localhost:8080/",
          "height": 314
        },
        "executionInfo": {
          "elapsed": 461,
          "status": "ok",
          "timestamp": 1686859395758,
          "user": {
            "displayName": "Utku Can Ozturk",
            "userId": "13276833277571537087"
          },
          "user_tz": -180
        },
        "gather": {
          "logged": 1710165585290
        },
        "id": "FOZT-Mrs92OU",
        "outputId": "741b4e9d-4a14-4343-9b21-5bb74c5f2089"
      },
      "outputs": [],
      "source": [
        "df_school = read_file(file_name_school)\n",
        "#data_table.DataTable(df_school, num_rows_per_page=10)\n",
        "df_school.head(10)"
      ]
    },
    {
      "cell_type": "markdown",
      "metadata": {
        "id": "M0r1PnVS94kC"
      },
      "source": [
        "## Download & Initialize fiber node dataset"
      ]
    },
    {
      "cell_type": "code",
      "execution_count": null,
      "metadata": {
        "gather": {
          "logged": 1710165587945
        },
        "id": "qw3dil411YrX"
      },
      "outputs": [],
      "source": [
        "file_name_fibernode = download_entity_dataset(base_download_url, 'fibernode', country.value, municipality_code.value)"
      ]
    },
    {
      "cell_type": "code",
      "execution_count": null,
      "metadata": {
        "colab": {
          "base_uri": "https://localhost:8080/",
          "height": 314
        },
        "executionInfo": {
          "elapsed": 295,
          "status": "ok",
          "timestamp": 1686859443429,
          "user": {
            "displayName": "Utku Can Ozturk",
            "userId": "13276833277571537087"
          },
          "user_tz": -180
        },
        "gather": {
          "logged": 1710165589510
        },
        "id": "Qnwkgsde-BOW",
        "outputId": "3adfbd2d-1b82-42c0-bf8a-f2b7583247c5"
      },
      "outputs": [],
      "source": [
        "df_fibernode = read_file(file_name_fibernode)\n",
        "#data_table.DataTable(df_fibernode, num_rows_per_page=10)\n",
        "df_fibernode.head(10)"
      ]
    },
    {
      "cell_type": "markdown",
      "metadata": {
        "id": "QHbJVX6s-HGs"
      },
      "source": [
        "#### Concatenate school and fibernode dataset"
      ]
    },
    {
      "cell_type": "code",
      "execution_count": null,
      "metadata": {
        "gather": {
          "logged": 1710165592779
        },
        "id": "7XAxW2vk1jMQ"
      },
      "outputs": [],
      "source": [
        "# concatenate school and fiber node data\n",
        "df_locations = pd.concat([df_school, df_fibernode])\n",
        "\n",
        "# extract connected index\n",
        "connected_idx = df_locations.loc[df_locations.label != 'unconnected_school'].index\n",
        "unconnected_idx = df_locations.loc[df_locations.label == 'unconnected_school'].index"
      ]
    },
    {
      "cell_type": "markdown",
      "metadata": {
        "id": "-i7KXUWE106Y"
      },
      "source": [
        "## Create Line of Sight (LOS) Graph"
      ]
    },
    {
      "cell_type": "code",
      "execution_count": null,
      "metadata": {
        "gather": {
          "logged": 1710165595856
        },
        "id": "wKM98INB1vob"
      },
      "outputs": [],
      "source": [
        "def haversine_(lats, lons, R = 6371.0, upper_tri = False):\n",
        "\n",
        "    \"\"\"\n",
        "    Calculate the great circle distance between two points\n",
        "    on the earth (specified in decimal degrees) using the\n",
        "    Haversine formula.\n",
        "\n",
        "    Parameters\n",
        "    ----------\n",
        "    lats, lons: array-like\n",
        "        Arrays of latitudes and longitudes of the two points.\n",
        "        Each array should have shape (2,) where the first element\n",
        "        is the latitude and the second element is the longitude.\n",
        "    upper_tri : bool, optional\n",
        "        If True, returns the distance matrix in upper triangular form.\n",
        "        Default is False.\n",
        "    R : float, optional\n",
        "        Radius of the earth in kilometers. Default is 6371.0 km.\n",
        "\n",
        "    Returns\n",
        "    -------\n",
        "    ndarray\n",
        "        The distance matrix between the points in kilometers.\n",
        "        If `upper_tri` is True, returns the upper triangular form of the matrix.\n",
        "\n",
        "    \"\"\"\n",
        "\n",
        "    # Convert latitudes and longitudes to radians\n",
        "    lat_rads = np.radians(lats)\n",
        "    lon_rads = np.radians(lons)\n",
        "\n",
        "    # Compute pairwise haversine distances using broadcasting\n",
        "    dlat = lat_rads[:, np.newaxis] - lat_rads[np.newaxis, :]\n",
        "    dlon = lon_rads[:, np.newaxis] - lon_rads[np.newaxis, :]\n",
        "    a = np.sin(dlat / 2) ** 2 + np.cos(lat_rads[:, np.newaxis]) * np.cos(lat_rads[np.newaxis, :]) * np.sin(dlon / 2) ** 2\n",
        "    c = 2 * np.arctan2(np.sqrt(a), np.sqrt(1 - a))\n",
        "    distances = R * c\n",
        "\n",
        "    if upper_tri:\n",
        "        i_upper = np.triu_indices(distances.shape[0], k=1)\n",
        "        distances = distances[i_upper]\n",
        "\n",
        "    return distances\n",
        "\n",
        "\n",
        "def generate_all_index_pairs(vals):\n",
        "    \"\"\"\n",
        "    Generates all possible pairs of indices from a list of values.\n",
        "\n",
        "    Args:\n",
        "        vals (list): The list of values.\n",
        "\n",
        "    Returns:\n",
        "        tuple: A tuple containing two lists, where the first list represents the original nodes\n",
        "               and the second list represents the destination nodes.\n",
        "\n",
        "    \"\"\"\n",
        "    # Generate all combinations of indices from the list of values\n",
        "    ind = itertools.combinations(vals, 2)\n",
        "\n",
        "    # Unzip the combinations into separate lists for original nodes and destination nodes\n",
        "    orig_nodes, dest_nodes = zip(*ind)\n",
        "\n",
        "    # Return the lists of original nodes and destination nodes\n",
        "    return orig_nodes, dest_nodes\n",
        "\n",
        "\n",
        "def create_line_of_sight_graph(locations):\n",
        "    \"\"\"\n",
        "    Creates a line of sight graph based on the locations.\n",
        "\n",
        "    Args:\n",
        "        locations (DataFrame): A DataFrame containing location data.\n",
        "\n",
        "    Returns:\n",
        "        networkx.Graph: The line of sight graph.\n",
        "\n",
        "    \"\"\"\n",
        "    # Generate all index pairs for origin and destination nodes\n",
        "    orig_nodes, dest_nodes = generate_all_index_pairs(locations.index)\n",
        "\n",
        "    # Compute geodesic distances for all index pairs using haversine formula\n",
        "    distances = haversine_(locations.lat.to_numpy(), locations.lon.to_numpy(), upper_tri=True) * 1000\n",
        "\n",
        "    # Initialize a networkx graph\n",
        "    graph = nx.Graph()\n",
        "\n",
        "    # Add weighted edges to the graph using the original nodes, destination nodes, and distances\n",
        "    graph.add_weighted_edges_from(zip(orig_nodes, dest_nodes, distances))\n",
        "\n",
        "    # Return the line of sight graph\n",
        "    return graph"
      ]
    },
    {
      "cell_type": "code",
      "execution_count": null,
      "metadata": {
        "gather": {
          "logged": 1710165600355
        },
        "id": "2EKsFog22AJK"
      },
      "outputs": [],
      "source": [
        "graph = create_line_of_sight_graph(df_locations)"
      ]
    },
    {
      "cell_type": "markdown",
      "metadata": {
        "id": "OJsYfVem5Ucm"
      },
      "source": [
        "## Connect unconnected schools"
      ]
    },
    {
      "cell_type": "code",
      "execution_count": null,
      "metadata": {
        "gather": {
          "logged": 1710165603772
        },
        "id": "q19YQ84D7XUo"
      },
      "outputs": [],
      "source": [
        "def connect_schools(locations, connected_idx, max_connection_length, graph_):\n",
        "\n",
        "    \"\"\"\n",
        "    Connects unconnected schools to the nearest connected school dynamically using the given graph.\n",
        "    Returns a dictionary containing the fiber path information for each school.\n",
        "\n",
        "    Args:\n",
        "    locations : DataFrame of all locations where the index is the location identifier.\n",
        "    connected_idx: List of index that are either fiber node or point connected with fiber.\n",
        "    max_connection_length: Maximum length of cable that can be used to connect unconnected location.\n",
        "    graph_ : Networkx graph object representing the line of sight graph.\n",
        "\n",
        "    Returns:\n",
        "    fiber_path_dict (dict): Dictionary containing the fiber path and other information for each school that is connected to the network.\n",
        "                            Keys are school/node indices, values are dictionaries containing:\n",
        "                            - closest_node_id: ID of the closest fiber node to the school.\n",
        "                            - closest_node_distance: Distance between the school and the closest fiber node.\n",
        "                            - connected_node_id: ID of the fiber node to which the school is connected.\n",
        "                            - connected_node_distance: Distance between the school and the fiber node to which it is connected.\n",
        "                            - upstream_node_id: ID of the upstream connected node in the network.\n",
        "                            - upstream_node_distance: Distance between the school and the upstream connected node.\n",
        "                            - fiber_path: List of node IDs representing the fiber path from the connected node to the closest fiber node to the school.\n",
        "    \"\"\"\n",
        "\n",
        "\n",
        "    # Get sets of connected and unconnected school indices\n",
        "    connected_idx_cache = connected_idx\n",
        "    connected_idx = set(connected_idx)\n",
        "    unconnected_idx = set(locations.index) - connected_idx\n",
        "\n",
        "    # Generate combinations of unconnected and connected school indices\n",
        "    ind = itertools.product(unconnected_idx, connected_idx)\n",
        "    orig_nodes, dest_nodes = zip(*ind)\n",
        "\n",
        "    # Compute shortest path lengths between each pair of unconnected and connected schools\n",
        "    sp_lengths = []\n",
        "    for orig_node, dest_node in zip(orig_nodes, dest_nodes):\n",
        "      sp_lengths = sp_lengths + [nx.shortest_path_length(graph_, orig_node, dest_node, weight = 'weight')]\n",
        "\n",
        "    # Compute distances from each unconnected school to the closest connected school\n",
        "    dist_to_connected = np.array(sp_lengths).reshape(len(unconnected_idx), len(connected_idx))\n",
        "    closest_connected_id = connected_idx_cache[np.argmin(dist_to_connected, axis=1)]\n",
        "    closest_connected_distance = np.min(dist_to_connected, axis=1)\n",
        "\n",
        "    # Create a dictionary to store the fiber path information for each school\n",
        "    fiber_path_dict = dict.fromkeys(locations.index)\n",
        "\n",
        "    # Initialize the fiber path information for each connected school\n",
        "    fiber_path_dict.update({idx:\n",
        "                            dict(\n",
        "                                closest_node_id = idx,\n",
        "                                closest_node_distance = 0,\n",
        "                                connected_node_id = idx,\n",
        "                                connected_node_distance = 0,\n",
        "                                fiber_path = []\n",
        "                            ) for idx in connected_idx})\n",
        "\n",
        "    # Initialize the fiber path information for each unconnected school\n",
        "    fiber_path_dict.update([(idx,\n",
        "                dict(\n",
        "                    closest_node_id = closest_connected_id[i],\n",
        "                    closest_node_distance = closest_connected_distance[i],\n",
        "                    connected_node_id = '',\n",
        "                    connected_node_distance =0,\n",
        "                    fiber_path = []\n",
        "                )\n",
        "            ) for i, idx in enumerate(unconnected_idx)])\n",
        "\n",
        "    # Create a priority queue to store candidate fiber connections\n",
        "    queue = []\n",
        "\n",
        "    # Add all pairs of unconnected and connected schools with distances below the max connection length to the queue\n",
        "    for d_ in zip(sp_lengths, orig_nodes, dest_nodes):\n",
        "        if d_[0] <= max_connection_length:\n",
        "            heapq.heappush(queue, d_)\n",
        "\n",
        "    # Iterate over the candidate fiber connections until all unconnected schools are connected\n",
        "    while queue:\n",
        "        # Pop the fiber connection with the smallest distance\n",
        "        min_dist, min_node, upstream_node = heapq.heappop(queue)\n",
        "\n",
        "        # Skip the connection if the minimum node is already connected\n",
        "        if min_node in connected_idx:\n",
        "            continue\n",
        "\n",
        "        # Add the minimum node to the connected set if the distance is below the max connection length\n",
        "        if min_dist <= max_connection_length:\n",
        "            connected_idx.add(min_node)\n",
        "            unconnected_idx.remove(min_node)\n",
        "\n",
        "            # Update the fiber path information for the minimum node\n",
        "            fiber_path_dict[min_node].update(\n",
        "                connected_node_id = fiber_path_dict[upstream_node]['connected_node_id'],\n",
        "                connected_node_distance = '',\n",
        "                upstream_node_id = upstream_node,\n",
        "                upstream_node_distance = min_dist,\n",
        "                fiber_path = fiber_path_dict[upstream_node]['fiber_path'] + [upstream_node]\n",
        "            )\n",
        "\n",
        "            # Exit the loop if all schools are connected\n",
        "            if len(unconnected_idx) == 0:\n",
        "                break\n",
        "\n",
        "            # Add new candidate fiber connections to the queue for the newly connected node\n",
        "            ind = itertools.product(unconnected_idx, [min_node])\n",
        "            orig_nodes, dest_nodes = zip(*ind)\n",
        "\n",
        "            new_sp_lengths = []\n",
        "            for orig_node, dest_node in zip(orig_nodes, dest_nodes):\n",
        "              new_sp_lengths = new_sp_lengths + [nx.shortest_path_length(graph, orig_node, dest_node, weight = 'weight')]\n",
        "\n",
        "            for d_ in zip(new_sp_lengths, orig_nodes, dest_nodes):\n",
        "                if d_[0] <= max_connection_length:\n",
        "                    heapq.heappush(queue, d_)\n",
        "\n",
        "    return fiber_path_dict, connected_idx\n",
        "\n"
      ]
    },
    {
      "cell_type": "code",
      "execution_count": null,
      "metadata": {
        "gather": {
          "logged": 1710165620706
        },
        "id": "4zB0JQI47mzX"
      },
      "outputs": [],
      "source": [
        "fiber_path_dict, fiber_path_connected_idx = connect_schools(df_locations, connected_idx, maximum_connection_length.value*1000, graph)"
      ]
    },
    {
      "cell_type": "code",
      "execution_count": null,
      "metadata": {
        "colab": {
          "base_uri": "https://localhost:8080/",
          "height": 637
        },
        "executionInfo": {
          "elapsed": 386,
          "status": "ok",
          "timestamp": 1686831577582,
          "user": {
            "displayName": "Utku Can Ozturk",
            "userId": "13276833277571537087"
          },
          "user_tz": -180
        },
        "gather": {
          "logged": 1710165622508
        },
        "id": "SF11uyQ5-Day",
        "outputId": "ac63115e-3ca1-4bcf-e6ef-b8f0f93bf87d"
      },
      "outputs": [],
      "source": [
        "#data_table.DataTable(pd.DataFrame(fiber_path_dict.values(), fiber_path_dict.keys()), num_rows_per_page=25)\n",
        "df = pd.DataFrame(list(fiber_path_dict.values()), index=fiber_path_dict.keys())\n",
        "df.head(25)\n",
        "\n"
      ]
    },
    {
      "cell_type": "markdown",
      "metadata": {
        "id": "9cctUDe-AKp_"
      },
      "source": [
        "## Visualise fiber path\n",
        "\n"
      ]
    },
    {
      "cell_type": "code",
      "execution_count": null,
      "metadata": {
        "gather": {
          "logged": 1710165625144
        },
        "id": "MPl3a4ZbPMSo"
      },
      "outputs": [],
      "source": [
        "mapbox_token = 'pk.eyJ1IjoiZGFpZ2VsZSIsImEiOiJjbHRuMDN5aGgwMWdqMmxwOHR0Nmh5MXhhIn0.iwKIRhYpmQ_arHn8qWOlwQ'"
      ]
    },
    {
      "cell_type": "markdown",
      "metadata": {
        "id": "mueRvOUBPSSF"
      },
      "source": [
        "> The following cell contains plot function definition. You have to run it befor executing the code in the next cells. Also, please do not forget to put your mapbox access token into above cell."
      ]
    },
    {
      "cell_type": "code",
      "execution_count": null,
      "metadata": {
        "cellView": "form",
        "gather": {
          "logged": 1710165672349
        },
        "id": "xMmtWXesAKSj"
      },
      "outputs": [],
      "source": [
        "#@title\n",
        "def plot_locations(locations, zoom = 10):\n",
        "\n",
        "    config = dict(\n",
        "        fiber_node = dict(\n",
        "            label = 'Fiber node',\n",
        "            marker = dict(\n",
        "                color = 'rgba(139, 212, 50,1)',\n",
        "            )\n",
        "        ),\n",
        "        connected_school = dict(\n",
        "            label = 'Connected school',\n",
        "            marker = dict(\n",
        "                color = 'rgba(84, 111, 194,1)',\n",
        "            )\n",
        "        ),\n",
        "        unconnected_school = dict(\n",
        "            label = 'Unconnected school',\n",
        "            marker = dict(\n",
        "                color = 'rgba(255, 97, 91, 1)',\n",
        "            )\n",
        "        ),\n",
        "        celltower = dict(\n",
        "            label = 'Cell tower',\n",
        "            marker = dict(\n",
        "                color = 'rgba(255, 201, 61, 1)'\n",
        "            )\n",
        "        )\n",
        "    )\n",
        "\n",
        "    fig = go.Figure()\n",
        "\n",
        "    for label in locations.label.unique():\n",
        "        df = locations.loc[locations.label == label]\n",
        "\n",
        "        fig.add_trace(\n",
        "            go.Scattermapbox(\n",
        "                lat = df.lat,\n",
        "                lon = df.lon,\n",
        "                customdata=np.stack((df.index, list(map(lambda x: config[x]['label'], df.label))), axis=-1),\n",
        "                mode = 'markers',\n",
        "                name = config[label]['label'],\n",
        "                visible = True,\n",
        "                marker = config[label]['marker'],\n",
        "                hoverinfo = 'text',\n",
        "                hovertemplate = '<b>Source ID:</b> %{customdata[0]}<br>'\n",
        "                                '<b>Label:</b> %{customdata[1]}'\n",
        "                                '<extra></extra>'\n",
        "            )\n",
        "        )\n",
        "    #   General Map Styles\n",
        "    fig.update_layout(\n",
        "        margin = dict(l=10, r=10, t=10, b=10, pad=5),\n",
        "        plot_bgcolor = '#161515',\n",
        "        paper_bgcolor = '#161515',\n",
        "        clickmode = 'event+select',\n",
        "        hovermode = 'closest',\n",
        "        showlegend = True,\n",
        "        legend = dict(\n",
        "            x = 0,\n",
        "            y = 1,\n",
        "            font = dict(\n",
        "                color = 'white'\n",
        "            ),\n",
        "            orientation = 'v',\n",
        "            bgcolor = 'rgba(0,0,0,0)'\n",
        "        ),\n",
        "        mapbox = go.layout.Mapbox(\n",
        "            accesstoken = mapbox_token,\n",
        "            bearing = 0,\n",
        "            center=go.layout.mapbox.Center(\n",
        "                lat=locations.lat.mean(), lon=locations.lon.mean()\n",
        "            ),\n",
        "            pitch = 5,\n",
        "            zoom = zoom,\n",
        "            style = 'mapbox://styles/daigele/clizq8ugr00sn01p75chs6zgv',\n",
        "        ),\n",
        "    )\n",
        "\n",
        "    return fig"
      ]
    },
    {
      "cell_type": "code",
      "execution_count": null,
      "metadata": {
        "gather": {
          "logged": 1710165676324
        },
        "id": "rd8UC2wQAobc"
      },
      "outputs": [],
      "source": [
        "fig = plot_locations(df_locations)"
      ]
    },
    {
      "cell_type": "code",
      "execution_count": null,
      "metadata": {
        "colab": {
          "base_uri": "https://localhost:8080/",
          "height": 542
        },
        "executionInfo": {
          "elapsed": 307,
          "status": "ok",
          "timestamp": 1686860171277,
          "user": {
            "displayName": "Utku Can Ozturk",
            "userId": "13276833277571537087"
          },
          "user_tz": -180
        },
        "gather": {
          "logged": 1710165677806
        },
        "id": "rB7c5I7SArwa",
        "outputId": "f913ae87-0ec6-48fb-b57f-efa6d520d2f2"
      },
      "outputs": [],
      "source": [
        "for loc_ in pd.DataFrame(fiber_path_dict.values(), fiber_path_dict.keys()).itertuples():\n",
        "  if loc_.upstream_node_id == loc_.upstream_node_id:\n",
        "    loc_data = df_locations.loc[loc_.Index]\n",
        "    ups_node_data = df_locations.loc[loc_.upstream_node_id]\n",
        "\n",
        "    fig.add_trace(\n",
        "        go.Scattermapbox(\n",
        "            mode='lines',\n",
        "            lat=[loc_data.lat, ups_node_data.lat],\n",
        "            lon=[loc_data.lon, ups_node_data.lon],\n",
        "            customdata = np.stack(([loc_data.name], [ups_node_data.name], [loc_.upstream_node_distance]), axis = -1),\n",
        "            line=dict(width=2, color='orange'),\n",
        "            showlegend = False,\n",
        "            #name= f'{loc_data.name}-{ups_node_data.name}: {loc_.upstream_node_distance}',\n",
        "            hoverinfo = 'text',\n",
        "            hovertemplate = '<b>u:</b> %{customdata[0]}<br>'\n",
        "                            '<b>v:</b> %{customdata[1]}<br>'\n",
        "                            '<b>Length:</b> %{customdata[2]}'\n",
        "                            '<extra></extra>'\n",
        "        )\n",
        "    )\n",
        "fig"
      ]
    }
  ],
  "metadata": {
    "colab": {
      "provenance": []
    },
    "kernel_info": {
      "name": "daigele-env"
    },
    "kernelspec": {
      "display_name": "Daigele Environment)",
      "language": "python",
      "name": "daigele-env"
    },
    "language_info": {
      "codemirror_mode": {
        "name": "ipython",
        "version": 3
      },
      "file_extension": ".py",
      "mimetype": "text/x-python",
      "name": "python",
      "nbconvert_exporter": "python",
      "pygments_lexer": "ipython3",
      "version": "3.12.2"
    },
    "microsoft": {
      "host": {
        "AzureML": {
          "notebookHasBeenCompleted": true
        }
      },
      "ms_spell_check": {
        "ms_spell_check_language": "en"
      }
    },
    "nteract": {
      "version": "nteract-front-end@1.0.0"
    },
    "widgets": {
      "application/vnd.jupyter.widget-state+json": {
        "16210811b7864fe7924ff7f086825a80": {
          "model_module": "@jupyter-widgets/controls",
          "model_module_version": "1.5.0",
          "model_name": "HBoxModel",
          "state": {
            "_dom_classes": [],
            "_model_module": "@jupyter-widgets/controls",
            "_model_module_version": "1.5.0",
            "_model_name": "HBoxModel",
            "_view_count": null,
            "_view_module": "@jupyter-widgets/controls",
            "_view_module_version": "1.5.0",
            "_view_name": "HBoxView",
            "box_style": "",
            "children": [
              "IPY_MODEL_1e7e10446aba4e378d8e4a390fd15ee2"
            ],
            "layout": "IPY_MODEL_1ded3b6f1bd74cf18a2c3442fe0ce87c"
          }
        },
        "1ded3b6f1bd74cf18a2c3442fe0ce87c": {
          "model_module": "@jupyter-widgets/base",
          "model_module_version": "1.2.0",
          "model_name": "LayoutModel",
          "state": {
            "_model_module": "@jupyter-widgets/base",
            "_model_module_version": "1.2.0",
            "_model_name": "LayoutModel",
            "_view_count": null,
            "_view_module": "@jupyter-widgets/base",
            "_view_module_version": "1.2.0",
            "_view_name": "LayoutView",
            "align_content": null,
            "align_items": null,
            "align_self": null,
            "border": null,
            "bottom": null,
            "display": null,
            "flex": null,
            "flex_flow": null,
            "grid_area": null,
            "grid_auto_columns": null,
            "grid_auto_flow": null,
            "grid_auto_rows": null,
            "grid_column": null,
            "grid_gap": null,
            "grid_row": null,
            "grid_template_areas": null,
            "grid_template_columns": null,
            "grid_template_rows": null,
            "height": null,
            "justify_content": "space-between",
            "justify_items": null,
            "left": null,
            "margin": null,
            "max_height": null,
            "max_width": null,
            "min_height": null,
            "min_width": null,
            "object_fit": null,
            "object_position": null,
            "order": null,
            "overflow": null,
            "overflow_x": null,
            "overflow_y": null,
            "padding": null,
            "right": null,
            "top": null,
            "visibility": null,
            "width": null
          }
        },
        "1e7e10446aba4e378d8e4a390fd15ee2": {
          "model_module": "@jupyter-widgets/controls",
          "model_module_version": "1.5.0",
          "model_name": "TextModel",
          "state": {
            "_dom_classes": [],
            "_model_module": "@jupyter-widgets/controls",
            "_model_module_version": "1.5.0",
            "_model_name": "TextModel",
            "_view_count": null,
            "_view_module": "@jupyter-widgets/controls",
            "_view_module_version": "1.5.0",
            "_view_name": "TextView",
            "continuous_update": true,
            "description": "Municipaliy code:",
            "description_tooltip": null,
            "disabled": false,
            "layout": "IPY_MODEL_bcb68a669be24f9d901b4b7d7c2b69db",
            "placeholder": "​",
            "style": "IPY_MODEL_eff5874a824343168ce0db50552025c6",
            "value": "1504059"
          }
        },
        "375986d0c75541909b3739bfa87e0fd1": {
          "model_module": "@jupyter-widgets/base",
          "model_module_version": "1.2.0",
          "model_name": "LayoutModel",
          "state": {
            "_model_module": "@jupyter-widgets/base",
            "_model_module_version": "1.2.0",
            "_model_name": "LayoutModel",
            "_view_count": null,
            "_view_module": "@jupyter-widgets/base",
            "_view_module_version": "1.2.0",
            "_view_name": "LayoutView",
            "align_content": null,
            "align_items": "center",
            "align_self": null,
            "border": null,
            "bottom": null,
            "display": "flex",
            "flex": "1 1 auto",
            "flex_flow": "row wrap",
            "grid_area": null,
            "grid_auto_columns": null,
            "grid_auto_flow": null,
            "grid_auto_rows": null,
            "grid_column": null,
            "grid_gap": null,
            "grid_row": null,
            "grid_template_areas": null,
            "grid_template_columns": null,
            "grid_template_rows": null,
            "height": null,
            "justify_content": "space-between",
            "justify_items": null,
            "left": null,
            "margin": null,
            "max_height": null,
            "max_width": null,
            "min_height": null,
            "min_width": "20px",
            "object_fit": null,
            "object_position": null,
            "order": null,
            "overflow": null,
            "overflow_x": null,
            "overflow_y": null,
            "padding": null,
            "right": null,
            "top": null,
            "visibility": null,
            "width": "auto"
          }
        },
        "5cdf55f299be445db515c9b9271f3e26": {
          "model_module": "@jupyter-widgets/controls",
          "model_module_version": "1.5.0",
          "model_name": "HBoxModel",
          "state": {
            "_dom_classes": [],
            "_model_module": "@jupyter-widgets/controls",
            "_model_module_version": "1.5.0",
            "_model_name": "HBoxModel",
            "_view_count": null,
            "_view_module": "@jupyter-widgets/controls",
            "_view_module_version": "1.5.0",
            "_view_name": "HBoxView",
            "box_style": "",
            "children": [
              "IPY_MODEL_85ac928b3f87447ea5a61c0c7042e73a"
            ],
            "layout": "IPY_MODEL_ddd3bae0bf9f4208a8333b56b1633928"
          }
        },
        "5e283e36c8724dc1ba70dd854e3d8d80": {
          "model_module": "@jupyter-widgets/controls",
          "model_module_version": "1.5.0",
          "model_name": "HBoxModel",
          "state": {
            "_dom_classes": [],
            "_model_module": "@jupyter-widgets/controls",
            "_model_module_version": "1.5.0",
            "_model_name": "HBoxModel",
            "_view_count": null,
            "_view_module": "@jupyter-widgets/controls",
            "_view_module_version": "1.5.0",
            "_view_name": "HBoxView",
            "box_style": "",
            "children": [
              "IPY_MODEL_6ba0ab6bdd3f4cd482325b3e0713117c"
            ],
            "layout": "IPY_MODEL_607339f88b51427ebb9518a2ccb36f09"
          }
        },
        "607339f88b51427ebb9518a2ccb36f09": {
          "model_module": "@jupyter-widgets/base",
          "model_module_version": "1.2.0",
          "model_name": "LayoutModel",
          "state": {
            "_model_module": "@jupyter-widgets/base",
            "_model_module_version": "1.2.0",
            "_model_name": "LayoutModel",
            "_view_count": null,
            "_view_module": "@jupyter-widgets/base",
            "_view_module_version": "1.2.0",
            "_view_name": "LayoutView",
            "align_content": null,
            "align_items": null,
            "align_self": null,
            "border": null,
            "bottom": null,
            "display": null,
            "flex": null,
            "flex_flow": null,
            "grid_area": null,
            "grid_auto_columns": null,
            "grid_auto_flow": null,
            "grid_auto_rows": null,
            "grid_column": null,
            "grid_gap": null,
            "grid_row": null,
            "grid_template_areas": null,
            "grid_template_columns": null,
            "grid_template_rows": null,
            "height": null,
            "justify_content": "space-between",
            "justify_items": null,
            "left": null,
            "margin": null,
            "max_height": null,
            "max_width": null,
            "min_height": null,
            "min_width": null,
            "object_fit": null,
            "object_position": null,
            "order": null,
            "overflow": null,
            "overflow_x": null,
            "overflow_y": null,
            "padding": null,
            "right": null,
            "top": null,
            "visibility": null,
            "width": null
          }
        },
        "6ba0ab6bdd3f4cd482325b3e0713117c": {
          "model_module": "@jupyter-widgets/controls",
          "model_module_version": "1.5.0",
          "model_name": "DropdownModel",
          "state": {
            "_dom_classes": [],
            "_model_module": "@jupyter-widgets/controls",
            "_model_module_version": "1.5.0",
            "_model_name": "DropdownModel",
            "_options_labels": [
              "Aruba",
              "Afghanistan",
              "Angola",
              "Anguilla",
              "Åland Islands",
              "Albania",
              "Andorra",
              "United Arab Emirates",
              "Argentina",
              "Armenia",
              "American Samoa",
              "Antarctica",
              "French Southern Territories",
              "Antigua and Barbuda",
              "Australia",
              "Austria",
              "Azerbaijan",
              "Burundi",
              "Belgium",
              "Benin",
              "Bonaire, Sint Eustatius and Saba",
              "Burkina Faso",
              "Bangladesh",
              "Bulgaria",
              "Bahrain",
              "Bahamas",
              "Bosnia and Herzegovina",
              "Saint Barthélemy",
              "Belarus",
              "Belize",
              "Bermuda",
              "Bolivia, Plurinational State of",
              "Brazil",
              "Barbados",
              "Brunei Darussalam",
              "Bhutan",
              "Bouvet Island",
              "Botswana",
              "Central African Republic",
              "Canada",
              "Cocos (Keeling) Islands",
              "Switzerland",
              "Chile",
              "China",
              "Côte d'Ivoire",
              "Cameroon",
              "Congo, The Democratic Republic of the",
              "Congo",
              "Cook Islands",
              "Colombia",
              "Comoros",
              "Cabo Verde",
              "Costa Rica",
              "Cuba",
              "Curaçao",
              "Christmas Island",
              "Cayman Islands",
              "Cyprus",
              "Czechia",
              "Germany",
              "Djibouti",
              "Dominica",
              "Denmark",
              "Dominican Republic",
              "Algeria",
              "Ecuador",
              "Egypt",
              "Eritrea",
              "Western Sahara",
              "Spain",
              "Estonia",
              "Ethiopia",
              "Finland",
              "Fiji",
              "Falkland Islands (Malvinas)",
              "France",
              "Faroe Islands",
              "Micronesia, Federated States of",
              "Gabon",
              "United Kingdom",
              "Georgia",
              "Guernsey",
              "Ghana",
              "Gibraltar",
              "Guinea",
              "Guadeloupe",
              "Gambia",
              "Guinea-Bissau",
              "Equatorial Guinea",
              "Greece",
              "Grenada",
              "Greenland",
              "Guatemala",
              "French Guiana",
              "Guam",
              "Guyana",
              "Hong Kong",
              "Heard Island and McDonald Islands",
              "Honduras",
              "Croatia",
              "Haiti",
              "Hungary",
              "Indonesia",
              "Isle of Man",
              "India",
              "British Indian Ocean Territory",
              "Ireland",
              "Iran, Islamic Republic of",
              "Iraq",
              "Iceland",
              "Israel",
              "Italy",
              "Jamaica",
              "Jersey",
              "Jordan",
              "Japan",
              "Kazakhstan",
              "Kenya",
              "Kyrgyzstan",
              "Cambodia",
              "Kiribati",
              "Saint Kitts and Nevis",
              "Korea, Republic of",
              "Kuwait",
              "Lao People's Democratic Republic",
              "Lebanon",
              "Liberia",
              "Libya",
              "Saint Lucia",
              "Liechtenstein",
              "Sri Lanka",
              "Lesotho",
              "Lithuania",
              "Luxembourg",
              "Latvia",
              "Macao",
              "Saint Martin (French part)",
              "Morocco",
              "Monaco",
              "Moldova, Republic of",
              "Madagascar",
              "Maldives",
              "Mexico",
              "Marshall Islands",
              "North Macedonia",
              "Mali",
              "Malta",
              "Myanmar",
              "Montenegro",
              "Mongolia",
              "Northern Mariana Islands",
              "Mozambique",
              "Mauritania",
              "Montserrat",
              "Martinique",
              "Mauritius",
              "Malawi",
              "Malaysia",
              "Mayotte",
              "Namibia",
              "New Caledonia",
              "Niger",
              "Norfolk Island",
              "Nigeria",
              "Nicaragua",
              "Niue",
              "Netherlands",
              "Norway",
              "Nepal",
              "Nauru",
              "New Zealand",
              "Oman",
              "Pakistan",
              "Panama",
              "Pitcairn",
              "Peru",
              "Philippines",
              "Palau",
              "Papua New Guinea",
              "Poland",
              "Puerto Rico",
              "Korea, Democratic People's Republic of",
              "Portugal",
              "Paraguay",
              "Palestine, State of",
              "French Polynesia",
              "Qatar",
              "Réunion",
              "Romania",
              "Russian Federation",
              "Rwanda",
              "Saudi Arabia",
              "Sudan",
              "Senegal",
              "Singapore",
              "South Georgia and the South Sandwich Islands",
              "Saint Helena, Ascension and Tristan da Cunha",
              "Svalbard and Jan Mayen",
              "Solomon Islands",
              "Sierra Leone",
              "El Salvador",
              "San Marino",
              "Somalia",
              "Saint Pierre and Miquelon",
              "Serbia",
              "South Sudan",
              "Sao Tome and Principe",
              "Suriname",
              "Slovakia",
              "Slovenia",
              "Sweden",
              "Eswatini",
              "Sint Maarten (Dutch part)",
              "Seychelles",
              "Syrian Arab Republic",
              "Turks and Caicos Islands",
              "Chad",
              "Togo",
              "Thailand",
              "Tajikistan",
              "Tokelau",
              "Turkmenistan",
              "Timor-Leste",
              "Tonga",
              "Trinidad and Tobago",
              "Tunisia",
              "Turkey",
              "Tuvalu",
              "Taiwan, Province of China",
              "Tanzania, United Republic of",
              "Uganda",
              "Ukraine",
              "United States Minor Outlying Islands",
              "Uruguay",
              "United States",
              "Uzbekistan",
              "Holy See (Vatican City State)",
              "Saint Vincent and the Grenadines",
              "Venezuela, Bolivarian Republic of",
              "Virgin Islands, British",
              "Virgin Islands, U.S.",
              "Viet Nam",
              "Vanuatu",
              "Wallis and Futuna",
              "Samoa",
              "Yemen",
              "South Africa",
              "Zambia",
              "Zimbabwe"
            ],
            "_view_count": null,
            "_view_module": "@jupyter-widgets/controls",
            "_view_module_version": "1.5.0",
            "_view_name": "DropdownView",
            "description": "Country:",
            "description_tooltip": null,
            "disabled": false,
            "index": 32,
            "layout": "IPY_MODEL_bcb68a669be24f9d901b4b7d7c2b69db",
            "style": "IPY_MODEL_ab126a6c73da451fab4dd7a0fe238be8"
          }
        },
        "85ac928b3f87447ea5a61c0c7042e73a": {
          "model_module": "@jupyter-widgets/controls",
          "model_module_version": "1.5.0",
          "model_name": "FloatSliderModel",
          "state": {
            "_dom_classes": [],
            "_model_module": "@jupyter-widgets/controls",
            "_model_module_version": "1.5.0",
            "_model_name": "FloatSliderModel",
            "_view_count": null,
            "_view_module": "@jupyter-widgets/controls",
            "_view_module_version": "1.5.0",
            "_view_name": "FloatSliderView",
            "continuous_update": true,
            "description": "Maximum Connection Length:",
            "description_tooltip": null,
            "disabled": false,
            "layout": "IPY_MODEL_375986d0c75541909b3739bfa87e0fd1",
            "max": 100,
            "min": 0,
            "orientation": "horizontal",
            "readout": true,
            "readout_format": ".2f",
            "step": 1,
            "style": "IPY_MODEL_a910f638ff474b308bb9cfb18d66b22f",
            "value": 15
          }
        },
        "92af6ce2dcbb4a6f985e77706ff07967": {
          "model_module": "@jupyter-widgets/base",
          "model_module_version": "1.2.0",
          "model_name": "LayoutModel",
          "state": {
            "_model_module": "@jupyter-widgets/base",
            "_model_module_version": "1.2.0",
            "_model_name": "LayoutModel",
            "_view_count": null,
            "_view_module": "@jupyter-widgets/base",
            "_view_module_version": "1.2.0",
            "_view_name": "LayoutView",
            "align_content": null,
            "align_items": null,
            "align_self": null,
            "border": null,
            "bottom": null,
            "display": null,
            "flex": null,
            "flex_flow": null,
            "grid_area": null,
            "grid_auto_columns": null,
            "grid_auto_flow": null,
            "grid_auto_rows": null,
            "grid_column": null,
            "grid_gap": null,
            "grid_row": null,
            "grid_template_areas": null,
            "grid_template_columns": null,
            "grid_template_rows": null,
            "height": null,
            "justify_content": null,
            "justify_items": null,
            "left": null,
            "margin": null,
            "max_height": null,
            "max_width": null,
            "min_height": null,
            "min_width": null,
            "object_fit": null,
            "object_position": null,
            "order": null,
            "overflow": null,
            "overflow_x": null,
            "overflow_y": null,
            "padding": null,
            "right": null,
            "top": null,
            "visibility": null,
            "width": null
          }
        },
        "a910f638ff474b308bb9cfb18d66b22f": {
          "model_module": "@jupyter-widgets/controls",
          "model_module_version": "1.5.0",
          "model_name": "SliderStyleModel",
          "state": {
            "_model_module": "@jupyter-widgets/controls",
            "_model_module_version": "1.5.0",
            "_model_name": "SliderStyleModel",
            "_view_count": null,
            "_view_module": "@jupyter-widgets/base",
            "_view_module_version": "1.2.0",
            "_view_name": "StyleView",
            "description_width": "initial",
            "handle_color": null
          }
        },
        "ab126a6c73da451fab4dd7a0fe238be8": {
          "model_module": "@jupyter-widgets/controls",
          "model_module_version": "1.5.0",
          "model_name": "DescriptionStyleModel",
          "state": {
            "_model_module": "@jupyter-widgets/controls",
            "_model_module_version": "1.5.0",
            "_model_name": "DescriptionStyleModel",
            "_view_count": null,
            "_view_module": "@jupyter-widgets/base",
            "_view_module_version": "1.2.0",
            "_view_name": "StyleView",
            "description_width": "initial"
          }
        },
        "bcb68a669be24f9d901b4b7d7c2b69db": {
          "model_module": "@jupyter-widgets/base",
          "model_module_version": "1.2.0",
          "model_name": "LayoutModel",
          "state": {
            "_model_module": "@jupyter-widgets/base",
            "_model_module_version": "1.2.0",
            "_model_name": "LayoutModel",
            "_view_count": null,
            "_view_module": "@jupyter-widgets/base",
            "_view_module_version": "1.2.0",
            "_view_name": "LayoutView",
            "align_content": null,
            "align_items": "center",
            "align_self": null,
            "border": null,
            "bottom": null,
            "display": "flex",
            "flex": "1 1",
            "flex_flow": "row wrap",
            "grid_area": null,
            "grid_auto_columns": null,
            "grid_auto_flow": null,
            "grid_auto_rows": null,
            "grid_column": null,
            "grid_gap": null,
            "grid_row": null,
            "grid_template_areas": null,
            "grid_template_columns": null,
            "grid_template_rows": null,
            "height": null,
            "justify_content": "space-between",
            "justify_items": null,
            "left": null,
            "margin": null,
            "max_height": null,
            "max_width": null,
            "min_height": null,
            "min_width": "20px",
            "object_fit": null,
            "object_position": null,
            "order": null,
            "overflow": null,
            "overflow_x": null,
            "overflow_y": null,
            "padding": null,
            "right": null,
            "top": null,
            "visibility": null,
            "width": "auto"
          }
        },
        "dbcb588af55241f396b88e75c887d399": {
          "model_module": "@jupyter-widgets/controls",
          "model_module_version": "1.5.0",
          "model_name": "VBoxModel",
          "state": {
            "_dom_classes": [],
            "_model_module": "@jupyter-widgets/controls",
            "_model_module_version": "1.5.0",
            "_model_name": "VBoxModel",
            "_view_count": null,
            "_view_module": "@jupyter-widgets/controls",
            "_view_module_version": "1.5.0",
            "_view_name": "VBoxView",
            "box_style": "",
            "children": [
              "IPY_MODEL_5e283e36c8724dc1ba70dd854e3d8d80",
              "IPY_MODEL_16210811b7864fe7924ff7f086825a80",
              "IPY_MODEL_5cdf55f299be445db515c9b9271f3e26"
            ],
            "layout": "IPY_MODEL_92af6ce2dcbb4a6f985e77706ff07967"
          }
        },
        "ddd3bae0bf9f4208a8333b56b1633928": {
          "model_module": "@jupyter-widgets/base",
          "model_module_version": "1.2.0",
          "model_name": "LayoutModel",
          "state": {
            "_model_module": "@jupyter-widgets/base",
            "_model_module_version": "1.2.0",
            "_model_name": "LayoutModel",
            "_view_count": null,
            "_view_module": "@jupyter-widgets/base",
            "_view_module_version": "1.2.0",
            "_view_name": "LayoutView",
            "align_content": null,
            "align_items": null,
            "align_self": null,
            "border": null,
            "bottom": null,
            "display": null,
            "flex": null,
            "flex_flow": null,
            "grid_area": null,
            "grid_auto_columns": null,
            "grid_auto_flow": null,
            "grid_auto_rows": null,
            "grid_column": null,
            "grid_gap": null,
            "grid_row": null,
            "grid_template_areas": null,
            "grid_template_columns": null,
            "grid_template_rows": null,
            "height": null,
            "justify_content": "space-between",
            "justify_items": null,
            "left": null,
            "margin": null,
            "max_height": null,
            "max_width": null,
            "min_height": null,
            "min_width": null,
            "object_fit": null,
            "object_position": null,
            "order": null,
            "overflow": null,
            "overflow_x": null,
            "overflow_y": null,
            "padding": null,
            "right": null,
            "top": null,
            "visibility": null,
            "width": null
          }
        },
        "eff5874a824343168ce0db50552025c6": {
          "model_module": "@jupyter-widgets/controls",
          "model_module_version": "1.5.0",
          "model_name": "DescriptionStyleModel",
          "state": {
            "_model_module": "@jupyter-widgets/controls",
            "_model_module_version": "1.5.0",
            "_model_name": "DescriptionStyleModel",
            "_view_count": null,
            "_view_module": "@jupyter-widgets/base",
            "_view_module_version": "1.2.0",
            "_view_name": "StyleView",
            "description_width": "initial"
          }
        }
      }
    }
  },
  "nbformat": 4,
  "nbformat_minor": 0
}
