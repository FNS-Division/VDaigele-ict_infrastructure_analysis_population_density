{
  "cells": [
    {
      "cell_type": "markdown",
      "source": [
        "## 1. Install requirements"
      ],
      "metadata": {
        "id": "ErL06KLX0ECA"
      }
    },
    {
      "cell_type": "code",
      "source": [
        "%pip install fiona shapely pyproj rtree geopandas plotly pycountry networkx ipywidgets tdqm pyarrow"
      ],
      "outputs": [],
      "execution_count": null,
      "metadata": {
        "colab": {
          "base_uri": "https://localhost:8080/"
        },
        "executionInfo": {
          "elapsed": 37123,
          "status": "ok",
          "timestamp": 1686858635150,
          "user": {
            "displayName": "Utku Can Ozturk",
            "userId": "13276833277571537087"
          },
          "user_tz": -180
        },
        "id": "PMWtGYcd6QMI",
        "outputId": "1ad6e197-40d8-43b4-faa1-ca7ef5391eff",
        "tags": []
      }
    },
    {
      "cell_type": "markdown",
      "source": [
        "## 2. Load dependencies"
      ],
      "metadata": {
        "id": "4Ysh5OP01FxC"
      }
    },
    {
      "cell_type": "code",
      "source": [
        "# notebook dependencies\n",
        "import ipywidgets as widgets\n",
        "from IPython.display import display\n",
        "\n",
        "\n",
        "# data handler libraries\n",
        "import pandas as pd\n",
        "import numpy as np\n",
        "import geopandas as gp\n",
        "\n",
        "# efficient queueing library\n",
        "import heapq\n",
        "\n",
        "# graph library\n",
        "import networkx as nx\n",
        "\n",
        "# visualisation libraries\n",
        "import plotly.express as px\n",
        "import plotly.graph_objects as go\n",
        "\n",
        "# misc\n",
        "import itertools\n",
        "from urllib.request import urlretrieve\n",
        "from tqdm import tqdm\n",
        "import pycountry\n",
        "import os\n",
        "\n",
        "base_download_url = 'https://bbmaps.itu.int/geonetwork/srv/api/records/884b4f42-2d49-4622-b1d8-e6285bf46c7f/attachments/'"
      ],
      "outputs": [],
      "execution_count": 5,
      "metadata": {
        "gather": {
          "logged": 1710450354286
        },
        "id": "DPsJKb-J0GsT"
      }
    },
    {
      "cell_type": "markdown",
      "source": [
        "## 3. Input parameters"
      ],
      "metadata": {
        "id": "8PAMhst_1JSk"
      }
    },
    {
      "cell_type": "code",
      "source": [
        "# Define the layout for the input fields\n",
        "item_layout = widgets.Layout(\n",
        "    width='auto',\n",
        "    min_width='20px',\n",
        "    flex='1 1 auto',\n",
        "    display='flex',\n",
        "    flex_flow='row wrap',\n",
        "    align_items='center',  # Align items vertically in the middle\n",
        "    justify_content='space-between'\n",
        ")\n",
        "\n",
        "item_layout2 = widgets.Layout(\n",
        "    width='auto',\n",
        "    min_width='20px',\n",
        "    flex='1 1',\n",
        "    display='flex',\n",
        "    flex_flow='row wrap',\n",
        "    align_items='center',  # Align items vertically in the middle\n",
        "    justify_content='space-between'\n",
        ")\n",
        "\n",
        "# Create the input fields\n",
        "country = widgets.Dropdown(\n",
        "    description='Country:',\n",
        "    options=list(map(lambda x: x.name, pycountry.countries)),\n",
        "    value='Brazil',\n",
        "    layout=item_layout2,\n",
        "    style={'description_width': 'initial'}\n",
        ")\n",
        "\n",
        "municipality_code = widgets.Text(\n",
        "    value='1504059',\n",
        "    description='Municipaliy code:',\n",
        "    layout=item_layout2,\n",
        "    style={'description_width': 'initial'}\n",
        ")\n",
        "\n",
        "maximum_connection_length = widgets.FloatSlider(\n",
        "    description='Maximum Connection Length:',\n",
        "    min=0,\n",
        "    max=100,\n",
        "    step=1,\n",
        "    value=15,\n",
        "    layout=item_layout,\n",
        "    style={'description_width': 'initial'}\n",
        ")\n",
        "\n",
        "# Create a container to hold the input fields\n",
        "inputs_layout = widgets.VBox(\n",
        "    children=[\n",
        "        widgets.HBox([country], layout=widgets.Layout(justify_content='space-between')),\n",
        "        widgets.HBox([municipality_code], layout=widgets.Layout(justify_content='space-between')),\n",
        "        widgets.HBox([maximum_connection_length], layout=widgets.Layout(justify_content='space-between')),\n",
        "        #widgets.HBox([max_tower_reach, n_visible], layout=widgets.Layout(justify_content='space-between'))\n",
        "    ]\n",
        ")\n",
        "\n",
        "# Display the input fields\n",
        "display(inputs_layout)\n"
      ],
      "outputs": [
        {
          "output_type": "display_data",
          "data": {
            "text/plain": "VBox(children=(HBox(children=(Dropdown(description='Country:', index=32, layout=Layout(align_items='center', d…",
            "application/vnd.jupyter.widget-view+json": {
              "version_major": 2,
              "version_minor": 0,
              "model_id": "84046b3e60e9408180f4c45e6bf6c510"
            }
          },
          "metadata": {}
        }
      ],
      "execution_count": 6,
      "metadata": {
        "cellView": "form",
        "colab": {
          "base_uri": "https://localhost:8080/",
          "height": 113,
          "referenced_widgets": [
            "dbcb588af55241f396b88e75c887d399",
            "5e283e36c8724dc1ba70dd854e3d8d80",
            "16210811b7864fe7924ff7f086825a80",
            "5cdf55f299be445db515c9b9271f3e26",
            "92af6ce2dcbb4a6f985e77706ff07967",
            "6ba0ab6bdd3f4cd482325b3e0713117c",
            "607339f88b51427ebb9518a2ccb36f09",
            "1e7e10446aba4e378d8e4a390fd15ee2",
            "1ded3b6f1bd74cf18a2c3442fe0ce87c",
            "85ac928b3f87447ea5a61c0c7042e73a",
            "ddd3bae0bf9f4208a8333b56b1633928",
            "bcb68a669be24f9d901b4b7d7c2b69db",
            "ab126a6c73da451fab4dd7a0fe238be8",
            "eff5874a824343168ce0db50552025c6",
            "375986d0c75541909b3739bfa87e0fd1",
            "a910f638ff474b308bb9cfb18d66b22f"
          ]
        },
        "executionInfo": {
          "elapsed": 280,
          "status": "ok",
          "timestamp": 1686859338207,
          "user": {
            "displayName": "Utku Can Ozturk",
            "userId": "13276833277571537087"
          },
          "user_tz": -180
        },
        "gather": {
          "logged": 1710450359929
        },
        "id": "j5bSTAko0Szd",
        "outputId": "12b5b15f-e27f-49ee-d39a-29de730e4afe"
      }
    },
    {
      "cell_type": "markdown",
      "source": [
        "## 4. Download & Initialize school dataset"
      ],
      "metadata": {
        "id": "TI9ES8rW1Nd3"
      }
    },
    {
      "cell_type": "code",
      "source": [
        "# Downloading school data from url\n",
        "def download_entity_dataset(base_url, entity_type, country_name, administrative_division_code):\n",
        "  \"\"\"\n",
        "  Downloads a dataset for a specific entity type and location.\n",
        "\n",
        "  Args:\n",
        "      base_url (str): The base URL where the dataset files are stored.\n",
        "      entity_type (str): The type of entity to download the dataset for.\n",
        "      country_name (str): The name of the country where the entity is located.\n",
        "      administrative_division_code (str): The administrative division code for the entity.\n",
        "\n",
        "  Returns:\n",
        "      str: The filename of the downloaded dataset.\n",
        "\n",
        "  Raises:\n",
        "      pycountry.LookupError: If the country name is not recognized.\n",
        "\n",
        "  \"\"\"\n",
        "  # Get the country code from the country name\n",
        "  country_code = pycountry.countries.get(name = country.value).alpha_3\n",
        "\n",
        "  # Construct the filename for the dataset\n",
        "  entity_filename = f'{country_code.lower()}_{administrative_division_code}_{entity_type}.parquet'\n",
        "\n",
        "  # Download the dataset file\n",
        "  urlretrieve(base_url + entity_filename, entity_filename)\n",
        "\n",
        "  # Return the filename of the downloaded dataset\n",
        "  return entity_filename\n",
        "\n",
        "\n",
        "# Reading school data from a file into a python data table\n",
        "def read_file(file_path):\n",
        "    \"\"\"\n",
        "    Read a file from the data directory.\n",
        "\n",
        "    Args:\n",
        "        file_name (str): The name of the file to read.\n",
        "\n",
        "    Returns:\n",
        "        pd.DataFrame or gp.GeoDataFrame: The data read from the file.\n",
        "    \"\"\"\n",
        "    suffix = os.path.splitext(file_path)[1]\n",
        "\n",
        "    assert os.path.exists(file_path), f'{file_path} cannot be found in the data directory!'\n",
        "\n",
        "    if suffix == '.csv':\n",
        "        return pd.read_csv(file_path)\n",
        "    elif suffix == '.xlsx' or suffix == '.xls':\n",
        "        return pd.read_excel(file_path, engine = 'openpyxl')\n",
        "    elif suffix == '.shp' or suffix == '.zip':\n",
        "        return gp.read_file(file_path)\n",
        "    elif suffix == '.parquet':\n",
        "        try:\n",
        "          return gp.read_parquet(file_path)\n",
        "        except:\n",
        "          return pd.read_parquet(file_path)\n",
        "    elif suffix == '.geoparquet':\n",
        "        return gp.read_parquet(file_path)\n",
        "    elif suffix == '.json':\n",
        "        return pd.read_json(file_path)\n",
        "    elif suffix == '.geojson':\n",
        "        return gp.read_file(file_path)\n",
        "    elif suffix == '.gpkg':\n",
        "        return gp.read_file(file_path)\n",
        "    else:\n",
        "        raise ValueError(f\"Unsupported file type: {suffix}\")"
      ],
      "outputs": [],
      "execution_count": 7,
      "metadata": {
        "gather": {
          "logged": 1710450442422
        },
        "id": "4DRBKLB61L6_"
      }
    },
    {
      "cell_type": "code",
      "source": [
        "file_name_school = download_entity_dataset(base_download_url, 'school', country.value, municipality_code.value)"
      ],
      "outputs": [],
      "execution_count": 8,
      "metadata": {
        "gather": {
          "logged": 1710450458679
        },
        "id": "d4yXYWw21VW3"
      }
    },
    {
      "cell_type": "code",
      "source": [
        "df_school = read_file(file_name_school)\n",
        "#data_table.DataTable(df_school, num_rows_per_page=10)\n",
        "df_school.head(10)"
      ],
      "outputs": [
        {
          "output_type": "execute_result",
          "execution_count": 9,
          "data": {
            "text/plain": "                lat        lon               label                    geometry\nsource_id                                                                     \n15092518  -2.006472 -47.454827  unconnected_school  POINT (-47.45483 -2.00647)\n15092526  -2.042973 -47.557938    connected_school  POINT (-47.55794 -2.04297)\n15092534  -1.915732 -47.520132    connected_school  POINT (-47.52013 -1.91573)\n15092542  -2.040823 -47.558717    connected_school  POINT (-47.55872 -2.04082)\n15092577  -2.042782 -47.551758    connected_school  POINT (-47.55176 -2.04278)\n15092585  -2.045535 -47.551423    connected_school  POINT (-47.55142 -2.04554)\n15092593  -2.040445 -47.563479    connected_school  POINT (-47.56348 -2.04045)\n15092640  -1.903420 -47.485589  unconnected_school  POINT (-47.48559 -1.90342)\n15092690  -1.891456 -47.477476  unconnected_school  POINT (-47.47748 -1.89146)\n15092712  -1.963125 -47.441660  unconnected_school  POINT (-47.44166 -1.96313)",
            "text/html": "<div>\n<style scoped>\n    .dataframe tbody tr th:only-of-type {\n        vertical-align: middle;\n    }\n\n    .dataframe tbody tr th {\n        vertical-align: top;\n    }\n\n    .dataframe thead th {\n        text-align: right;\n    }\n</style>\n<table border=\"1\" class=\"dataframe\">\n  <thead>\n    <tr style=\"text-align: right;\">\n      <th></th>\n      <th>lat</th>\n      <th>lon</th>\n      <th>label</th>\n      <th>geometry</th>\n    </tr>\n    <tr>\n      <th>source_id</th>\n      <th></th>\n      <th></th>\n      <th></th>\n      <th></th>\n    </tr>\n  </thead>\n  <tbody>\n    <tr>\n      <th>15092518</th>\n      <td>-2.006472</td>\n      <td>-47.454827</td>\n      <td>unconnected_school</td>\n      <td>POINT (-47.45483 -2.00647)</td>\n    </tr>\n    <tr>\n      <th>15092526</th>\n      <td>-2.042973</td>\n      <td>-47.557938</td>\n      <td>connected_school</td>\n      <td>POINT (-47.55794 -2.04297)</td>\n    </tr>\n    <tr>\n      <th>15092534</th>\n      <td>-1.915732</td>\n      <td>-47.520132</td>\n      <td>connected_school</td>\n      <td>POINT (-47.52013 -1.91573)</td>\n    </tr>\n    <tr>\n      <th>15092542</th>\n      <td>-2.040823</td>\n      <td>-47.558717</td>\n      <td>connected_school</td>\n      <td>POINT (-47.55872 -2.04082)</td>\n    </tr>\n    <tr>\n      <th>15092577</th>\n      <td>-2.042782</td>\n      <td>-47.551758</td>\n      <td>connected_school</td>\n      <td>POINT (-47.55176 -2.04278)</td>\n    </tr>\n    <tr>\n      <th>15092585</th>\n      <td>-2.045535</td>\n      <td>-47.551423</td>\n      <td>connected_school</td>\n      <td>POINT (-47.55142 -2.04554)</td>\n    </tr>\n    <tr>\n      <th>15092593</th>\n      <td>-2.040445</td>\n      <td>-47.563479</td>\n      <td>connected_school</td>\n      <td>POINT (-47.56348 -2.04045)</td>\n    </tr>\n    <tr>\n      <th>15092640</th>\n      <td>-1.903420</td>\n      <td>-47.485589</td>\n      <td>unconnected_school</td>\n      <td>POINT (-47.48559 -1.90342)</td>\n    </tr>\n    <tr>\n      <th>15092690</th>\n      <td>-1.891456</td>\n      <td>-47.477476</td>\n      <td>unconnected_school</td>\n      <td>POINT (-47.47748 -1.89146)</td>\n    </tr>\n    <tr>\n      <th>15092712</th>\n      <td>-1.963125</td>\n      <td>-47.441660</td>\n      <td>unconnected_school</td>\n      <td>POINT (-47.44166 -1.96313)</td>\n    </tr>\n  </tbody>\n</table>\n</div>"
          },
          "metadata": {}
        }
      ],
      "execution_count": 9,
      "metadata": {
        "colab": {
          "base_uri": "https://localhost:8080/",
          "height": 314
        },
        "executionInfo": {
          "elapsed": 461,
          "status": "ok",
          "timestamp": 1686859395758,
          "user": {
            "displayName": "Utku Can Ozturk",
            "userId": "13276833277571537087"
          },
          "user_tz": -180
        },
        "gather": {
          "logged": 1710450474524
        },
        "id": "FOZT-Mrs92OU",
        "outputId": "741b4e9d-4a14-4343-9b21-5bb74c5f2089"
      }
    },
    {
      "cell_type": "markdown",
      "source": [
        "## 5. Download & Initialize fiber node dataset"
      ],
      "metadata": {
        "id": "M0r1PnVS94kC"
      }
    },
    {
      "cell_type": "code",
      "source": [
        "file_name_fibernode = download_entity_dataset(base_download_url, 'fibernode', country.value, municipality_code.value)"
      ],
      "outputs": [],
      "execution_count": 10,
      "metadata": {
        "gather": {
          "logged": 1710450482241
        },
        "id": "qw3dil411YrX"
      }
    },
    {
      "cell_type": "code",
      "source": [
        "df_fibernode = read_file(file_name_fibernode)\n",
        "#data_table.DataTable(df_fibernode, num_rows_per_page=10)\n",
        "df_fibernode.head(10)"
      ],
      "outputs": [
        {
          "output_type": "execute_result",
          "execution_count": 11,
          "data": {
            "text/plain": "                  lat        lon       label                    geometry\nsource_id                                                               \nfiber_1615  -1.915700 -47.520100  fiber_node  POINT (-47.52010 -1.91570)\nfiber_2011  -2.045600 -47.565300  fiber_node  POINT (-47.56530 -2.04560)\nfiber_2060  -2.051000 -47.544400  fiber_node  POINT (-47.54440 -2.05100)\nfiber_2072  -2.054000 -47.543800  fiber_node  POINT (-47.54380 -2.05400)\nfiber_38240 -1.870090 -47.524109  fiber_node  POINT (-47.52411 -1.87009)\nfiber_38241 -1.881071 -47.524109  fiber_node  POINT (-47.52411 -1.88107)\nfiber_38242 -1.881071 -47.518616  fiber_node  POINT (-47.51862 -1.88107)\nfiber_38243 -1.897541 -47.518616  fiber_node  POINT (-47.51862 -1.89754)\nfiber_38244 -1.903031 -47.518616  fiber_node  POINT (-47.51862 -1.90303)\nfiber_38245 -1.914012 -47.518616  fiber_node  POINT (-47.51862 -1.91401)",
            "text/html": "<div>\n<style scoped>\n    .dataframe tbody tr th:only-of-type {\n        vertical-align: middle;\n    }\n\n    .dataframe tbody tr th {\n        vertical-align: top;\n    }\n\n    .dataframe thead th {\n        text-align: right;\n    }\n</style>\n<table border=\"1\" class=\"dataframe\">\n  <thead>\n    <tr style=\"text-align: right;\">\n      <th></th>\n      <th>lat</th>\n      <th>lon</th>\n      <th>label</th>\n      <th>geometry</th>\n    </tr>\n    <tr>\n      <th>source_id</th>\n      <th></th>\n      <th></th>\n      <th></th>\n      <th></th>\n    </tr>\n  </thead>\n  <tbody>\n    <tr>\n      <th>fiber_1615</th>\n      <td>-1.915700</td>\n      <td>-47.520100</td>\n      <td>fiber_node</td>\n      <td>POINT (-47.52010 -1.91570)</td>\n    </tr>\n    <tr>\n      <th>fiber_2011</th>\n      <td>-2.045600</td>\n      <td>-47.565300</td>\n      <td>fiber_node</td>\n      <td>POINT (-47.56530 -2.04560)</td>\n    </tr>\n    <tr>\n      <th>fiber_2060</th>\n      <td>-2.051000</td>\n      <td>-47.544400</td>\n      <td>fiber_node</td>\n      <td>POINT (-47.54440 -2.05100)</td>\n    </tr>\n    <tr>\n      <th>fiber_2072</th>\n      <td>-2.054000</td>\n      <td>-47.543800</td>\n      <td>fiber_node</td>\n      <td>POINT (-47.54380 -2.05400)</td>\n    </tr>\n    <tr>\n      <th>fiber_38240</th>\n      <td>-1.870090</td>\n      <td>-47.524109</td>\n      <td>fiber_node</td>\n      <td>POINT (-47.52411 -1.87009)</td>\n    </tr>\n    <tr>\n      <th>fiber_38241</th>\n      <td>-1.881071</td>\n      <td>-47.524109</td>\n      <td>fiber_node</td>\n      <td>POINT (-47.52411 -1.88107)</td>\n    </tr>\n    <tr>\n      <th>fiber_38242</th>\n      <td>-1.881071</td>\n      <td>-47.518616</td>\n      <td>fiber_node</td>\n      <td>POINT (-47.51862 -1.88107)</td>\n    </tr>\n    <tr>\n      <th>fiber_38243</th>\n      <td>-1.897541</td>\n      <td>-47.518616</td>\n      <td>fiber_node</td>\n      <td>POINT (-47.51862 -1.89754)</td>\n    </tr>\n    <tr>\n      <th>fiber_38244</th>\n      <td>-1.903031</td>\n      <td>-47.518616</td>\n      <td>fiber_node</td>\n      <td>POINT (-47.51862 -1.90303)</td>\n    </tr>\n    <tr>\n      <th>fiber_38245</th>\n      <td>-1.914012</td>\n      <td>-47.518616</td>\n      <td>fiber_node</td>\n      <td>POINT (-47.51862 -1.91401)</td>\n    </tr>\n  </tbody>\n</table>\n</div>"
          },
          "metadata": {}
        }
      ],
      "execution_count": 11,
      "metadata": {
        "colab": {
          "base_uri": "https://localhost:8080/",
          "height": 314
        },
        "executionInfo": {
          "elapsed": 295,
          "status": "ok",
          "timestamp": 1686859443429,
          "user": {
            "displayName": "Utku Can Ozturk",
            "userId": "13276833277571537087"
          },
          "user_tz": -180
        },
        "gather": {
          "logged": 1710450485172
        },
        "id": "Qnwkgsde-BOW",
        "outputId": "3adfbd2d-1b82-42c0-bf8a-f2b7583247c5"
      }
    },
    {
      "cell_type": "markdown",
      "source": [
        "### 5.1 Concatenate school and fibernode dataset"
      ],
      "metadata": {
        "id": "QHbJVX6s-HGs"
      }
    },
    {
      "cell_type": "code",
      "source": [
        "# concatenate school and fiber node data\n",
        "df_locations = pd.concat([df_school, df_fibernode])\n",
        "\n",
        "# extract connected index\n",
        "connected_idx = df_locations.loc[df_locations.label != 'unconnected_school'].index\n",
        "unconnected_idx = df_locations.loc[df_locations.label == 'unconnected_school'].index"
      ],
      "outputs": [],
      "execution_count": 12,
      "metadata": {
        "gather": {
          "logged": 1710450500245
        },
        "id": "7XAxW2vk1jMQ"
      }
    },
    {
      "cell_type": "markdown",
      "source": [
        "## 6. Create Line of Sight (LOS) Graph"
      ],
      "metadata": {
        "id": "-i7KXUWE106Y"
      }
    },
    {
      "cell_type": "code",
      "source": [
        "def haversine_(lats, lons, R = 6371.0, upper_tri = False):\n",
        "\n",
        "    \"\"\"\n",
        "    Calculate the great circle distance between two points\n",
        "    on the earth (specified in decimal degrees) using the\n",
        "    Haversine formula.\n",
        "\n",
        "    Parameters\n",
        "    ----------\n",
        "    lats, lons: array-like\n",
        "        Arrays of latitudes and longitudes of the two points.\n",
        "        Each array should have shape (2,) where the first element\n",
        "        is the latitude and the second element is the longitude.\n",
        "    upper_tri : bool, optional\n",
        "        If True, returns the distance matrix in upper triangular form.\n",
        "        Default is False.\n",
        "    R : float, optional\n",
        "        Radius of the earth in kilometers. Default is 6371.0 km.\n",
        "\n",
        "    Returns\n",
        "    -------\n",
        "    ndarray\n",
        "        The distance matrix between the points in kilometers.\n",
        "        If `upper_tri` is True, returns the upper triangular form of the matrix.\n",
        "\n",
        "    \"\"\"\n",
        "\n",
        "    # Convert latitudes and longitudes to radians\n",
        "    lat_rads = np.radians(lats)\n",
        "    lon_rads = np.radians(lons)\n",
        "\n",
        "    # Compute pairwise haversine distances using broadcasting\n",
        "    dlat = lat_rads[:, np.newaxis] - lat_rads[np.newaxis, :]\n",
        "    dlon = lon_rads[:, np.newaxis] - lon_rads[np.newaxis, :]\n",
        "    a = np.sin(dlat / 2) ** 2 + np.cos(lat_rads[:, np.newaxis]) * np.cos(lat_rads[np.newaxis, :]) * np.sin(dlon / 2) ** 2\n",
        "    c = 2 * np.arctan2(np.sqrt(a), np.sqrt(1 - a))\n",
        "    distances = R * c\n",
        "\n",
        "    if upper_tri:\n",
        "        i_upper = np.triu_indices(distances.shape[0], k=1)\n",
        "        distances = distances[i_upper]\n",
        "\n",
        "    return distances\n",
        "\n",
        "\n",
        "def generate_all_index_pairs(vals):\n",
        "    \"\"\"\n",
        "    Generates all possible pairs of indices from a list of values.\n",
        "\n",
        "    Args:\n",
        "        vals (list): The list of values.\n",
        "\n",
        "    Returns:\n",
        "        tuple: A tuple containing two lists, where the first list represents the original nodes\n",
        "               and the second list represents the destination nodes.\n",
        "\n",
        "    \"\"\"\n",
        "    # Generate all combinations of indices from the list of values\n",
        "    ind = itertools.combinations(vals, 2)\n",
        "\n",
        "    # Unzip the combinations into separate lists for original nodes and destination nodes\n",
        "    orig_nodes, dest_nodes = zip(*ind)\n",
        "\n",
        "    # Return the lists of original nodes and destination nodes\n",
        "    return orig_nodes, dest_nodes\n",
        "\n",
        "\n",
        "def create_line_of_sight_graph(locations):\n",
        "    \"\"\"\n",
        "    Creates a line of sight graph based on the locations.\n",
        "\n",
        "    Args:\n",
        "        locations (DataFrame): A DataFrame containing location data.\n",
        "\n",
        "    Returns:\n",
        "        networkx.Graph: The line of sight graph.\n",
        "\n",
        "    \"\"\"\n",
        "    # Generate all index pairs for origin and destination nodes\n",
        "    orig_nodes, dest_nodes = generate_all_index_pairs(locations.index)\n",
        "\n",
        "    # Compute geodesic distances for all index pairs using haversine formula\n",
        "    distances = haversine_(locations.lat.to_numpy(), locations.lon.to_numpy(), upper_tri=True) * 1000\n",
        "\n",
        "    # Initialize a networkx graph\n",
        "    graph = nx.Graph()\n",
        "\n",
        "    # Add weighted edges to the graph using the original nodes, destination nodes, and distances\n",
        "    graph.add_weighted_edges_from(zip(orig_nodes, dest_nodes, distances))\n",
        "\n",
        "    # Return the line of sight graph\n",
        "    return graph"
      ],
      "outputs": [],
      "execution_count": 13,
      "metadata": {
        "gather": {
          "logged": 1710450526678
        },
        "id": "wKM98INB1vob"
      }
    },
    {
      "cell_type": "code",
      "source": [
        "graph = create_line_of_sight_graph(df_locations)"
      ],
      "outputs": [],
      "execution_count": 14,
      "metadata": {
        "gather": {
          "logged": 1710450542638
        },
        "id": "2EKsFog22AJK"
      }
    },
    {
      "cell_type": "markdown",
      "source": [
        "## 7. Connect unconnected schools"
      ],
      "metadata": {
        "id": "OJsYfVem5Ucm"
      }
    },
    {
      "cell_type": "code",
      "source": [
        "def connect_schools(locations, connected_idx, max_connection_length, graph_):\n",
        "\n",
        "    \"\"\"\n",
        "    Connects unconnected schools to the nearest connected school dynamically using the given graph.\n",
        "    Returns a dictionary containing the fiber path information for each school.\n",
        "\n",
        "    Args:\n",
        "    locations : DataFrame of all locations where the index is the location identifier.\n",
        "    connected_idx: List of index that are either fiber node or point connected with fiber.\n",
        "    max_connection_length: Maximum length of cable that can be used to connect unconnected location.\n",
        "    graph_ : Networkx graph object representing the line of sight graph.\n",
        "\n",
        "    Returns:\n",
        "    fiber_path_dict (dict): Dictionary containing the fiber path and other information for each school that is connected to the network.\n",
        "                            Keys are school/node indices, values are dictionaries containing:\n",
        "                            - closest_node_id: ID of the closest fiber node to the school.\n",
        "                            - closest_node_distance: Distance between the school and the closest fiber node.\n",
        "                            - connected_node_id: ID of the fiber node to which the school is connected.\n",
        "                            - connected_node_distance: Distance between the school and the fiber node to which it is connected.\n",
        "                            - upstream_node_id: ID of the upstream connected node in the network.\n",
        "                            - upstream_node_distance: Distance between the school and the upstream connected node.\n",
        "                            - fiber_path: List of node IDs representing the fiber path from the connected node to the closest fiber node to the school.\n",
        "    \"\"\"\n",
        "\n",
        "\n",
        "    # Get sets of connected and unconnected school indices\n",
        "    connected_idx_cache = connected_idx\n",
        "    connected_idx = set(connected_idx)\n",
        "    unconnected_idx = set(locations.index) - connected_idx\n",
        "\n",
        "    # Generate combinations of unconnected and connected school indices\n",
        "    ind = itertools.product(unconnected_idx, connected_idx)\n",
        "    orig_nodes, dest_nodes = zip(*ind)\n",
        "\n",
        "    # Compute shortest path lengths between each pair of unconnected and connected schools\n",
        "    sp_lengths = []\n",
        "    for orig_node, dest_node in zip(orig_nodes, dest_nodes):\n",
        "      sp_lengths = sp_lengths + [nx.shortest_path_length(graph_, orig_node, dest_node, weight = 'weight')]\n",
        "\n",
        "    # Compute distances from each unconnected school to the closest connected school\n",
        "    dist_to_connected = np.array(sp_lengths).reshape(len(unconnected_idx), len(connected_idx))\n",
        "    closest_connected_id = connected_idx_cache[np.argmin(dist_to_connected, axis=1)]\n",
        "    closest_connected_distance = np.min(dist_to_connected, axis=1)\n",
        "\n",
        "    # Create a dictionary to store the fiber path information for each school\n",
        "    fiber_path_dict = dict.fromkeys(locations.index)\n",
        "\n",
        "    # Initialize the fiber path information for each connected school\n",
        "    fiber_path_dict.update({idx:\n",
        "                            dict(\n",
        "                                closest_node_id = idx,\n",
        "                                closest_node_distance = 0,\n",
        "                                connected_node_id = idx,\n",
        "                                connected_node_distance = 0,\n",
        "                                fiber_path = []\n",
        "                            ) for idx in connected_idx})\n",
        "\n",
        "    # Initialize the fiber path information for each unconnected school\n",
        "    fiber_path_dict.update([(idx,\n",
        "                dict(\n",
        "                    closest_node_id = closest_connected_id[i],\n",
        "                    closest_node_distance = closest_connected_distance[i],\n",
        "                    connected_node_id = '',\n",
        "                    connected_node_distance =0,\n",
        "                    fiber_path = []\n",
        "                )\n",
        "            ) for i, idx in enumerate(unconnected_idx)])\n",
        "\n",
        "    # Create a priority queue to store candidate fiber connections\n",
        "    queue = []\n",
        "\n",
        "    # Add all pairs of unconnected and connected schools with distances below the max connection length to the queue\n",
        "    for d_ in zip(sp_lengths, orig_nodes, dest_nodes):\n",
        "        if d_[0] <= max_connection_length:\n",
        "            heapq.heappush(queue, d_)\n",
        "\n",
        "    # Iterate over the candidate fiber connections until all unconnected schools are connected\n",
        "    while queue:\n",
        "        # Pop the fiber connection with the smallest distance\n",
        "        min_dist, min_node, upstream_node = heapq.heappop(queue)\n",
        "\n",
        "        # Skip the connection if the minimum node is already connected\n",
        "        if min_node in connected_idx:\n",
        "            continue\n",
        "\n",
        "        # Add the minimum node to the connected set if the distance is below the max connection length\n",
        "        if min_dist <= max_connection_length:\n",
        "            connected_idx.add(min_node)\n",
        "            unconnected_idx.remove(min_node)\n",
        "\n",
        "            # Update the fiber path information for the minimum node\n",
        "            fiber_path_dict[min_node].update(\n",
        "                connected_node_id = fiber_path_dict[upstream_node]['connected_node_id'],\n",
        "                connected_node_distance = '',\n",
        "                upstream_node_id = upstream_node,\n",
        "                upstream_node_distance = min_dist,\n",
        "                fiber_path = fiber_path_dict[upstream_node]['fiber_path'] + [upstream_node]\n",
        "            )\n",
        "\n",
        "            # Exit the loop if all schools are connected\n",
        "            if len(unconnected_idx) == 0:\n",
        "                break\n",
        "\n",
        "            # Add new candidate fiber connections to the queue for the newly connected node\n",
        "            ind = itertools.product(unconnected_idx, [min_node])\n",
        "            orig_nodes, dest_nodes = zip(*ind)\n",
        "\n",
        "            new_sp_lengths = []\n",
        "            for orig_node, dest_node in zip(orig_nodes, dest_nodes):\n",
        "              new_sp_lengths = new_sp_lengths + [nx.shortest_path_length(graph, orig_node, dest_node, weight = 'weight')]\n",
        "\n",
        "            for d_ in zip(new_sp_lengths, orig_nodes, dest_nodes):\n",
        "                if d_[0] <= max_connection_length:\n",
        "                    heapq.heappush(queue, d_)\n",
        "\n",
        "    return fiber_path_dict, connected_idx\n",
        "\n"
      ],
      "outputs": [],
      "execution_count": 15,
      "metadata": {
        "gather": {
          "logged": 1710450563980
        },
        "id": "q19YQ84D7XUo"
      }
    },
    {
      "cell_type": "code",
      "source": [
        "fiber_path_dict, fiber_path_connected_idx = connect_schools(df_locations, connected_idx, maximum_connection_length.value*1000, graph)"
      ],
      "outputs": [],
      "execution_count": 16,
      "metadata": {
        "gather": {
          "logged": 1710450587941
        },
        "id": "4zB0JQI47mzX"
      }
    },
    {
      "cell_type": "code",
      "source": [
        "#data_table.DataTable(pd.DataFrame(fiber_path_dict.values(), fiber_path_dict.keys()), num_rows_per_page=25)\n",
        "df = pd.DataFrame(list(fiber_path_dict.values()), index=fiber_path_dict.keys())\n",
        "df.head(25)\n",
        "\n"
      ],
      "outputs": [],
      "execution_count": null,
      "metadata": {
        "colab": {
          "base_uri": "https://localhost:8080/",
          "height": 637
        },
        "executionInfo": {
          "elapsed": 386,
          "status": "ok",
          "timestamp": 1686831577582,
          "user": {
            "displayName": "Utku Can Ozturk",
            "userId": "13276833277571537087"
          },
          "user_tz": -180
        },
        "gather": {
          "logged": 1710165622508
        },
        "id": "SF11uyQ5-Day",
        "outputId": "ac63115e-3ca1-4bcf-e6ef-b8f0f93bf87d"
      }
    },
    {
      "cell_type": "markdown",
      "source": [
        "## 8. Visualise fiber path\n",
        "\n"
      ],
      "metadata": {
        "id": "9cctUDe-AKp_"
      }
    },
    {
      "cell_type": "code",
      "source": [
        "mapbox_token = 'pk.eyJ1IjoiZGFpZ2VsZSIsImEiOiJjbHRycHhiMmUwZ295MmpvYm4yNGxtdmJ5In0.N8flhQHuAHCibl6PhifnVA' # Replace you mapbox token here"
      ],
      "outputs": [],
      "execution_count": 17,
      "metadata": {
        "gather": {
          "logged": 1710450610805
        },
        "id": "MPl3a4ZbPMSo"
      }
    },
    {
      "cell_type": "markdown",
      "source": [
        "> The following cell contains plot function definition. You have to run it before executing the code in the next cells. Also, please do not forget to put your mapbox access token into above cell (see cell above)."
      ],
      "metadata": {
        "id": "mueRvOUBPSSF"
      }
    },
    {
      "cell_type": "code",
      "source": [
        "#@title\n",
        "def plot_locations(locations, zoom = 10):\n",
        "\n",
        "    config = dict(\n",
        "        fiber_node = dict(\n",
        "            label = 'Fiber node',\n",
        "            marker = dict(\n",
        "                color = 'rgba(139, 212, 50,1)',\n",
        "            )\n",
        "        ),\n",
        "        connected_school = dict(\n",
        "            label = 'Connected school',\n",
        "            marker = dict(\n",
        "                color = 'rgba(255, 255, 1,1)',\n",
        "            )\n",
        "        ),\n",
        "        unconnected_school = dict(\n",
        "            label = 'Unconnected school',\n",
        "            marker = dict(\n",
        "                color = 'rgba(255, 97, 91, 1)',\n",
        "            )\n",
        "        ),\n",
        "        celltower = dict(\n",
        "            label = 'Cell tower',\n",
        "            marker = dict(\n",
        "                color = 'rgba(255, 201, 61, 1)'\n",
        "            )\n",
        "        )\n",
        "    )\n",
        "\n",
        "    fig = go.Figure()\n",
        "\n",
        "    for label in locations.label.unique():\n",
        "        df = locations.loc[locations.label == label]\n",
        "\n",
        "        fig.add_trace(\n",
        "            go.Scattermapbox(\n",
        "                lat = df.lat,\n",
        "                lon = df.lon,\n",
        "                customdata=np.stack((df.index, list(map(lambda x: config[x]['label'], df.label))), axis=-1),\n",
        "                mode = 'markers',\n",
        "                name = config[label]['label'],\n",
        "                visible = True,\n",
        "                marker = config[label]['marker'],\n",
        "                hoverinfo = 'text',\n",
        "                hovertemplate = '<b>Source ID:</b> %{customdata[0]}<br>'\n",
        "                                '<b>Label:</b> %{customdata[1]}'\n",
        "                                '<extra></extra>'\n",
        "            )\n",
        "        )\n",
        "    #   General Map Styles\n",
        "    fig.update_layout(\n",
        "        margin = dict(l=10, r=10, t=10, b=10, pad=5),\n",
        "        plot_bgcolor = '#161515',\n",
        "        paper_bgcolor = '#161515',\n",
        "        clickmode = 'event+select',\n",
        "        hovermode = 'closest',\n",
        "        showlegend = True,\n",
        "        #legend customization\n",
        "        legend = dict(\n",
        "            title = 'Location Types',\n",
        "            x = 0.01,\n",
        "            y = 0.99,\n",
        "            font = dict(\n",
        "                color = 'white',\n",
        "                size = 12,\n",
        "            ),\n",
        "            orientation = 'v',\n",
        "            bgcolor = 'rgba(0,0,0,0)',\n",
        "            bordercolor = 'white',\n",
        "            borderwidth = 2,\n",
        "        ),\n",
        "        mapbox = go.layout.Mapbox(\n",
        "            accesstoken = mapbox_token,\n",
        "            bearing = 0,\n",
        "            center=go.layout.mapbox.Center(\n",
        "                lat=locations.lat.mean(), lon=locations.lon.mean()\n",
        "            ),\n",
        "            pitch = 5,\n",
        "            zoom = zoom,\n",
        "            style = 'mapbox://styles/daigele/clizq8ugr00sn01p75chs6zgv',\n",
        "        ),\n",
        "    )\n",
        "\n",
        "    return fig"
      ],
      "outputs": [],
      "execution_count": 37,
      "metadata": {
        "cellView": "form",
        "gather": {
          "logged": 1710452164098
        },
        "id": "xMmtWXesAKSj"
      }
    },
    {
      "cell_type": "code",
      "source": [
        "fig = plot_locations(df_locations)"
      ],
      "outputs": [],
      "execution_count": 38,
      "metadata": {
        "gather": {
          "logged": 1710452178285
        },
        "id": "rd8UC2wQAobc"
      }
    },
    {
      "cell_type": "code",
      "source": [
        "for loc_ in pd.DataFrame(fiber_path_dict.values(), fiber_path_dict.keys()).itertuples():\n",
        "  if loc_.upstream_node_id == loc_.upstream_node_id:\n",
        "    loc_data = df_locations.loc[loc_.Index]\n",
        "    ups_node_data = df_locations.loc[loc_.upstream_node_id]\n",
        "\n",
        "    fig.add_trace(\n",
        "        go.Scattermapbox(\n",
        "            mode='lines',\n",
        "            lat=[loc_data.lat, ups_node_data.lat],\n",
        "            lon=[loc_data.lon, ups_node_data.lon],\n",
        "            customdata = np.stack(([loc_data.name], [ups_node_data.name], [loc_.upstream_node_distance]), axis = -1),\n",
        "            line=dict(width=2, color='orange'),\n",
        "            showlegend = False,\n",
        "            #name= f'{loc_data.name}-{ups_node_data.name}: {loc_.upstream_node_distance}',\n",
        "            hoverinfo = 'text',\n",
        "            hovertemplate = '<b>u:</b> %{customdata[0]}<br>'\n",
        "                            '<b>v:</b> %{customdata[1]}<br>'\n",
        "                            '<b>Length:</b> %{customdata[2]}'\n",
        "                            '<extra></extra>'\n",
        "        )\n",
        "    )\n",
        "fig"
      ],
      "outputs": [
        {
          "output_type": "display_data",
          "data": {
            "application/vnd.plotly.v1+json": {
              "data": [
                {
                  "customdata": [
                    [
                      15092518,
                      "Unconnected school"
                    ],
                    [
                      15092640,
                      "Unconnected school"
                    ],
                    [
                      15092690,
                      "Unconnected school"
                    ],
                    [
                      15092712,
                      "Unconnected school"
                    ],
                    [
                      15092780,
                      "Unconnected school"
                    ],
                    [
                      15092852,
                      "Unconnected school"
                    ],
                    [
                      15092895,
                      "Unconnected school"
                    ],
                    [
                      15092950,
                      "Unconnected school"
                    ],
                    [
                      15093018,
                      "Unconnected school"
                    ],
                    [
                      15167445,
                      "Unconnected school"
                    ],
                    [
                      15228738,
                      "Unconnected school"
                    ],
                    [
                      15524850,
                      "Unconnected school"
                    ],
                    [
                      15536343,
                      "Unconnected school"
                    ],
                    [
                      15536386,
                      "Unconnected school"
                    ],
                    [
                      15536408,
                      "Unconnected school"
                    ],
                    [
                      15536700,
                      "Unconnected school"
                    ],
                    [
                      15546985,
                      "Unconnected school"
                    ],
                    [
                      15547019,
                      "Unconnected school"
                    ],
                    [
                      15547116,
                      "Unconnected school"
                    ],
                    [
                      15552667,
                      "Unconnected school"
                    ],
                    [
                      15552683,
                      "Unconnected school"
                    ],
                    [
                      15552691,
                      "Unconnected school"
                    ],
                    [
                      15570614,
                      "Unconnected school"
                    ],
                    [
                      15570665,
                      "Unconnected school"
                    ],
                    [
                      15572293,
                      "Unconnected school"
                    ],
                    [
                      15572307,
                      "Unconnected school"
                    ],
                    [
                      15572315,
                      "Unconnected school"
                    ],
                    [
                      15572323,
                      "Unconnected school"
                    ],
                    [
                      15572331,
                      "Unconnected school"
                    ],
                    [
                      15572358,
                      "Unconnected school"
                    ],
                    [
                      15586065,
                      "Unconnected school"
                    ],
                    [
                      15586073,
                      "Unconnected school"
                    ]
                  ],
                  "hoverinfo": "text",
                  "hovertemplate": "<b>Source ID:</b> %{customdata[0]}<br><b>Label:</b> %{customdata[1]}<extra></extra>",
                  "lat": [
                    -2.006471667,
                    -1.90341996,
                    -1.89145588,
                    -1.963125,
                    -2.0191118,
                    -2.073465,
                    -2.057196761,
                    -2.057196761,
                    -2.0191118,
                    -1.987023333,
                    -1.88126382,
                    -2.057196761,
                    -2.057196761,
                    -1.92374,
                    -1.983155,
                    -2.0694609,
                    -2.0191118,
                    -1.91663009,
                    -2.00806833333333,
                    -1.871633,
                    -2.057196761,
                    -2.04031,
                    -2.057196761,
                    -2.057196761,
                    -2.057196761,
                    -2.057196761,
                    -1.948061667,
                    -2.057196761,
                    -2.0191118,
                    -2.0191118,
                    -2.01467328,
                    -2.057196761
                  ],
                  "lon": [
                    -47.45482667,
                    -47.48558874,
                    -47.47747573,
                    -47.44166,
                    -47.4882762,
                    -47.4403583333333,
                    -47.56056154,
                    -47.56056154,
                    -47.4882762,
                    -47.43428167,
                    -47.52123918,
                    -47.56056154,
                    -47.56056154,
                    -47.434955,
                    -47.4370866666667,
                    -47.4099071,
                    -47.4882762,
                    -47.54062608,
                    -47.53501,
                    -47.5246204,
                    -47.56056154,
                    -47.4504483333333,
                    -47.56056154,
                    -47.56056154,
                    -47.56056154,
                    -47.56056154,
                    -47.44226333,
                    -47.56056154,
                    -47.4882762,
                    -47.4882762,
                    -47.50972519,
                    -47.56056154
                  ],
                  "marker": {
                    "color": "rgba(255, 97, 91, 1)"
                  },
                  "mode": "markers",
                  "name": "Unconnected school",
                  "visible": true,
                  "type": "scattermapbox"
                },
                {
                  "customdata": [
                    [
                      15092526,
                      "Connected school"
                    ],
                    [
                      15092534,
                      "Connected school"
                    ],
                    [
                      15092542,
                      "Connected school"
                    ],
                    [
                      15092577,
                      "Connected school"
                    ],
                    [
                      15092585,
                      "Connected school"
                    ],
                    [
                      15092593,
                      "Connected school"
                    ],
                    [
                      15092844,
                      "Connected school"
                    ],
                    [
                      15092860,
                      "Connected school"
                    ],
                    [
                      15092976,
                      "Connected school"
                    ],
                    [
                      15156796,
                      "Connected school"
                    ],
                    [
                      15166244,
                      "Connected school"
                    ],
                    [
                      15519813,
                      "Connected school"
                    ],
                    [
                      15524868,
                      "Connected school"
                    ],
                    [
                      15546993,
                      "Connected school"
                    ],
                    [
                      15548090,
                      "Connected school"
                    ],
                    [
                      15572340,
                      "Connected school"
                    ]
                  ],
                  "hoverinfo": "text",
                  "hovertemplate": "<b>Source ID:</b> %{customdata[0]}<br><b>Label:</b> %{customdata[1]}<extra></extra>",
                  "lat": [
                    -2.042973333,
                    -1.91573195,
                    -2.040823102,
                    -2.04278218,
                    -2.045535,
                    -2.0404453,
                    -2.0408974,
                    -1.98060901,
                    -2.0367679,
                    -2.050066667,
                    -2.05207424,
                    -2.0462985,
                    -2.0455575,
                    -2.04997808,
                    -2.0510256383568,
                    -2.0449511
                  ],
                  "lon": [
                    -47.55793833,
                    -47.5201323,
                    -47.55871701,
                    -47.551758,
                    -47.5514233333333,
                    -47.5634793,
                    -47.5436247,
                    -47.52113547,
                    -47.5632911,
                    -47.55012167,
                    -47.55536537,
                    -47.5373198,
                    -47.5653317,
                    -47.55927374,
                    -47.5444101914763,
                    -47.5530687
                  ],
                  "marker": {
                    "color": "rgba(255, 255, 1,1)"
                  },
                  "mode": "markers",
                  "name": "Connected school",
                  "visible": true,
                  "type": "scattermapbox"
                },
                {
                  "customdata": [
                    [
                      "fiber_1615",
                      "Fiber node"
                    ],
                    [
                      "fiber_2011",
                      "Fiber node"
                    ],
                    [
                      "fiber_2060",
                      "Fiber node"
                    ],
                    [
                      "fiber_2072",
                      "Fiber node"
                    ],
                    [
                      "fiber_38240",
                      "Fiber node"
                    ],
                    [
                      "fiber_38241",
                      "Fiber node"
                    ],
                    [
                      "fiber_38242",
                      "Fiber node"
                    ],
                    [
                      "fiber_38243",
                      "Fiber node"
                    ],
                    [
                      "fiber_38244",
                      "Fiber node"
                    ],
                    [
                      "fiber_38245",
                      "Fiber node"
                    ],
                    [
                      "fiber_38246",
                      "Fiber node"
                    ],
                    [
                      "fiber_38247",
                      "Fiber node"
                    ],
                    [
                      "fiber_38261",
                      "Fiber node"
                    ],
                    [
                      "fiber_38262",
                      "Fiber node"
                    ],
                    [
                      "fiber_38263",
                      "Fiber node"
                    ],
                    [
                      "fiber_38264",
                      "Fiber node"
                    ],
                    [
                      "fiber_38265",
                      "Fiber node"
                    ],
                    [
                      "fiber_38266",
                      "Fiber node"
                    ],
                    [
                      "fiber_38267",
                      "Fiber node"
                    ],
                    [
                      "fiber_38268",
                      "Fiber node"
                    ],
                    [
                      "fiber_38269",
                      "Fiber node"
                    ],
                    [
                      "fiber_38270",
                      "Fiber node"
                    ],
                    [
                      "fiber_38271",
                      "Fiber node"
                    ],
                    [
                      "fiber_38272",
                      "Fiber node"
                    ],
                    [
                      "fiber_38273",
                      "Fiber node"
                    ],
                    [
                      "fiber_38274",
                      "Fiber node"
                    ],
                    [
                      "fiber_38275",
                      "Fiber node"
                    ],
                    [
                      "fiber_38276",
                      "Fiber node"
                    ],
                    [
                      "fiber_38277",
                      "Fiber node"
                    ],
                    [
                      "fiber_38278",
                      "Fiber node"
                    ],
                    [
                      "fiber_38280",
                      "Fiber node"
                    ],
                    [
                      "fiber_38281",
                      "Fiber node"
                    ],
                    [
                      "fiber_38283",
                      "Fiber node"
                    ],
                    [
                      "fiber_38284",
                      "Fiber node"
                    ],
                    [
                      "fiber_38285",
                      "Fiber node"
                    ],
                    [
                      "fiber_38286",
                      "Fiber node"
                    ],
                    [
                      "fiber_38287",
                      "Fiber node"
                    ],
                    [
                      "fiber_38288",
                      "Fiber node"
                    ],
                    [
                      "fiber_38289",
                      "Fiber node"
                    ],
                    [
                      "fiber_38290",
                      "Fiber node"
                    ],
                    [
                      "fiber_38291",
                      "Fiber node"
                    ],
                    [
                      "fiber_38292",
                      "Fiber node"
                    ],
                    [
                      "fiber_38293",
                      "Fiber node"
                    ],
                    [
                      "fiber_38294",
                      "Fiber node"
                    ],
                    [
                      "fiber_38295",
                      "Fiber node"
                    ],
                    [
                      "fiber_38296",
                      "Fiber node"
                    ],
                    [
                      "fiber_38297",
                      "Fiber node"
                    ],
                    [
                      "fiber_38298",
                      "Fiber node"
                    ],
                    [
                      "fiber_38299",
                      "Fiber node"
                    ],
                    [
                      "fiber_38300",
                      "Fiber node"
                    ],
                    [
                      "fiber_38301",
                      "Fiber node"
                    ],
                    [
                      "fiber_38302",
                      "Fiber node"
                    ],
                    [
                      "fiber_38303",
                      "Fiber node"
                    ],
                    [
                      "fiber_38304",
                      "Fiber node"
                    ],
                    [
                      "fiber_38305",
                      "Fiber node"
                    ],
                    [
                      "fiber_38306",
                      "Fiber node"
                    ],
                    [
                      "fiber_38307",
                      "Fiber node"
                    ],
                    [
                      "fiber_38308",
                      "Fiber node"
                    ],
                    [
                      "fiber_38309",
                      "Fiber node"
                    ],
                    [
                      "fiber_38310",
                      "Fiber node"
                    ],
                    [
                      "fiber_38311",
                      "Fiber node"
                    ],
                    [
                      "fiber_38312",
                      "Fiber node"
                    ],
                    [
                      "fiber_38313",
                      "Fiber node"
                    ],
                    [
                      "fiber_38314",
                      "Fiber node"
                    ],
                    [
                      "fiber_38315",
                      "Fiber node"
                    ],
                    [
                      "fiber_38316",
                      "Fiber node"
                    ],
                    [
                      "fiber_38317",
                      "Fiber node"
                    ],
                    [
                      "fiber_38318",
                      "Fiber node"
                    ],
                    [
                      "fiber_38319",
                      "Fiber node"
                    ],
                    [
                      "fiber_38320",
                      "Fiber node"
                    ],
                    [
                      "fiber_38321",
                      "Fiber node"
                    ],
                    [
                      "fiber_38322",
                      "Fiber node"
                    ],
                    [
                      "fiber_38323",
                      "Fiber node"
                    ],
                    [
                      "fiber_38324",
                      "Fiber node"
                    ],
                    [
                      "fiber_38325",
                      "Fiber node"
                    ],
                    [
                      "fiber_38326",
                      "Fiber node"
                    ],
                    [
                      "fiber_38327",
                      "Fiber node"
                    ],
                    [
                      "fiber_38328",
                      "Fiber node"
                    ]
                  ],
                  "hoverinfo": "text",
                  "hovertemplate": "<b>Source ID:</b> %{customdata[0]}<br><b>Label:</b> %{customdata[1]}<extra></extra>",
                  "lat": [
                    -1.9157,
                    -2.0456,
                    -2.051,
                    -2.054,
                    -1.87009023208835,
                    -1.881070674324025,
                    -1.881070674324025,
                    -1.89754120796684,
                    -1.90303135105683,
                    -1.914011584748285,
                    -1.91950167524904,
                    -1.91950167524904,
                    -1.963421760329645,
                    -1.97440160227445,
                    -1.979891496071155,
                    -1.98538137168361,
                    -1.990871229061465,
                    -1.996361068154385,
                    -1.979891496071155,
                    -1.979891496071155,
                    -1.98538137168361,
                    -1.98538137168361,
                    -1.990871229061465,
                    -2.001850888912035,
                    -2.007340691284075,
                    -2.007340691284075,
                    -2.018320240669955,
                    -2.01283047522016,
                    -2.01283047522016,
                    -2.018320240669955,
                    -2.023809987583135,
                    -2.029299715909355,
                    -2.029299715909355,
                    -2.029299715909355,
                    -2.03478942559828,
                    -2.03478942559828,
                    -2.04027911659958,
                    -2.04027911659958,
                    -2.03478942559828,
                    -2.04027911659958,
                    -2.04027911659958,
                    -2.04576878886292,
                    -2.04576878886292,
                    -2.04576878886292,
                    -2.051258442337975,
                    -2.04576878886292,
                    -2.04576878886292,
                    -2.051258442337975,
                    -2.051258442337975,
                    -2.062237692721895,
                    -2.05674807697441,
                    -2.05674807697441,
                    -2.062237692721895,
                    -2.0622376927219,
                    -2.0677272895301,
                    -2.023809987583135,
                    -2.029299715909355,
                    -2.023809987583135,
                    -2.029299715909355,
                    -2.03478942559828,
                    -2.03478942559828,
                    -2.04027911659958,
                    -2.04027911659958,
                    -2.03478942559828,
                    -2.04027911659958,
                    -2.04576878886292,
                    -2.04576878886292,
                    -2.051258442337975,
                    -2.051258442337975,
                    -2.04576878886292,
                    -2.051258442337975,
                    -2.05674807697441,
                    -2.05674807697441,
                    -2.062237692721895,
                    -2.062237692721895,
                    -2.05674807697441,
                    -2.062237692721895,
                    -2.04576878886292
                  ],
                  "lon": [
                    -47.5201,
                    -47.5653,
                    -47.5444,
                    -47.5438,
                    -47.5241088867188,
                    -47.52410888671876,
                    -47.51861572265626,
                    -47.5186157226563,
                    -47.5186157226562,
                    -47.51861572265626,
                    -47.52410888671875,
                    -47.51861572265626,
                    -47.51861572265625,
                    -47.52410888671875,
                    -47.52960205078125,
                    -47.52960205078125,
                    -47.52960205078125,
                    -47.52960205078125,
                    -47.52410888671875,
                    -47.51861572265625,
                    -47.52410888671876,
                    -47.51861572265625,
                    -47.524108886718736,
                    -47.52960205078126,
                    -47.53509521484375,
                    -47.52960205078126,
                    -47.54058837890626,
                    -47.53509521484375,
                    -47.52960205078125,
                    -47.53509521484376,
                    -47.57354736328124,
                    -47.57354736328124,
                    -47.568054199218736,
                    -47.56256103515625,
                    -47.568054199218736,
                    -47.56256103515625,
                    -47.56805419921876,
                    -47.56256103515625,
                    -47.55706787109375,
                    -47.55706787109375,
                    -47.55157470703124,
                    -47.5735473632812,
                    -47.56805419921876,
                    -47.56256103515625,
                    -47.56256103515626,
                    -47.55706787109375,
                    -47.55157470703125,
                    -47.55706787109376,
                    -47.55157470703125,
                    -47.56256103515624,
                    -47.55706787109376,
                    -47.55157470703125,
                    -47.55706787109375,
                    -47.5515747070312,
                    -47.5570678710938,
                    -47.54058837890625,
                    -47.54058837890626,
                    -47.53509521484375,
                    -47.53509521484376,
                    -47.54608154296876,
                    -47.54058837890626,
                    -47.546081542968736,
                    -47.54058837890625,
                    -47.53509521484375,
                    -47.53509521484375,
                    -47.54608154296875,
                    -47.54058837890626,
                    -47.54608154296875,
                    -47.54058837890625,
                    -47.53509521484374,
                    -47.53509521484374,
                    -47.546081542968736,
                    -47.54058837890626,
                    -47.54608154296875,
                    -47.54058837890624,
                    -47.53509521484375,
                    -47.53509521484376,
                    -47.46368408203125
                  ],
                  "marker": {
                    "color": "rgba(139, 212, 50,1)"
                  },
                  "mode": "markers",
                  "name": "Fiber node",
                  "visible": true,
                  "type": "scattermapbox"
                },
                {
                  "customdata": [
                    [
                      15092518,
                      15552691,
                      3793.977926878007
                    ]
                  ],
                  "hoverinfo": "text",
                  "hovertemplate": "<b>u:</b> %{customdata[0]}<br><b>v:</b> %{customdata[1]}<br><b>Length:</b> %{customdata[2]}<extra></extra>",
                  "lat": [
                    -2.006471667,
                    -2.04031
                  ],
                  "line": {
                    "color": "orange",
                    "width": 2
                  },
                  "lon": [
                    -47.45482667,
                    -47.4504483333333
                  ],
                  "mode": "lines",
                  "showlegend": false,
                  "type": "scattermapbox"
                },
                {
                  "customdata": [
                    [
                      "15092640",
                      "fiber_38244",
                      "3670.6613605502203"
                    ]
                  ],
                  "hoverinfo": "text",
                  "hovertemplate": "<b>u:</b> %{customdata[0]}<br><b>v:</b> %{customdata[1]}<br><b>Length:</b> %{customdata[2]}<extra></extra>",
                  "lat": [
                    -1.90341996,
                    -1.90303135105683
                  ],
                  "line": {
                    "color": "orange",
                    "width": 2
                  },
                  "lon": [
                    -47.48558874,
                    -47.5186157226562
                  ],
                  "mode": "lines",
                  "showlegend": false,
                  "type": "scattermapbox"
                },
                {
                  "customdata": [
                    [
                      15092690,
                      15092640,
                      1607.0955528562945
                    ]
                  ],
                  "hoverinfo": "text",
                  "hovertemplate": "<b>u:</b> %{customdata[0]}<br><b>v:</b> %{customdata[1]}<br><b>Length:</b> %{customdata[2]}<extra></extra>",
                  "lat": [
                    -1.89145588,
                    -1.90341996
                  ],
                  "line": {
                    "color": "orange",
                    "width": 2
                  },
                  "lon": [
                    -47.47747573,
                    -47.48558874
                  ],
                  "mode": "lines",
                  "showlegend": false,
                  "type": "scattermapbox"
                },
                {
                  "customdata": [
                    [
                      15092712,
                      15536408,
                      2284.4847692358526
                    ]
                  ],
                  "hoverinfo": "text",
                  "hovertemplate": "<b>u:</b> %{customdata[0]}<br><b>v:</b> %{customdata[1]}<br><b>Length:</b> %{customdata[2]}<extra></extra>",
                  "lat": [
                    -1.963125,
                    -1.983155
                  ],
                  "line": {
                    "color": "orange",
                    "width": 2
                  },
                  "lon": [
                    -47.44166,
                    -47.4370866666667
                  ],
                  "mode": "lines",
                  "showlegend": false,
                  "type": "scattermapbox"
                },
                {
                  "customdata": [
                    [
                      15092780,
                      15586065,
                      2434.101872478627
                    ]
                  ],
                  "hoverinfo": "text",
                  "hovertemplate": "<b>u:</b> %{customdata[0]}<br><b>v:</b> %{customdata[1]}<br><b>Length:</b> %{customdata[2]}<extra></extra>",
                  "lat": [
                    -2.0191118,
                    -2.01467328
                  ],
                  "line": {
                    "color": "orange",
                    "width": 2
                  },
                  "lon": [
                    -47.4882762,
                    -47.50972519
                  ],
                  "mode": "lines",
                  "showlegend": false,
                  "type": "scattermapbox"
                },
                {
                  "customdata": [
                    [
                      15092852,
                      15552691,
                      3853.3991321218987
                    ]
                  ],
                  "hoverinfo": "text",
                  "hovertemplate": "<b>u:</b> %{customdata[0]}<br><b>v:</b> %{customdata[1]}<br><b>Length:</b> %{customdata[2]}<extra></extra>",
                  "lat": [
                    -2.073465,
                    -2.04031
                  ],
                  "line": {
                    "color": "orange",
                    "width": 2
                  },
                  "lon": [
                    -47.4403583333333,
                    -47.4504483333333
                  ],
                  "mode": "lines",
                  "showlegend": false,
                  "type": "scattermapbox"
                },
                {
                  "customdata": [
                    [
                      "15092895",
                      "fiber_38301",
                      "391.4205914405891"
                    ]
                  ],
                  "hoverinfo": "text",
                  "hovertemplate": "<b>u:</b> %{customdata[0]}<br><b>v:</b> %{customdata[1]}<br><b>Length:</b> %{customdata[2]}<extra></extra>",
                  "lat": [
                    -2.057196761,
                    -2.05674807697441
                  ],
                  "line": {
                    "color": "orange",
                    "width": 2
                  },
                  "lon": [
                    -47.56056154,
                    -47.55706787109376
                  ],
                  "mode": "lines",
                  "showlegend": false,
                  "type": "scattermapbox"
                },
                {
                  "customdata": [
                    [
                      15092950,
                      15092895,
                      0
                    ]
                  ],
                  "hoverinfo": "text",
                  "hovertemplate": "<b>u:</b> %{customdata[0]}<br><b>v:</b> %{customdata[1]}<br><b>Length:</b> %{customdata[2]}<extra></extra>",
                  "lat": [
                    -2.057196761,
                    -2.057196761
                  ],
                  "line": {
                    "color": "orange",
                    "width": 2
                  },
                  "lon": [
                    -47.56056154,
                    -47.56056154
                  ],
                  "mode": "lines",
                  "showlegend": false,
                  "type": "scattermapbox"
                },
                {
                  "customdata": [
                    [
                      15093018,
                      15092780,
                      0
                    ]
                  ],
                  "hoverinfo": "text",
                  "hovertemplate": "<b>u:</b> %{customdata[0]}<br><b>v:</b> %{customdata[1]}<br><b>Length:</b> %{customdata[2]}<extra></extra>",
                  "lat": [
                    -2.0191118,
                    -2.0191118
                  ],
                  "line": {
                    "color": "orange",
                    "width": 2
                  },
                  "lon": [
                    -47.4882762,
                    -47.4882762
                  ],
                  "mode": "lines",
                  "showlegend": false,
                  "type": "scattermapbox"
                },
                {
                  "customdata": [
                    [
                      15167445,
                      15092518,
                      3144.718114336517
                    ]
                  ],
                  "hoverinfo": "text",
                  "hovertemplate": "<b>u:</b> %{customdata[0]}<br><b>v:</b> %{customdata[1]}<br><b>Length:</b> %{customdata[2]}<extra></extra>",
                  "lat": [
                    -1.987023333,
                    -2.006471667
                  ],
                  "line": {
                    "color": "orange",
                    "width": 2
                  },
                  "lon": [
                    -47.43428167,
                    -47.45482667
                  ],
                  "mode": "lines",
                  "showlegend": false,
                  "type": "scattermapbox"
                },
                {
                  "customdata": [
                    [
                      "15228738",
                      "fiber_38242",
                      "292.34787539105116"
                    ]
                  ],
                  "hoverinfo": "text",
                  "hovertemplate": "<b>u:</b> %{customdata[0]}<br><b>v:</b> %{customdata[1]}<br><b>Length:</b> %{customdata[2]}<extra></extra>",
                  "lat": [
                    -1.88126382,
                    -1.881070674324025
                  ],
                  "line": {
                    "color": "orange",
                    "width": 2
                  },
                  "lon": [
                    -47.52123918,
                    -47.51861572265626
                  ],
                  "mode": "lines",
                  "showlegend": false,
                  "type": "scattermapbox"
                },
                {
                  "customdata": [
                    [
                      15524850,
                      15092895,
                      0
                    ]
                  ],
                  "hoverinfo": "text",
                  "hovertemplate": "<b>u:</b> %{customdata[0]}<br><b>v:</b> %{customdata[1]}<br><b>Length:</b> %{customdata[2]}<extra></extra>",
                  "lat": [
                    -2.057196761,
                    -2.057196761
                  ],
                  "line": {
                    "color": "orange",
                    "width": 2
                  },
                  "lon": [
                    -47.56056154,
                    -47.56056154
                  ],
                  "mode": "lines",
                  "showlegend": false,
                  "type": "scattermapbox"
                },
                {
                  "customdata": [
                    [
                      15536343,
                      15092895,
                      0
                    ]
                  ],
                  "hoverinfo": "text",
                  "hovertemplate": "<b>u:</b> %{customdata[0]}<br><b>v:</b> %{customdata[1]}<br><b>Length:</b> %{customdata[2]}<extra></extra>",
                  "lat": [
                    -2.057196761,
                    -2.057196761
                  ],
                  "line": {
                    "color": "orange",
                    "width": 2
                  },
                  "lon": [
                    -47.56056154,
                    -47.56056154
                  ],
                  "mode": "lines",
                  "showlegend": false,
                  "type": "scattermapbox"
                },
                {
                  "customdata": [
                    [
                      15536386,
                      15572315,
                      2823.769316545915
                    ]
                  ],
                  "hoverinfo": "text",
                  "hovertemplate": "<b>u:</b> %{customdata[0]}<br><b>v:</b> %{customdata[1]}<br><b>Length:</b> %{customdata[2]}<extra></extra>",
                  "lat": [
                    -1.92374,
                    -1.948061667
                  ],
                  "line": {
                    "color": "orange",
                    "width": 2
                  },
                  "lon": [
                    -47.434955,
                    -47.44226333
                  ],
                  "mode": "lines",
                  "showlegend": false,
                  "type": "scattermapbox"
                },
                {
                  "customdata": [
                    [
                      15536408,
                      15167445,
                      531.2111794350496
                    ]
                  ],
                  "hoverinfo": "text",
                  "hovertemplate": "<b>u:</b> %{customdata[0]}<br><b>v:</b> %{customdata[1]}<br><b>Length:</b> %{customdata[2]}<extra></extra>",
                  "lat": [
                    -1.983155,
                    -1.987023333
                  ],
                  "line": {
                    "color": "orange",
                    "width": 2
                  },
                  "lon": [
                    -47.4370866666667,
                    -47.43428167
                  ],
                  "mode": "lines",
                  "showlegend": false,
                  "type": "scattermapbox"
                },
                {
                  "customdata": [
                    [
                      15536700,
                      15092852,
                      3412.975914657051
                    ]
                  ],
                  "hoverinfo": "text",
                  "hovertemplate": "<b>u:</b> %{customdata[0]}<br><b>v:</b> %{customdata[1]}<br><b>Length:</b> %{customdata[2]}<extra></extra>",
                  "lat": [
                    -2.0694609,
                    -2.073465
                  ],
                  "line": {
                    "color": "orange",
                    "width": 2
                  },
                  "lon": [
                    -47.4099071,
                    -47.4403583333333
                  ],
                  "mode": "lines",
                  "showlegend": false,
                  "type": "scattermapbox"
                },
                {
                  "customdata": [
                    [
                      15546985,
                      15092780,
                      0
                    ]
                  ],
                  "hoverinfo": "text",
                  "hovertemplate": "<b>u:</b> %{customdata[0]}<br><b>v:</b> %{customdata[1]}<br><b>Length:</b> %{customdata[2]}<extra></extra>",
                  "lat": [
                    -2.0191118,
                    -2.0191118
                  ],
                  "line": {
                    "color": "orange",
                    "width": 2
                  },
                  "lon": [
                    -47.4882762,
                    -47.4882762
                  ],
                  "mode": "lines",
                  "showlegend": false,
                  "type": "scattermapbox"
                },
                {
                  "customdata": [
                    [
                      "15547019",
                      "fiber_38246",
                      "1863.163982728977"
                    ]
                  ],
                  "hoverinfo": "text",
                  "hovertemplate": "<b>u:</b> %{customdata[0]}<br><b>v:</b> %{customdata[1]}<br><b>Length:</b> %{customdata[2]}<extra></extra>",
                  "lat": [
                    -1.91663009,
                    -1.91950167524904
                  ],
                  "line": {
                    "color": "orange",
                    "width": 2
                  },
                  "lon": [
                    -47.54062608,
                    -47.52410888671875
                  ],
                  "mode": "lines",
                  "showlegend": false,
                  "type": "scattermapbox"
                },
                {
                  "customdata": [
                    [
                      "15547116",
                      "fiber_38273",
                      "81.46237835615234"
                    ]
                  ],
                  "hoverinfo": "text",
                  "hovertemplate": "<b>u:</b> %{customdata[0]}<br><b>v:</b> %{customdata[1]}<br><b>Length:</b> %{customdata[2]}<extra></extra>",
                  "lat": [
                    -2.00806833333333,
                    -2.007340691284075
                  ],
                  "line": {
                    "color": "orange",
                    "width": 2
                  },
                  "lon": [
                    -47.53501,
                    -47.53509521484375
                  ],
                  "mode": "lines",
                  "showlegend": false,
                  "type": "scattermapbox"
                },
                {
                  "customdata": [
                    [
                      "15552667",
                      "fiber_38240",
                      "180.72168353006768"
                    ]
                  ],
                  "hoverinfo": "text",
                  "hovertemplate": "<b>u:</b> %{customdata[0]}<br><b>v:</b> %{customdata[1]}<br><b>Length:</b> %{customdata[2]}<extra></extra>",
                  "lat": [
                    -1.871633,
                    -1.87009023208835
                  ],
                  "line": {
                    "color": "orange",
                    "width": 2
                  },
                  "lon": [
                    -47.5246204,
                    -47.5241088867188
                  ],
                  "mode": "lines",
                  "showlegend": false,
                  "type": "scattermapbox"
                },
                {
                  "customdata": [
                    [
                      15552683,
                      15092895,
                      0
                    ]
                  ],
                  "hoverinfo": "text",
                  "hovertemplate": "<b>u:</b> %{customdata[0]}<br><b>v:</b> %{customdata[1]}<br><b>Length:</b> %{customdata[2]}<extra></extra>",
                  "lat": [
                    -2.057196761,
                    -2.057196761
                  ],
                  "line": {
                    "color": "orange",
                    "width": 2
                  },
                  "lon": [
                    -47.56056154,
                    -47.56056154
                  ],
                  "mode": "lines",
                  "showlegend": false,
                  "type": "scattermapbox"
                },
                {
                  "customdata": [
                    [
                      "15552691",
                      "fiber_38328",
                      "1591.1398391554865"
                    ]
                  ],
                  "hoverinfo": "text",
                  "hovertemplate": "<b>u:</b> %{customdata[0]}<br><b>v:</b> %{customdata[1]}<br><b>Length:</b> %{customdata[2]}<extra></extra>",
                  "lat": [
                    -2.04031,
                    -2.04576878886292
                  ],
                  "line": {
                    "color": "orange",
                    "width": 2
                  },
                  "lon": [
                    -47.4504483333333,
                    -47.46368408203125
                  ],
                  "mode": "lines",
                  "showlegend": false,
                  "type": "scattermapbox"
                },
                {
                  "customdata": [
                    [
                      15570614,
                      15092895,
                      0
                    ]
                  ],
                  "hoverinfo": "text",
                  "hovertemplate": "<b>u:</b> %{customdata[0]}<br><b>v:</b> %{customdata[1]}<br><b>Length:</b> %{customdata[2]}<extra></extra>",
                  "lat": [
                    -2.057196761,
                    -2.057196761
                  ],
                  "line": {
                    "color": "orange",
                    "width": 2
                  },
                  "lon": [
                    -47.56056154,
                    -47.56056154
                  ],
                  "mode": "lines",
                  "showlegend": false,
                  "type": "scattermapbox"
                },
                {
                  "customdata": [
                    [
                      15570665,
                      15092895,
                      0
                    ]
                  ],
                  "hoverinfo": "text",
                  "hovertemplate": "<b>u:</b> %{customdata[0]}<br><b>v:</b> %{customdata[1]}<br><b>Length:</b> %{customdata[2]}<extra></extra>",
                  "lat": [
                    -2.057196761,
                    -2.057196761
                  ],
                  "line": {
                    "color": "orange",
                    "width": 2
                  },
                  "lon": [
                    -47.56056154,
                    -47.56056154
                  ],
                  "mode": "lines",
                  "showlegend": false,
                  "type": "scattermapbox"
                },
                {
                  "customdata": [
                    [
                      15572293,
                      15092895,
                      0
                    ]
                  ],
                  "hoverinfo": "text",
                  "hovertemplate": "<b>u:</b> %{customdata[0]}<br><b>v:</b> %{customdata[1]}<br><b>Length:</b> %{customdata[2]}<extra></extra>",
                  "lat": [
                    -2.057196761,
                    -2.057196761
                  ],
                  "line": {
                    "color": "orange",
                    "width": 2
                  },
                  "lon": [
                    -47.56056154,
                    -47.56056154
                  ],
                  "mode": "lines",
                  "showlegend": false,
                  "type": "scattermapbox"
                },
                {
                  "customdata": [
                    [
                      15572307,
                      15092895,
                      0
                    ]
                  ],
                  "hoverinfo": "text",
                  "hovertemplate": "<b>u:</b> %{customdata[0]}<br><b>v:</b> %{customdata[1]}<br><b>Length:</b> %{customdata[2]}<extra></extra>",
                  "lat": [
                    -2.057196761,
                    -2.057196761
                  ],
                  "line": {
                    "color": "orange",
                    "width": 2
                  },
                  "lon": [
                    -47.56056154,
                    -47.56056154
                  ],
                  "mode": "lines",
                  "showlegend": false,
                  "type": "scattermapbox"
                },
                {
                  "customdata": [
                    [
                      15572315,
                      15092712,
                      1676.3076250437764
                    ]
                  ],
                  "hoverinfo": "text",
                  "hovertemplate": "<b>u:</b> %{customdata[0]}<br><b>v:</b> %{customdata[1]}<br><b>Length:</b> %{customdata[2]}<extra></extra>",
                  "lat": [
                    -1.948061667,
                    -1.963125
                  ],
                  "line": {
                    "color": "orange",
                    "width": 2
                  },
                  "lon": [
                    -47.44226333,
                    -47.44166
                  ],
                  "mode": "lines",
                  "showlegend": false,
                  "type": "scattermapbox"
                },
                {
                  "customdata": [
                    [
                      15572323,
                      15092895,
                      0
                    ]
                  ],
                  "hoverinfo": "text",
                  "hovertemplate": "<b>u:</b> %{customdata[0]}<br><b>v:</b> %{customdata[1]}<br><b>Length:</b> %{customdata[2]}<extra></extra>",
                  "lat": [
                    -2.057196761,
                    -2.057196761
                  ],
                  "line": {
                    "color": "orange",
                    "width": 2
                  },
                  "lon": [
                    -47.56056154,
                    -47.56056154
                  ],
                  "mode": "lines",
                  "showlegend": false,
                  "type": "scattermapbox"
                },
                {
                  "customdata": [
                    [
                      15572331,
                      15092780,
                      0
                    ]
                  ],
                  "hoverinfo": "text",
                  "hovertemplate": "<b>u:</b> %{customdata[0]}<br><b>v:</b> %{customdata[1]}<br><b>Length:</b> %{customdata[2]}<extra></extra>",
                  "lat": [
                    -2.0191118,
                    -2.0191118
                  ],
                  "line": {
                    "color": "orange",
                    "width": 2
                  },
                  "lon": [
                    -47.4882762,
                    -47.4882762
                  ],
                  "mode": "lines",
                  "showlegend": false,
                  "type": "scattermapbox"
                },
                {
                  "customdata": [
                    [
                      15572358,
                      15092780,
                      0
                    ]
                  ],
                  "hoverinfo": "text",
                  "hovertemplate": "<b>u:</b> %{customdata[0]}<br><b>v:</b> %{customdata[1]}<br><b>Length:</b> %{customdata[2]}<extra></extra>",
                  "lat": [
                    -2.0191118,
                    -2.0191118
                  ],
                  "line": {
                    "color": "orange",
                    "width": 2
                  },
                  "lon": [
                    -47.4882762,
                    -47.4882762
                  ],
                  "mode": "lines",
                  "showlegend": false,
                  "type": "scattermapbox"
                },
                {
                  "customdata": [
                    [
                      "15586065",
                      "fiber_38277",
                      "2218.3253461195814"
                    ]
                  ],
                  "hoverinfo": "text",
                  "hovertemplate": "<b>u:</b> %{customdata[0]}<br><b>v:</b> %{customdata[1]}<br><b>Length:</b> %{customdata[2]}<extra></extra>",
                  "lat": [
                    -2.01467328,
                    -2.01283047522016
                  ],
                  "line": {
                    "color": "orange",
                    "width": 2
                  },
                  "lon": [
                    -47.50972519,
                    -47.52960205078125
                  ],
                  "mode": "lines",
                  "showlegend": false,
                  "type": "scattermapbox"
                },
                {
                  "customdata": [
                    [
                      15586073,
                      15092895,
                      0
                    ]
                  ],
                  "hoverinfo": "text",
                  "hovertemplate": "<b>u:</b> %{customdata[0]}<br><b>v:</b> %{customdata[1]}<br><b>Length:</b> %{customdata[2]}<extra></extra>",
                  "lat": [
                    -2.057196761,
                    -2.057196761
                  ],
                  "line": {
                    "color": "orange",
                    "width": 2
                  },
                  "lon": [
                    -47.56056154,
                    -47.56056154
                  ],
                  "mode": "lines",
                  "showlegend": false,
                  "type": "scattermapbox"
                }
              ],
              "layout": {
                "template": {
                  "data": {
                    "histogram2dcontour": [
                      {
                        "type": "histogram2dcontour",
                        "colorbar": {
                          "outlinewidth": 0,
                          "ticks": ""
                        },
                        "colorscale": [
                          [
                            0,
                            "#0d0887"
                          ],
                          [
                            0.1111111111111111,
                            "#46039f"
                          ],
                          [
                            0.2222222222222222,
                            "#7201a8"
                          ],
                          [
                            0.3333333333333333,
                            "#9c179e"
                          ],
                          [
                            0.4444444444444444,
                            "#bd3786"
                          ],
                          [
                            0.5555555555555556,
                            "#d8576b"
                          ],
                          [
                            0.6666666666666666,
                            "#ed7953"
                          ],
                          [
                            0.7777777777777778,
                            "#fb9f3a"
                          ],
                          [
                            0.8888888888888888,
                            "#fdca26"
                          ],
                          [
                            1,
                            "#f0f921"
                          ]
                        ]
                      }
                    ],
                    "choropleth": [
                      {
                        "type": "choropleth",
                        "colorbar": {
                          "outlinewidth": 0,
                          "ticks": ""
                        }
                      }
                    ],
                    "histogram2d": [
                      {
                        "type": "histogram2d",
                        "colorbar": {
                          "outlinewidth": 0,
                          "ticks": ""
                        },
                        "colorscale": [
                          [
                            0,
                            "#0d0887"
                          ],
                          [
                            0.1111111111111111,
                            "#46039f"
                          ],
                          [
                            0.2222222222222222,
                            "#7201a8"
                          ],
                          [
                            0.3333333333333333,
                            "#9c179e"
                          ],
                          [
                            0.4444444444444444,
                            "#bd3786"
                          ],
                          [
                            0.5555555555555556,
                            "#d8576b"
                          ],
                          [
                            0.6666666666666666,
                            "#ed7953"
                          ],
                          [
                            0.7777777777777778,
                            "#fb9f3a"
                          ],
                          [
                            0.8888888888888888,
                            "#fdca26"
                          ],
                          [
                            1,
                            "#f0f921"
                          ]
                        ]
                      }
                    ],
                    "heatmap": [
                      {
                        "type": "heatmap",
                        "colorbar": {
                          "outlinewidth": 0,
                          "ticks": ""
                        },
                        "colorscale": [
                          [
                            0,
                            "#0d0887"
                          ],
                          [
                            0.1111111111111111,
                            "#46039f"
                          ],
                          [
                            0.2222222222222222,
                            "#7201a8"
                          ],
                          [
                            0.3333333333333333,
                            "#9c179e"
                          ],
                          [
                            0.4444444444444444,
                            "#bd3786"
                          ],
                          [
                            0.5555555555555556,
                            "#d8576b"
                          ],
                          [
                            0.6666666666666666,
                            "#ed7953"
                          ],
                          [
                            0.7777777777777778,
                            "#fb9f3a"
                          ],
                          [
                            0.8888888888888888,
                            "#fdca26"
                          ],
                          [
                            1,
                            "#f0f921"
                          ]
                        ]
                      }
                    ],
                    "heatmapgl": [
                      {
                        "type": "heatmapgl",
                        "colorbar": {
                          "outlinewidth": 0,
                          "ticks": ""
                        },
                        "colorscale": [
                          [
                            0,
                            "#0d0887"
                          ],
                          [
                            0.1111111111111111,
                            "#46039f"
                          ],
                          [
                            0.2222222222222222,
                            "#7201a8"
                          ],
                          [
                            0.3333333333333333,
                            "#9c179e"
                          ],
                          [
                            0.4444444444444444,
                            "#bd3786"
                          ],
                          [
                            0.5555555555555556,
                            "#d8576b"
                          ],
                          [
                            0.6666666666666666,
                            "#ed7953"
                          ],
                          [
                            0.7777777777777778,
                            "#fb9f3a"
                          ],
                          [
                            0.8888888888888888,
                            "#fdca26"
                          ],
                          [
                            1,
                            "#f0f921"
                          ]
                        ]
                      }
                    ],
                    "contourcarpet": [
                      {
                        "type": "contourcarpet",
                        "colorbar": {
                          "outlinewidth": 0,
                          "ticks": ""
                        }
                      }
                    ],
                    "contour": [
                      {
                        "type": "contour",
                        "colorbar": {
                          "outlinewidth": 0,
                          "ticks": ""
                        },
                        "colorscale": [
                          [
                            0,
                            "#0d0887"
                          ],
                          [
                            0.1111111111111111,
                            "#46039f"
                          ],
                          [
                            0.2222222222222222,
                            "#7201a8"
                          ],
                          [
                            0.3333333333333333,
                            "#9c179e"
                          ],
                          [
                            0.4444444444444444,
                            "#bd3786"
                          ],
                          [
                            0.5555555555555556,
                            "#d8576b"
                          ],
                          [
                            0.6666666666666666,
                            "#ed7953"
                          ],
                          [
                            0.7777777777777778,
                            "#fb9f3a"
                          ],
                          [
                            0.8888888888888888,
                            "#fdca26"
                          ],
                          [
                            1,
                            "#f0f921"
                          ]
                        ]
                      }
                    ],
                    "surface": [
                      {
                        "type": "surface",
                        "colorbar": {
                          "outlinewidth": 0,
                          "ticks": ""
                        },
                        "colorscale": [
                          [
                            0,
                            "#0d0887"
                          ],
                          [
                            0.1111111111111111,
                            "#46039f"
                          ],
                          [
                            0.2222222222222222,
                            "#7201a8"
                          ],
                          [
                            0.3333333333333333,
                            "#9c179e"
                          ],
                          [
                            0.4444444444444444,
                            "#bd3786"
                          ],
                          [
                            0.5555555555555556,
                            "#d8576b"
                          ],
                          [
                            0.6666666666666666,
                            "#ed7953"
                          ],
                          [
                            0.7777777777777778,
                            "#fb9f3a"
                          ],
                          [
                            0.8888888888888888,
                            "#fdca26"
                          ],
                          [
                            1,
                            "#f0f921"
                          ]
                        ]
                      }
                    ],
                    "mesh3d": [
                      {
                        "type": "mesh3d",
                        "colorbar": {
                          "outlinewidth": 0,
                          "ticks": ""
                        }
                      }
                    ],
                    "scatter": [
                      {
                        "fillpattern": {
                          "fillmode": "overlay",
                          "size": 10,
                          "solidity": 0.2
                        },
                        "type": "scatter"
                      }
                    ],
                    "parcoords": [
                      {
                        "type": "parcoords",
                        "line": {
                          "colorbar": {
                            "outlinewidth": 0,
                            "ticks": ""
                          }
                        }
                      }
                    ],
                    "scatterpolargl": [
                      {
                        "type": "scatterpolargl",
                        "marker": {
                          "colorbar": {
                            "outlinewidth": 0,
                            "ticks": ""
                          }
                        }
                      }
                    ],
                    "bar": [
                      {
                        "error_x": {
                          "color": "#2a3f5f"
                        },
                        "error_y": {
                          "color": "#2a3f5f"
                        },
                        "marker": {
                          "line": {
                            "color": "#E5ECF6",
                            "width": 0.5
                          },
                          "pattern": {
                            "fillmode": "overlay",
                            "size": 10,
                            "solidity": 0.2
                          }
                        },
                        "type": "bar"
                      }
                    ],
                    "scattergeo": [
                      {
                        "type": "scattergeo",
                        "marker": {
                          "colorbar": {
                            "outlinewidth": 0,
                            "ticks": ""
                          }
                        }
                      }
                    ],
                    "scatterpolar": [
                      {
                        "type": "scatterpolar",
                        "marker": {
                          "colorbar": {
                            "outlinewidth": 0,
                            "ticks": ""
                          }
                        }
                      }
                    ],
                    "histogram": [
                      {
                        "marker": {
                          "pattern": {
                            "fillmode": "overlay",
                            "size": 10,
                            "solidity": 0.2
                          }
                        },
                        "type": "histogram"
                      }
                    ],
                    "scattergl": [
                      {
                        "type": "scattergl",
                        "marker": {
                          "colorbar": {
                            "outlinewidth": 0,
                            "ticks": ""
                          }
                        }
                      }
                    ],
                    "scatter3d": [
                      {
                        "type": "scatter3d",
                        "line": {
                          "colorbar": {
                            "outlinewidth": 0,
                            "ticks": ""
                          }
                        },
                        "marker": {
                          "colorbar": {
                            "outlinewidth": 0,
                            "ticks": ""
                          }
                        }
                      }
                    ],
                    "scattermapbox": [
                      {
                        "type": "scattermapbox",
                        "marker": {
                          "colorbar": {
                            "outlinewidth": 0,
                            "ticks": ""
                          }
                        }
                      }
                    ],
                    "scatterternary": [
                      {
                        "type": "scatterternary",
                        "marker": {
                          "colorbar": {
                            "outlinewidth": 0,
                            "ticks": ""
                          }
                        }
                      }
                    ],
                    "scattercarpet": [
                      {
                        "type": "scattercarpet",
                        "marker": {
                          "colorbar": {
                            "outlinewidth": 0,
                            "ticks": ""
                          }
                        }
                      }
                    ],
                    "carpet": [
                      {
                        "aaxis": {
                          "endlinecolor": "#2a3f5f",
                          "gridcolor": "white",
                          "linecolor": "white",
                          "minorgridcolor": "white",
                          "startlinecolor": "#2a3f5f"
                        },
                        "baxis": {
                          "endlinecolor": "#2a3f5f",
                          "gridcolor": "white",
                          "linecolor": "white",
                          "minorgridcolor": "white",
                          "startlinecolor": "#2a3f5f"
                        },
                        "type": "carpet"
                      }
                    ],
                    "table": [
                      {
                        "cells": {
                          "fill": {
                            "color": "#EBF0F8"
                          },
                          "line": {
                            "color": "white"
                          }
                        },
                        "header": {
                          "fill": {
                            "color": "#C8D4E3"
                          },
                          "line": {
                            "color": "white"
                          }
                        },
                        "type": "table"
                      }
                    ],
                    "barpolar": [
                      {
                        "marker": {
                          "line": {
                            "color": "#E5ECF6",
                            "width": 0.5
                          },
                          "pattern": {
                            "fillmode": "overlay",
                            "size": 10,
                            "solidity": 0.2
                          }
                        },
                        "type": "barpolar"
                      }
                    ],
                    "pie": [
                      {
                        "automargin": true,
                        "type": "pie"
                      }
                    ]
                  },
                  "layout": {
                    "autotypenumbers": "strict",
                    "colorway": [
                      "#636efa",
                      "#EF553B",
                      "#00cc96",
                      "#ab63fa",
                      "#FFA15A",
                      "#19d3f3",
                      "#FF6692",
                      "#B6E880",
                      "#FF97FF",
                      "#FECB52"
                    ],
                    "font": {
                      "color": "#2a3f5f"
                    },
                    "hovermode": "closest",
                    "hoverlabel": {
                      "align": "left"
                    },
                    "paper_bgcolor": "white",
                    "plot_bgcolor": "#E5ECF6",
                    "polar": {
                      "bgcolor": "#E5ECF6",
                      "angularaxis": {
                        "gridcolor": "white",
                        "linecolor": "white",
                        "ticks": ""
                      },
                      "radialaxis": {
                        "gridcolor": "white",
                        "linecolor": "white",
                        "ticks": ""
                      }
                    },
                    "ternary": {
                      "bgcolor": "#E5ECF6",
                      "aaxis": {
                        "gridcolor": "white",
                        "linecolor": "white",
                        "ticks": ""
                      },
                      "baxis": {
                        "gridcolor": "white",
                        "linecolor": "white",
                        "ticks": ""
                      },
                      "caxis": {
                        "gridcolor": "white",
                        "linecolor": "white",
                        "ticks": ""
                      }
                    },
                    "coloraxis": {
                      "colorbar": {
                        "outlinewidth": 0,
                        "ticks": ""
                      }
                    },
                    "colorscale": {
                      "sequential": [
                        [
                          0,
                          "#0d0887"
                        ],
                        [
                          0.1111111111111111,
                          "#46039f"
                        ],
                        [
                          0.2222222222222222,
                          "#7201a8"
                        ],
                        [
                          0.3333333333333333,
                          "#9c179e"
                        ],
                        [
                          0.4444444444444444,
                          "#bd3786"
                        ],
                        [
                          0.5555555555555556,
                          "#d8576b"
                        ],
                        [
                          0.6666666666666666,
                          "#ed7953"
                        ],
                        [
                          0.7777777777777778,
                          "#fb9f3a"
                        ],
                        [
                          0.8888888888888888,
                          "#fdca26"
                        ],
                        [
                          1,
                          "#f0f921"
                        ]
                      ],
                      "sequentialminus": [
                        [
                          0,
                          "#0d0887"
                        ],
                        [
                          0.1111111111111111,
                          "#46039f"
                        ],
                        [
                          0.2222222222222222,
                          "#7201a8"
                        ],
                        [
                          0.3333333333333333,
                          "#9c179e"
                        ],
                        [
                          0.4444444444444444,
                          "#bd3786"
                        ],
                        [
                          0.5555555555555556,
                          "#d8576b"
                        ],
                        [
                          0.6666666666666666,
                          "#ed7953"
                        ],
                        [
                          0.7777777777777778,
                          "#fb9f3a"
                        ],
                        [
                          0.8888888888888888,
                          "#fdca26"
                        ],
                        [
                          1,
                          "#f0f921"
                        ]
                      ],
                      "diverging": [
                        [
                          0,
                          "#8e0152"
                        ],
                        [
                          0.1,
                          "#c51b7d"
                        ],
                        [
                          0.2,
                          "#de77ae"
                        ],
                        [
                          0.3,
                          "#f1b6da"
                        ],
                        [
                          0.4,
                          "#fde0ef"
                        ],
                        [
                          0.5,
                          "#f7f7f7"
                        ],
                        [
                          0.6,
                          "#e6f5d0"
                        ],
                        [
                          0.7,
                          "#b8e186"
                        ],
                        [
                          0.8,
                          "#7fbc41"
                        ],
                        [
                          0.9,
                          "#4d9221"
                        ],
                        [
                          1,
                          "#276419"
                        ]
                      ]
                    },
                    "xaxis": {
                      "gridcolor": "white",
                      "linecolor": "white",
                      "ticks": "",
                      "title": {
                        "standoff": 15
                      },
                      "zerolinecolor": "white",
                      "automargin": true,
                      "zerolinewidth": 2
                    },
                    "yaxis": {
                      "gridcolor": "white",
                      "linecolor": "white",
                      "ticks": "",
                      "title": {
                        "standoff": 15
                      },
                      "zerolinecolor": "white",
                      "automargin": true,
                      "zerolinewidth": 2
                    },
                    "scene": {
                      "xaxis": {
                        "backgroundcolor": "#E5ECF6",
                        "gridcolor": "white",
                        "linecolor": "white",
                        "showbackground": true,
                        "ticks": "",
                        "zerolinecolor": "white",
                        "gridwidth": 2
                      },
                      "yaxis": {
                        "backgroundcolor": "#E5ECF6",
                        "gridcolor": "white",
                        "linecolor": "white",
                        "showbackground": true,
                        "ticks": "",
                        "zerolinecolor": "white",
                        "gridwidth": 2
                      },
                      "zaxis": {
                        "backgroundcolor": "#E5ECF6",
                        "gridcolor": "white",
                        "linecolor": "white",
                        "showbackground": true,
                        "ticks": "",
                        "zerolinecolor": "white",
                        "gridwidth": 2
                      }
                    },
                    "shapedefaults": {
                      "line": {
                        "color": "#2a3f5f"
                      }
                    },
                    "annotationdefaults": {
                      "arrowcolor": "#2a3f5f",
                      "arrowhead": 0,
                      "arrowwidth": 1
                    },
                    "geo": {
                      "bgcolor": "white",
                      "landcolor": "#E5ECF6",
                      "subunitcolor": "white",
                      "showland": true,
                      "showlakes": true,
                      "lakecolor": "white"
                    },
                    "title": {
                      "x": 0.05
                    },
                    "mapbox": {
                      "style": "light"
                    }
                  }
                },
                "margin": {
                  "l": 10,
                  "r": 10,
                  "t": 10,
                  "b": 10,
                  "pad": 5
                },
                "legend": {
                  "font": {
                    "color": "white",
                    "size": 12
                  },
                  "title": {
                    "text": "Location Types"
                  },
                  "x": 0.01,
                  "y": 0.99,
                  "orientation": "v",
                  "bgcolor": "rgba(0,0,0,0)",
                  "bordercolor": "white",
                  "borderwidth": 2
                },
                "plot_bgcolor": "#161515",
                "paper_bgcolor": "#161515",
                "clickmode": "event+select",
                "hovermode": "closest",
                "showlegend": true,
                "mapbox": {
                  "accesstoken": "pk.eyJ1IjoiZGFpZ2VsZSIsImEiOiJjbHRycHhiMmUwZ295MmpvYm4yNGxtdmJ5In0.N8flhQHuAHCibl6PhifnVA",
                  "bearing": 0,
                  "center": {
                    "lat": -2.016102206100899,
                    "lon": -47.533012803695584
                  },
                  "pitch": 5,
                  "style": "mapbox://styles/daigele/clizq8ugr00sn01p75chs6zgv",
                  "zoom": 10
                }
              },
              "config": {
                "plotlyServerURL": "https://plot.ly"
              }
            },
            "text/html": "<div>                            <div id=\"da7e21d7-f266-4fba-882c-86b58ad5c80d\" class=\"plotly-graph-div\" style=\"height:525px; width:100%;\"></div>            <script type=\"text/javascript\">                require([\"plotly\"], function(Plotly) {                    window.PLOTLYENV=window.PLOTLYENV || {};                                    if (document.getElementById(\"da7e21d7-f266-4fba-882c-86b58ad5c80d\")) {                    Plotly.newPlot(                        \"da7e21d7-f266-4fba-882c-86b58ad5c80d\",                        [{\"customdata\":[[15092518,\"Unconnected school\"],[15092640,\"Unconnected school\"],[15092690,\"Unconnected school\"],[15092712,\"Unconnected school\"],[15092780,\"Unconnected school\"],[15092852,\"Unconnected school\"],[15092895,\"Unconnected school\"],[15092950,\"Unconnected school\"],[15093018,\"Unconnected school\"],[15167445,\"Unconnected school\"],[15228738,\"Unconnected school\"],[15524850,\"Unconnected school\"],[15536343,\"Unconnected school\"],[15536386,\"Unconnected school\"],[15536408,\"Unconnected school\"],[15536700,\"Unconnected school\"],[15546985,\"Unconnected school\"],[15547019,\"Unconnected school\"],[15547116,\"Unconnected school\"],[15552667,\"Unconnected school\"],[15552683,\"Unconnected school\"],[15552691,\"Unconnected school\"],[15570614,\"Unconnected school\"],[15570665,\"Unconnected school\"],[15572293,\"Unconnected school\"],[15572307,\"Unconnected school\"],[15572315,\"Unconnected school\"],[15572323,\"Unconnected school\"],[15572331,\"Unconnected school\"],[15572358,\"Unconnected school\"],[15586065,\"Unconnected school\"],[15586073,\"Unconnected school\"]],\"hoverinfo\":\"text\",\"hovertemplate\":\"\\u003cb\\u003eSource ID:\\u003c\\u002fb\\u003e %{customdata[0]}\\u003cbr\\u003e\\u003cb\\u003eLabel:\\u003c\\u002fb\\u003e %{customdata[1]}\\u003cextra\\u003e\\u003c\\u002fextra\\u003e\",\"lat\":[-2.006471667,-1.90341996,-1.89145588,-1.963125,-2.0191118,-2.073465,-2.057196761,-2.057196761,-2.0191118,-1.987023333,-1.88126382,-2.057196761,-2.057196761,-1.92374,-1.983155,-2.0694609,-2.0191118,-1.91663009,-2.00806833333333,-1.871633,-2.057196761,-2.04031,-2.057196761,-2.057196761,-2.057196761,-2.057196761,-1.948061667,-2.057196761,-2.0191118,-2.0191118,-2.01467328,-2.057196761],\"lon\":[-47.45482667,-47.48558874,-47.47747573,-47.44166,-47.4882762,-47.4403583333333,-47.56056154,-47.56056154,-47.4882762,-47.43428167,-47.52123918,-47.56056154,-47.56056154,-47.434955,-47.4370866666667,-47.4099071,-47.4882762,-47.54062608,-47.53501,-47.5246204,-47.56056154,-47.4504483333333,-47.56056154,-47.56056154,-47.56056154,-47.56056154,-47.44226333,-47.56056154,-47.4882762,-47.4882762,-47.50972519,-47.56056154],\"marker\":{\"color\":\"rgba(255, 97, 91, 1)\"},\"mode\":\"markers\",\"name\":\"Unconnected school\",\"visible\":true,\"type\":\"scattermapbox\"},{\"customdata\":[[15092526,\"Connected school\"],[15092534,\"Connected school\"],[15092542,\"Connected school\"],[15092577,\"Connected school\"],[15092585,\"Connected school\"],[15092593,\"Connected school\"],[15092844,\"Connected school\"],[15092860,\"Connected school\"],[15092976,\"Connected school\"],[15156796,\"Connected school\"],[15166244,\"Connected school\"],[15519813,\"Connected school\"],[15524868,\"Connected school\"],[15546993,\"Connected school\"],[15548090,\"Connected school\"],[15572340,\"Connected school\"]],\"hoverinfo\":\"text\",\"hovertemplate\":\"\\u003cb\\u003eSource ID:\\u003c\\u002fb\\u003e %{customdata[0]}\\u003cbr\\u003e\\u003cb\\u003eLabel:\\u003c\\u002fb\\u003e %{customdata[1]}\\u003cextra\\u003e\\u003c\\u002fextra\\u003e\",\"lat\":[-2.042973333,-1.91573195,-2.040823102,-2.04278218,-2.045535,-2.0404453,-2.0408974,-1.98060901,-2.0367679,-2.050066667,-2.05207424,-2.0462985,-2.0455575,-2.04997808,-2.0510256383568,-2.0449511],\"lon\":[-47.55793833,-47.5201323,-47.55871701,-47.551758,-47.5514233333333,-47.5634793,-47.5436247,-47.52113547,-47.5632911,-47.55012167,-47.55536537,-47.5373198,-47.5653317,-47.55927374,-47.5444101914763,-47.5530687],\"marker\":{\"color\":\"rgba(255, 255, 1,1)\"},\"mode\":\"markers\",\"name\":\"Connected school\",\"visible\":true,\"type\":\"scattermapbox\"},{\"customdata\":[[\"fiber_1615\",\"Fiber node\"],[\"fiber_2011\",\"Fiber node\"],[\"fiber_2060\",\"Fiber node\"],[\"fiber_2072\",\"Fiber node\"],[\"fiber_38240\",\"Fiber node\"],[\"fiber_38241\",\"Fiber node\"],[\"fiber_38242\",\"Fiber node\"],[\"fiber_38243\",\"Fiber node\"],[\"fiber_38244\",\"Fiber node\"],[\"fiber_38245\",\"Fiber node\"],[\"fiber_38246\",\"Fiber node\"],[\"fiber_38247\",\"Fiber node\"],[\"fiber_38261\",\"Fiber node\"],[\"fiber_38262\",\"Fiber node\"],[\"fiber_38263\",\"Fiber node\"],[\"fiber_38264\",\"Fiber node\"],[\"fiber_38265\",\"Fiber node\"],[\"fiber_38266\",\"Fiber node\"],[\"fiber_38267\",\"Fiber node\"],[\"fiber_38268\",\"Fiber node\"],[\"fiber_38269\",\"Fiber node\"],[\"fiber_38270\",\"Fiber node\"],[\"fiber_38271\",\"Fiber node\"],[\"fiber_38272\",\"Fiber node\"],[\"fiber_38273\",\"Fiber node\"],[\"fiber_38274\",\"Fiber node\"],[\"fiber_38275\",\"Fiber node\"],[\"fiber_38276\",\"Fiber node\"],[\"fiber_38277\",\"Fiber node\"],[\"fiber_38278\",\"Fiber node\"],[\"fiber_38280\",\"Fiber node\"],[\"fiber_38281\",\"Fiber node\"],[\"fiber_38283\",\"Fiber node\"],[\"fiber_38284\",\"Fiber node\"],[\"fiber_38285\",\"Fiber node\"],[\"fiber_38286\",\"Fiber node\"],[\"fiber_38287\",\"Fiber node\"],[\"fiber_38288\",\"Fiber node\"],[\"fiber_38289\",\"Fiber node\"],[\"fiber_38290\",\"Fiber node\"],[\"fiber_38291\",\"Fiber node\"],[\"fiber_38292\",\"Fiber node\"],[\"fiber_38293\",\"Fiber node\"],[\"fiber_38294\",\"Fiber node\"],[\"fiber_38295\",\"Fiber node\"],[\"fiber_38296\",\"Fiber node\"],[\"fiber_38297\",\"Fiber node\"],[\"fiber_38298\",\"Fiber node\"],[\"fiber_38299\",\"Fiber node\"],[\"fiber_38300\",\"Fiber node\"],[\"fiber_38301\",\"Fiber node\"],[\"fiber_38302\",\"Fiber node\"],[\"fiber_38303\",\"Fiber node\"],[\"fiber_38304\",\"Fiber node\"],[\"fiber_38305\",\"Fiber node\"],[\"fiber_38306\",\"Fiber node\"],[\"fiber_38307\",\"Fiber node\"],[\"fiber_38308\",\"Fiber node\"],[\"fiber_38309\",\"Fiber node\"],[\"fiber_38310\",\"Fiber node\"],[\"fiber_38311\",\"Fiber node\"],[\"fiber_38312\",\"Fiber node\"],[\"fiber_38313\",\"Fiber node\"],[\"fiber_38314\",\"Fiber node\"],[\"fiber_38315\",\"Fiber node\"],[\"fiber_38316\",\"Fiber node\"],[\"fiber_38317\",\"Fiber node\"],[\"fiber_38318\",\"Fiber node\"],[\"fiber_38319\",\"Fiber node\"],[\"fiber_38320\",\"Fiber node\"],[\"fiber_38321\",\"Fiber node\"],[\"fiber_38322\",\"Fiber node\"],[\"fiber_38323\",\"Fiber node\"],[\"fiber_38324\",\"Fiber node\"],[\"fiber_38325\",\"Fiber node\"],[\"fiber_38326\",\"Fiber node\"],[\"fiber_38327\",\"Fiber node\"],[\"fiber_38328\",\"Fiber node\"]],\"hoverinfo\":\"text\",\"hovertemplate\":\"\\u003cb\\u003eSource ID:\\u003c\\u002fb\\u003e %{customdata[0]}\\u003cbr\\u003e\\u003cb\\u003eLabel:\\u003c\\u002fb\\u003e %{customdata[1]}\\u003cextra\\u003e\\u003c\\u002fextra\\u003e\",\"lat\":[-1.9157,-2.0456,-2.051,-2.054,-1.87009023208835,-1.881070674324025,-1.881070674324025,-1.89754120796684,-1.90303135105683,-1.914011584748285,-1.91950167524904,-1.91950167524904,-1.963421760329645,-1.97440160227445,-1.979891496071155,-1.98538137168361,-1.990871229061465,-1.996361068154385,-1.979891496071155,-1.979891496071155,-1.98538137168361,-1.98538137168361,-1.990871229061465,-2.001850888912035,-2.007340691284075,-2.007340691284075,-2.018320240669955,-2.01283047522016,-2.01283047522016,-2.018320240669955,-2.023809987583135,-2.029299715909355,-2.029299715909355,-2.029299715909355,-2.03478942559828,-2.03478942559828,-2.04027911659958,-2.04027911659958,-2.03478942559828,-2.04027911659958,-2.04027911659958,-2.04576878886292,-2.04576878886292,-2.04576878886292,-2.051258442337975,-2.04576878886292,-2.04576878886292,-2.051258442337975,-2.051258442337975,-2.062237692721895,-2.05674807697441,-2.05674807697441,-2.062237692721895,-2.0622376927219,-2.0677272895301,-2.023809987583135,-2.029299715909355,-2.023809987583135,-2.029299715909355,-2.03478942559828,-2.03478942559828,-2.04027911659958,-2.04027911659958,-2.03478942559828,-2.04027911659958,-2.04576878886292,-2.04576878886292,-2.051258442337975,-2.051258442337975,-2.04576878886292,-2.051258442337975,-2.05674807697441,-2.05674807697441,-2.062237692721895,-2.062237692721895,-2.05674807697441,-2.062237692721895,-2.04576878886292],\"lon\":[-47.5201,-47.5653,-47.5444,-47.5438,-47.5241088867188,-47.52410888671876,-47.51861572265626,-47.5186157226563,-47.5186157226562,-47.51861572265626,-47.52410888671875,-47.51861572265626,-47.51861572265625,-47.52410888671875,-47.52960205078125,-47.52960205078125,-47.52960205078125,-47.52960205078125,-47.52410888671875,-47.51861572265625,-47.52410888671876,-47.51861572265625,-47.524108886718736,-47.52960205078126,-47.53509521484375,-47.52960205078126,-47.54058837890626,-47.53509521484375,-47.52960205078125,-47.53509521484376,-47.57354736328124,-47.57354736328124,-47.568054199218736,-47.56256103515625,-47.568054199218736,-47.56256103515625,-47.56805419921876,-47.56256103515625,-47.55706787109375,-47.55706787109375,-47.55157470703124,-47.5735473632812,-47.56805419921876,-47.56256103515625,-47.56256103515626,-47.55706787109375,-47.55157470703125,-47.55706787109376,-47.55157470703125,-47.56256103515624,-47.55706787109376,-47.55157470703125,-47.55706787109375,-47.5515747070312,-47.5570678710938,-47.54058837890625,-47.54058837890626,-47.53509521484375,-47.53509521484376,-47.54608154296876,-47.54058837890626,-47.546081542968736,-47.54058837890625,-47.53509521484375,-47.53509521484375,-47.54608154296875,-47.54058837890626,-47.54608154296875,-47.54058837890625,-47.53509521484374,-47.53509521484374,-47.546081542968736,-47.54058837890626,-47.54608154296875,-47.54058837890624,-47.53509521484375,-47.53509521484376,-47.46368408203125],\"marker\":{\"color\":\"rgba(139, 212, 50,1)\"},\"mode\":\"markers\",\"name\":\"Fiber node\",\"visible\":true,\"type\":\"scattermapbox\"},{\"customdata\":[[15092518.0,15552691.0,3793.977926878007]],\"hoverinfo\":\"text\",\"hovertemplate\":\"\\u003cb\\u003eu:\\u003c\\u002fb\\u003e %{customdata[0]}\\u003cbr\\u003e\\u003cb\\u003ev:\\u003c\\u002fb\\u003e %{customdata[1]}\\u003cbr\\u003e\\u003cb\\u003eLength:\\u003c\\u002fb\\u003e %{customdata[2]}\\u003cextra\\u003e\\u003c\\u002fextra\\u003e\",\"lat\":[-2.006471667,-2.04031],\"line\":{\"color\":\"orange\",\"width\":2},\"lon\":[-47.45482667,-47.4504483333333],\"mode\":\"lines\",\"showlegend\":false,\"type\":\"scattermapbox\"},{\"customdata\":[[\"15092640\",\"fiber_38244\",\"3670.6613605502203\"]],\"hoverinfo\":\"text\",\"hovertemplate\":\"\\u003cb\\u003eu:\\u003c\\u002fb\\u003e %{customdata[0]}\\u003cbr\\u003e\\u003cb\\u003ev:\\u003c\\u002fb\\u003e %{customdata[1]}\\u003cbr\\u003e\\u003cb\\u003eLength:\\u003c\\u002fb\\u003e %{customdata[2]}\\u003cextra\\u003e\\u003c\\u002fextra\\u003e\",\"lat\":[-1.90341996,-1.90303135105683],\"line\":{\"color\":\"orange\",\"width\":2},\"lon\":[-47.48558874,-47.5186157226562],\"mode\":\"lines\",\"showlegend\":false,\"type\":\"scattermapbox\"},{\"customdata\":[[15092690.0,15092640.0,1607.0955528562945]],\"hoverinfo\":\"text\",\"hovertemplate\":\"\\u003cb\\u003eu:\\u003c\\u002fb\\u003e %{customdata[0]}\\u003cbr\\u003e\\u003cb\\u003ev:\\u003c\\u002fb\\u003e %{customdata[1]}\\u003cbr\\u003e\\u003cb\\u003eLength:\\u003c\\u002fb\\u003e %{customdata[2]}\\u003cextra\\u003e\\u003c\\u002fextra\\u003e\",\"lat\":[-1.89145588,-1.90341996],\"line\":{\"color\":\"orange\",\"width\":2},\"lon\":[-47.47747573,-47.48558874],\"mode\":\"lines\",\"showlegend\":false,\"type\":\"scattermapbox\"},{\"customdata\":[[15092712.0,15536408.0,2284.4847692358526]],\"hoverinfo\":\"text\",\"hovertemplate\":\"\\u003cb\\u003eu:\\u003c\\u002fb\\u003e %{customdata[0]}\\u003cbr\\u003e\\u003cb\\u003ev:\\u003c\\u002fb\\u003e %{customdata[1]}\\u003cbr\\u003e\\u003cb\\u003eLength:\\u003c\\u002fb\\u003e %{customdata[2]}\\u003cextra\\u003e\\u003c\\u002fextra\\u003e\",\"lat\":[-1.963125,-1.983155],\"line\":{\"color\":\"orange\",\"width\":2},\"lon\":[-47.44166,-47.4370866666667],\"mode\":\"lines\",\"showlegend\":false,\"type\":\"scattermapbox\"},{\"customdata\":[[15092780.0,15586065.0,2434.101872478627]],\"hoverinfo\":\"text\",\"hovertemplate\":\"\\u003cb\\u003eu:\\u003c\\u002fb\\u003e %{customdata[0]}\\u003cbr\\u003e\\u003cb\\u003ev:\\u003c\\u002fb\\u003e %{customdata[1]}\\u003cbr\\u003e\\u003cb\\u003eLength:\\u003c\\u002fb\\u003e %{customdata[2]}\\u003cextra\\u003e\\u003c\\u002fextra\\u003e\",\"lat\":[-2.0191118,-2.01467328],\"line\":{\"color\":\"orange\",\"width\":2},\"lon\":[-47.4882762,-47.50972519],\"mode\":\"lines\",\"showlegend\":false,\"type\":\"scattermapbox\"},{\"customdata\":[[15092852.0,15552691.0,3853.3991321218987]],\"hoverinfo\":\"text\",\"hovertemplate\":\"\\u003cb\\u003eu:\\u003c\\u002fb\\u003e %{customdata[0]}\\u003cbr\\u003e\\u003cb\\u003ev:\\u003c\\u002fb\\u003e %{customdata[1]}\\u003cbr\\u003e\\u003cb\\u003eLength:\\u003c\\u002fb\\u003e %{customdata[2]}\\u003cextra\\u003e\\u003c\\u002fextra\\u003e\",\"lat\":[-2.073465,-2.04031],\"line\":{\"color\":\"orange\",\"width\":2},\"lon\":[-47.4403583333333,-47.4504483333333],\"mode\":\"lines\",\"showlegend\":false,\"type\":\"scattermapbox\"},{\"customdata\":[[\"15092895\",\"fiber_38301\",\"391.4205914405891\"]],\"hoverinfo\":\"text\",\"hovertemplate\":\"\\u003cb\\u003eu:\\u003c\\u002fb\\u003e %{customdata[0]}\\u003cbr\\u003e\\u003cb\\u003ev:\\u003c\\u002fb\\u003e %{customdata[1]}\\u003cbr\\u003e\\u003cb\\u003eLength:\\u003c\\u002fb\\u003e %{customdata[2]}\\u003cextra\\u003e\\u003c\\u002fextra\\u003e\",\"lat\":[-2.057196761,-2.05674807697441],\"line\":{\"color\":\"orange\",\"width\":2},\"lon\":[-47.56056154,-47.55706787109376],\"mode\":\"lines\",\"showlegend\":false,\"type\":\"scattermapbox\"},{\"customdata\":[[15092950.0,15092895.0,0.0]],\"hoverinfo\":\"text\",\"hovertemplate\":\"\\u003cb\\u003eu:\\u003c\\u002fb\\u003e %{customdata[0]}\\u003cbr\\u003e\\u003cb\\u003ev:\\u003c\\u002fb\\u003e %{customdata[1]}\\u003cbr\\u003e\\u003cb\\u003eLength:\\u003c\\u002fb\\u003e %{customdata[2]}\\u003cextra\\u003e\\u003c\\u002fextra\\u003e\",\"lat\":[-2.057196761,-2.057196761],\"line\":{\"color\":\"orange\",\"width\":2},\"lon\":[-47.56056154,-47.56056154],\"mode\":\"lines\",\"showlegend\":false,\"type\":\"scattermapbox\"},{\"customdata\":[[15093018.0,15092780.0,0.0]],\"hoverinfo\":\"text\",\"hovertemplate\":\"\\u003cb\\u003eu:\\u003c\\u002fb\\u003e %{customdata[0]}\\u003cbr\\u003e\\u003cb\\u003ev:\\u003c\\u002fb\\u003e %{customdata[1]}\\u003cbr\\u003e\\u003cb\\u003eLength:\\u003c\\u002fb\\u003e %{customdata[2]}\\u003cextra\\u003e\\u003c\\u002fextra\\u003e\",\"lat\":[-2.0191118,-2.0191118],\"line\":{\"color\":\"orange\",\"width\":2},\"lon\":[-47.4882762,-47.4882762],\"mode\":\"lines\",\"showlegend\":false,\"type\":\"scattermapbox\"},{\"customdata\":[[15167445.0,15092518.0,3144.718114336517]],\"hoverinfo\":\"text\",\"hovertemplate\":\"\\u003cb\\u003eu:\\u003c\\u002fb\\u003e %{customdata[0]}\\u003cbr\\u003e\\u003cb\\u003ev:\\u003c\\u002fb\\u003e %{customdata[1]}\\u003cbr\\u003e\\u003cb\\u003eLength:\\u003c\\u002fb\\u003e %{customdata[2]}\\u003cextra\\u003e\\u003c\\u002fextra\\u003e\",\"lat\":[-1.987023333,-2.006471667],\"line\":{\"color\":\"orange\",\"width\":2},\"lon\":[-47.43428167,-47.45482667],\"mode\":\"lines\",\"showlegend\":false,\"type\":\"scattermapbox\"},{\"customdata\":[[\"15228738\",\"fiber_38242\",\"292.34787539105116\"]],\"hoverinfo\":\"text\",\"hovertemplate\":\"\\u003cb\\u003eu:\\u003c\\u002fb\\u003e %{customdata[0]}\\u003cbr\\u003e\\u003cb\\u003ev:\\u003c\\u002fb\\u003e %{customdata[1]}\\u003cbr\\u003e\\u003cb\\u003eLength:\\u003c\\u002fb\\u003e %{customdata[2]}\\u003cextra\\u003e\\u003c\\u002fextra\\u003e\",\"lat\":[-1.88126382,-1.881070674324025],\"line\":{\"color\":\"orange\",\"width\":2},\"lon\":[-47.52123918,-47.51861572265626],\"mode\":\"lines\",\"showlegend\":false,\"type\":\"scattermapbox\"},{\"customdata\":[[15524850.0,15092895.0,0.0]],\"hoverinfo\":\"text\",\"hovertemplate\":\"\\u003cb\\u003eu:\\u003c\\u002fb\\u003e %{customdata[0]}\\u003cbr\\u003e\\u003cb\\u003ev:\\u003c\\u002fb\\u003e %{customdata[1]}\\u003cbr\\u003e\\u003cb\\u003eLength:\\u003c\\u002fb\\u003e %{customdata[2]}\\u003cextra\\u003e\\u003c\\u002fextra\\u003e\",\"lat\":[-2.057196761,-2.057196761],\"line\":{\"color\":\"orange\",\"width\":2},\"lon\":[-47.56056154,-47.56056154],\"mode\":\"lines\",\"showlegend\":false,\"type\":\"scattermapbox\"},{\"customdata\":[[15536343.0,15092895.0,0.0]],\"hoverinfo\":\"text\",\"hovertemplate\":\"\\u003cb\\u003eu:\\u003c\\u002fb\\u003e %{customdata[0]}\\u003cbr\\u003e\\u003cb\\u003ev:\\u003c\\u002fb\\u003e %{customdata[1]}\\u003cbr\\u003e\\u003cb\\u003eLength:\\u003c\\u002fb\\u003e %{customdata[2]}\\u003cextra\\u003e\\u003c\\u002fextra\\u003e\",\"lat\":[-2.057196761,-2.057196761],\"line\":{\"color\":\"orange\",\"width\":2},\"lon\":[-47.56056154,-47.56056154],\"mode\":\"lines\",\"showlegend\":false,\"type\":\"scattermapbox\"},{\"customdata\":[[15536386.0,15572315.0,2823.769316545915]],\"hoverinfo\":\"text\",\"hovertemplate\":\"\\u003cb\\u003eu:\\u003c\\u002fb\\u003e %{customdata[0]}\\u003cbr\\u003e\\u003cb\\u003ev:\\u003c\\u002fb\\u003e %{customdata[1]}\\u003cbr\\u003e\\u003cb\\u003eLength:\\u003c\\u002fb\\u003e %{customdata[2]}\\u003cextra\\u003e\\u003c\\u002fextra\\u003e\",\"lat\":[-1.92374,-1.948061667],\"line\":{\"color\":\"orange\",\"width\":2},\"lon\":[-47.434955,-47.44226333],\"mode\":\"lines\",\"showlegend\":false,\"type\":\"scattermapbox\"},{\"customdata\":[[15536408.0,15167445.0,531.2111794350496]],\"hoverinfo\":\"text\",\"hovertemplate\":\"\\u003cb\\u003eu:\\u003c\\u002fb\\u003e %{customdata[0]}\\u003cbr\\u003e\\u003cb\\u003ev:\\u003c\\u002fb\\u003e %{customdata[1]}\\u003cbr\\u003e\\u003cb\\u003eLength:\\u003c\\u002fb\\u003e %{customdata[2]}\\u003cextra\\u003e\\u003c\\u002fextra\\u003e\",\"lat\":[-1.983155,-1.987023333],\"line\":{\"color\":\"orange\",\"width\":2},\"lon\":[-47.4370866666667,-47.43428167],\"mode\":\"lines\",\"showlegend\":false,\"type\":\"scattermapbox\"},{\"customdata\":[[15536700.0,15092852.0,3412.975914657051]],\"hoverinfo\":\"text\",\"hovertemplate\":\"\\u003cb\\u003eu:\\u003c\\u002fb\\u003e %{customdata[0]}\\u003cbr\\u003e\\u003cb\\u003ev:\\u003c\\u002fb\\u003e %{customdata[1]}\\u003cbr\\u003e\\u003cb\\u003eLength:\\u003c\\u002fb\\u003e %{customdata[2]}\\u003cextra\\u003e\\u003c\\u002fextra\\u003e\",\"lat\":[-2.0694609,-2.073465],\"line\":{\"color\":\"orange\",\"width\":2},\"lon\":[-47.4099071,-47.4403583333333],\"mode\":\"lines\",\"showlegend\":false,\"type\":\"scattermapbox\"},{\"customdata\":[[15546985.0,15092780.0,0.0]],\"hoverinfo\":\"text\",\"hovertemplate\":\"\\u003cb\\u003eu:\\u003c\\u002fb\\u003e %{customdata[0]}\\u003cbr\\u003e\\u003cb\\u003ev:\\u003c\\u002fb\\u003e %{customdata[1]}\\u003cbr\\u003e\\u003cb\\u003eLength:\\u003c\\u002fb\\u003e %{customdata[2]}\\u003cextra\\u003e\\u003c\\u002fextra\\u003e\",\"lat\":[-2.0191118,-2.0191118],\"line\":{\"color\":\"orange\",\"width\":2},\"lon\":[-47.4882762,-47.4882762],\"mode\":\"lines\",\"showlegend\":false,\"type\":\"scattermapbox\"},{\"customdata\":[[\"15547019\",\"fiber_38246\",\"1863.163982728977\"]],\"hoverinfo\":\"text\",\"hovertemplate\":\"\\u003cb\\u003eu:\\u003c\\u002fb\\u003e %{customdata[0]}\\u003cbr\\u003e\\u003cb\\u003ev:\\u003c\\u002fb\\u003e %{customdata[1]}\\u003cbr\\u003e\\u003cb\\u003eLength:\\u003c\\u002fb\\u003e %{customdata[2]}\\u003cextra\\u003e\\u003c\\u002fextra\\u003e\",\"lat\":[-1.91663009,-1.91950167524904],\"line\":{\"color\":\"orange\",\"width\":2},\"lon\":[-47.54062608,-47.52410888671875],\"mode\":\"lines\",\"showlegend\":false,\"type\":\"scattermapbox\"},{\"customdata\":[[\"15547116\",\"fiber_38273\",\"81.46237835615234\"]],\"hoverinfo\":\"text\",\"hovertemplate\":\"\\u003cb\\u003eu:\\u003c\\u002fb\\u003e %{customdata[0]}\\u003cbr\\u003e\\u003cb\\u003ev:\\u003c\\u002fb\\u003e %{customdata[1]}\\u003cbr\\u003e\\u003cb\\u003eLength:\\u003c\\u002fb\\u003e %{customdata[2]}\\u003cextra\\u003e\\u003c\\u002fextra\\u003e\",\"lat\":[-2.00806833333333,-2.007340691284075],\"line\":{\"color\":\"orange\",\"width\":2},\"lon\":[-47.53501,-47.53509521484375],\"mode\":\"lines\",\"showlegend\":false,\"type\":\"scattermapbox\"},{\"customdata\":[[\"15552667\",\"fiber_38240\",\"180.72168353006768\"]],\"hoverinfo\":\"text\",\"hovertemplate\":\"\\u003cb\\u003eu:\\u003c\\u002fb\\u003e %{customdata[0]}\\u003cbr\\u003e\\u003cb\\u003ev:\\u003c\\u002fb\\u003e %{customdata[1]}\\u003cbr\\u003e\\u003cb\\u003eLength:\\u003c\\u002fb\\u003e %{customdata[2]}\\u003cextra\\u003e\\u003c\\u002fextra\\u003e\",\"lat\":[-1.871633,-1.87009023208835],\"line\":{\"color\":\"orange\",\"width\":2},\"lon\":[-47.5246204,-47.5241088867188],\"mode\":\"lines\",\"showlegend\":false,\"type\":\"scattermapbox\"},{\"customdata\":[[15552683.0,15092895.0,0.0]],\"hoverinfo\":\"text\",\"hovertemplate\":\"\\u003cb\\u003eu:\\u003c\\u002fb\\u003e %{customdata[0]}\\u003cbr\\u003e\\u003cb\\u003ev:\\u003c\\u002fb\\u003e %{customdata[1]}\\u003cbr\\u003e\\u003cb\\u003eLength:\\u003c\\u002fb\\u003e %{customdata[2]}\\u003cextra\\u003e\\u003c\\u002fextra\\u003e\",\"lat\":[-2.057196761,-2.057196761],\"line\":{\"color\":\"orange\",\"width\":2},\"lon\":[-47.56056154,-47.56056154],\"mode\":\"lines\",\"showlegend\":false,\"type\":\"scattermapbox\"},{\"customdata\":[[\"15552691\",\"fiber_38328\",\"1591.1398391554865\"]],\"hoverinfo\":\"text\",\"hovertemplate\":\"\\u003cb\\u003eu:\\u003c\\u002fb\\u003e %{customdata[0]}\\u003cbr\\u003e\\u003cb\\u003ev:\\u003c\\u002fb\\u003e %{customdata[1]}\\u003cbr\\u003e\\u003cb\\u003eLength:\\u003c\\u002fb\\u003e %{customdata[2]}\\u003cextra\\u003e\\u003c\\u002fextra\\u003e\",\"lat\":[-2.04031,-2.04576878886292],\"line\":{\"color\":\"orange\",\"width\":2},\"lon\":[-47.4504483333333,-47.46368408203125],\"mode\":\"lines\",\"showlegend\":false,\"type\":\"scattermapbox\"},{\"customdata\":[[15570614.0,15092895.0,0.0]],\"hoverinfo\":\"text\",\"hovertemplate\":\"\\u003cb\\u003eu:\\u003c\\u002fb\\u003e %{customdata[0]}\\u003cbr\\u003e\\u003cb\\u003ev:\\u003c\\u002fb\\u003e %{customdata[1]}\\u003cbr\\u003e\\u003cb\\u003eLength:\\u003c\\u002fb\\u003e %{customdata[2]}\\u003cextra\\u003e\\u003c\\u002fextra\\u003e\",\"lat\":[-2.057196761,-2.057196761],\"line\":{\"color\":\"orange\",\"width\":2},\"lon\":[-47.56056154,-47.56056154],\"mode\":\"lines\",\"showlegend\":false,\"type\":\"scattermapbox\"},{\"customdata\":[[15570665.0,15092895.0,0.0]],\"hoverinfo\":\"text\",\"hovertemplate\":\"\\u003cb\\u003eu:\\u003c\\u002fb\\u003e %{customdata[0]}\\u003cbr\\u003e\\u003cb\\u003ev:\\u003c\\u002fb\\u003e %{customdata[1]}\\u003cbr\\u003e\\u003cb\\u003eLength:\\u003c\\u002fb\\u003e %{customdata[2]}\\u003cextra\\u003e\\u003c\\u002fextra\\u003e\",\"lat\":[-2.057196761,-2.057196761],\"line\":{\"color\":\"orange\",\"width\":2},\"lon\":[-47.56056154,-47.56056154],\"mode\":\"lines\",\"showlegend\":false,\"type\":\"scattermapbox\"},{\"customdata\":[[15572293.0,15092895.0,0.0]],\"hoverinfo\":\"text\",\"hovertemplate\":\"\\u003cb\\u003eu:\\u003c\\u002fb\\u003e %{customdata[0]}\\u003cbr\\u003e\\u003cb\\u003ev:\\u003c\\u002fb\\u003e %{customdata[1]}\\u003cbr\\u003e\\u003cb\\u003eLength:\\u003c\\u002fb\\u003e %{customdata[2]}\\u003cextra\\u003e\\u003c\\u002fextra\\u003e\",\"lat\":[-2.057196761,-2.057196761],\"line\":{\"color\":\"orange\",\"width\":2},\"lon\":[-47.56056154,-47.56056154],\"mode\":\"lines\",\"showlegend\":false,\"type\":\"scattermapbox\"},{\"customdata\":[[15572307.0,15092895.0,0.0]],\"hoverinfo\":\"text\",\"hovertemplate\":\"\\u003cb\\u003eu:\\u003c\\u002fb\\u003e %{customdata[0]}\\u003cbr\\u003e\\u003cb\\u003ev:\\u003c\\u002fb\\u003e %{customdata[1]}\\u003cbr\\u003e\\u003cb\\u003eLength:\\u003c\\u002fb\\u003e %{customdata[2]}\\u003cextra\\u003e\\u003c\\u002fextra\\u003e\",\"lat\":[-2.057196761,-2.057196761],\"line\":{\"color\":\"orange\",\"width\":2},\"lon\":[-47.56056154,-47.56056154],\"mode\":\"lines\",\"showlegend\":false,\"type\":\"scattermapbox\"},{\"customdata\":[[15572315.0,15092712.0,1676.3076250437764]],\"hoverinfo\":\"text\",\"hovertemplate\":\"\\u003cb\\u003eu:\\u003c\\u002fb\\u003e %{customdata[0]}\\u003cbr\\u003e\\u003cb\\u003ev:\\u003c\\u002fb\\u003e %{customdata[1]}\\u003cbr\\u003e\\u003cb\\u003eLength:\\u003c\\u002fb\\u003e %{customdata[2]}\\u003cextra\\u003e\\u003c\\u002fextra\\u003e\",\"lat\":[-1.948061667,-1.963125],\"line\":{\"color\":\"orange\",\"width\":2},\"lon\":[-47.44226333,-47.44166],\"mode\":\"lines\",\"showlegend\":false,\"type\":\"scattermapbox\"},{\"customdata\":[[15572323.0,15092895.0,0.0]],\"hoverinfo\":\"text\",\"hovertemplate\":\"\\u003cb\\u003eu:\\u003c\\u002fb\\u003e %{customdata[0]}\\u003cbr\\u003e\\u003cb\\u003ev:\\u003c\\u002fb\\u003e %{customdata[1]}\\u003cbr\\u003e\\u003cb\\u003eLength:\\u003c\\u002fb\\u003e %{customdata[2]}\\u003cextra\\u003e\\u003c\\u002fextra\\u003e\",\"lat\":[-2.057196761,-2.057196761],\"line\":{\"color\":\"orange\",\"width\":2},\"lon\":[-47.56056154,-47.56056154],\"mode\":\"lines\",\"showlegend\":false,\"type\":\"scattermapbox\"},{\"customdata\":[[15572331.0,15092780.0,0.0]],\"hoverinfo\":\"text\",\"hovertemplate\":\"\\u003cb\\u003eu:\\u003c\\u002fb\\u003e %{customdata[0]}\\u003cbr\\u003e\\u003cb\\u003ev:\\u003c\\u002fb\\u003e %{customdata[1]}\\u003cbr\\u003e\\u003cb\\u003eLength:\\u003c\\u002fb\\u003e %{customdata[2]}\\u003cextra\\u003e\\u003c\\u002fextra\\u003e\",\"lat\":[-2.0191118,-2.0191118],\"line\":{\"color\":\"orange\",\"width\":2},\"lon\":[-47.4882762,-47.4882762],\"mode\":\"lines\",\"showlegend\":false,\"type\":\"scattermapbox\"},{\"customdata\":[[15572358.0,15092780.0,0.0]],\"hoverinfo\":\"text\",\"hovertemplate\":\"\\u003cb\\u003eu:\\u003c\\u002fb\\u003e %{customdata[0]}\\u003cbr\\u003e\\u003cb\\u003ev:\\u003c\\u002fb\\u003e %{customdata[1]}\\u003cbr\\u003e\\u003cb\\u003eLength:\\u003c\\u002fb\\u003e %{customdata[2]}\\u003cextra\\u003e\\u003c\\u002fextra\\u003e\",\"lat\":[-2.0191118,-2.0191118],\"line\":{\"color\":\"orange\",\"width\":2},\"lon\":[-47.4882762,-47.4882762],\"mode\":\"lines\",\"showlegend\":false,\"type\":\"scattermapbox\"},{\"customdata\":[[\"15586065\",\"fiber_38277\",\"2218.3253461195814\"]],\"hoverinfo\":\"text\",\"hovertemplate\":\"\\u003cb\\u003eu:\\u003c\\u002fb\\u003e %{customdata[0]}\\u003cbr\\u003e\\u003cb\\u003ev:\\u003c\\u002fb\\u003e %{customdata[1]}\\u003cbr\\u003e\\u003cb\\u003eLength:\\u003c\\u002fb\\u003e %{customdata[2]}\\u003cextra\\u003e\\u003c\\u002fextra\\u003e\",\"lat\":[-2.01467328,-2.01283047522016],\"line\":{\"color\":\"orange\",\"width\":2},\"lon\":[-47.50972519,-47.52960205078125],\"mode\":\"lines\",\"showlegend\":false,\"type\":\"scattermapbox\"},{\"customdata\":[[15586073.0,15092895.0,0.0]],\"hoverinfo\":\"text\",\"hovertemplate\":\"\\u003cb\\u003eu:\\u003c\\u002fb\\u003e %{customdata[0]}\\u003cbr\\u003e\\u003cb\\u003ev:\\u003c\\u002fb\\u003e %{customdata[1]}\\u003cbr\\u003e\\u003cb\\u003eLength:\\u003c\\u002fb\\u003e %{customdata[2]}\\u003cextra\\u003e\\u003c\\u002fextra\\u003e\",\"lat\":[-2.057196761,-2.057196761],\"line\":{\"color\":\"orange\",\"width\":2},\"lon\":[-47.56056154,-47.56056154],\"mode\":\"lines\",\"showlegend\":false,\"type\":\"scattermapbox\"}],                        {\"template\":{\"data\":{\"histogram2dcontour\":[{\"type\":\"histogram2dcontour\",\"colorbar\":{\"outlinewidth\":0,\"ticks\":\"\"},\"colorscale\":[[0.0,\"#0d0887\"],[0.1111111111111111,\"#46039f\"],[0.2222222222222222,\"#7201a8\"],[0.3333333333333333,\"#9c179e\"],[0.4444444444444444,\"#bd3786\"],[0.5555555555555556,\"#d8576b\"],[0.6666666666666666,\"#ed7953\"],[0.7777777777777778,\"#fb9f3a\"],[0.8888888888888888,\"#fdca26\"],[1.0,\"#f0f921\"]]}],\"choropleth\":[{\"type\":\"choropleth\",\"colorbar\":{\"outlinewidth\":0,\"ticks\":\"\"}}],\"histogram2d\":[{\"type\":\"histogram2d\",\"colorbar\":{\"outlinewidth\":0,\"ticks\":\"\"},\"colorscale\":[[0.0,\"#0d0887\"],[0.1111111111111111,\"#46039f\"],[0.2222222222222222,\"#7201a8\"],[0.3333333333333333,\"#9c179e\"],[0.4444444444444444,\"#bd3786\"],[0.5555555555555556,\"#d8576b\"],[0.6666666666666666,\"#ed7953\"],[0.7777777777777778,\"#fb9f3a\"],[0.8888888888888888,\"#fdca26\"],[1.0,\"#f0f921\"]]}],\"heatmap\":[{\"type\":\"heatmap\",\"colorbar\":{\"outlinewidth\":0,\"ticks\":\"\"},\"colorscale\":[[0.0,\"#0d0887\"],[0.1111111111111111,\"#46039f\"],[0.2222222222222222,\"#7201a8\"],[0.3333333333333333,\"#9c179e\"],[0.4444444444444444,\"#bd3786\"],[0.5555555555555556,\"#d8576b\"],[0.6666666666666666,\"#ed7953\"],[0.7777777777777778,\"#fb9f3a\"],[0.8888888888888888,\"#fdca26\"],[1.0,\"#f0f921\"]]}],\"heatmapgl\":[{\"type\":\"heatmapgl\",\"colorbar\":{\"outlinewidth\":0,\"ticks\":\"\"},\"colorscale\":[[0.0,\"#0d0887\"],[0.1111111111111111,\"#46039f\"],[0.2222222222222222,\"#7201a8\"],[0.3333333333333333,\"#9c179e\"],[0.4444444444444444,\"#bd3786\"],[0.5555555555555556,\"#d8576b\"],[0.6666666666666666,\"#ed7953\"],[0.7777777777777778,\"#fb9f3a\"],[0.8888888888888888,\"#fdca26\"],[1.0,\"#f0f921\"]]}],\"contourcarpet\":[{\"type\":\"contourcarpet\",\"colorbar\":{\"outlinewidth\":0,\"ticks\":\"\"}}],\"contour\":[{\"type\":\"contour\",\"colorbar\":{\"outlinewidth\":0,\"ticks\":\"\"},\"colorscale\":[[0.0,\"#0d0887\"],[0.1111111111111111,\"#46039f\"],[0.2222222222222222,\"#7201a8\"],[0.3333333333333333,\"#9c179e\"],[0.4444444444444444,\"#bd3786\"],[0.5555555555555556,\"#d8576b\"],[0.6666666666666666,\"#ed7953\"],[0.7777777777777778,\"#fb9f3a\"],[0.8888888888888888,\"#fdca26\"],[1.0,\"#f0f921\"]]}],\"surface\":[{\"type\":\"surface\",\"colorbar\":{\"outlinewidth\":0,\"ticks\":\"\"},\"colorscale\":[[0.0,\"#0d0887\"],[0.1111111111111111,\"#46039f\"],[0.2222222222222222,\"#7201a8\"],[0.3333333333333333,\"#9c179e\"],[0.4444444444444444,\"#bd3786\"],[0.5555555555555556,\"#d8576b\"],[0.6666666666666666,\"#ed7953\"],[0.7777777777777778,\"#fb9f3a\"],[0.8888888888888888,\"#fdca26\"],[1.0,\"#f0f921\"]]}],\"mesh3d\":[{\"type\":\"mesh3d\",\"colorbar\":{\"outlinewidth\":0,\"ticks\":\"\"}}],\"scatter\":[{\"fillpattern\":{\"fillmode\":\"overlay\",\"size\":10,\"solidity\":0.2},\"type\":\"scatter\"}],\"parcoords\":[{\"type\":\"parcoords\",\"line\":{\"colorbar\":{\"outlinewidth\":0,\"ticks\":\"\"}}}],\"scatterpolargl\":[{\"type\":\"scatterpolargl\",\"marker\":{\"colorbar\":{\"outlinewidth\":0,\"ticks\":\"\"}}}],\"bar\":[{\"error_x\":{\"color\":\"#2a3f5f\"},\"error_y\":{\"color\":\"#2a3f5f\"},\"marker\":{\"line\":{\"color\":\"#E5ECF6\",\"width\":0.5},\"pattern\":{\"fillmode\":\"overlay\",\"size\":10,\"solidity\":0.2}},\"type\":\"bar\"}],\"scattergeo\":[{\"type\":\"scattergeo\",\"marker\":{\"colorbar\":{\"outlinewidth\":0,\"ticks\":\"\"}}}],\"scatterpolar\":[{\"type\":\"scatterpolar\",\"marker\":{\"colorbar\":{\"outlinewidth\":0,\"ticks\":\"\"}}}],\"histogram\":[{\"marker\":{\"pattern\":{\"fillmode\":\"overlay\",\"size\":10,\"solidity\":0.2}},\"type\":\"histogram\"}],\"scattergl\":[{\"type\":\"scattergl\",\"marker\":{\"colorbar\":{\"outlinewidth\":0,\"ticks\":\"\"}}}],\"scatter3d\":[{\"type\":\"scatter3d\",\"line\":{\"colorbar\":{\"outlinewidth\":0,\"ticks\":\"\"}},\"marker\":{\"colorbar\":{\"outlinewidth\":0,\"ticks\":\"\"}}}],\"scattermapbox\":[{\"type\":\"scattermapbox\",\"marker\":{\"colorbar\":{\"outlinewidth\":0,\"ticks\":\"\"}}}],\"scatterternary\":[{\"type\":\"scatterternary\",\"marker\":{\"colorbar\":{\"outlinewidth\":0,\"ticks\":\"\"}}}],\"scattercarpet\":[{\"type\":\"scattercarpet\",\"marker\":{\"colorbar\":{\"outlinewidth\":0,\"ticks\":\"\"}}}],\"carpet\":[{\"aaxis\":{\"endlinecolor\":\"#2a3f5f\",\"gridcolor\":\"white\",\"linecolor\":\"white\",\"minorgridcolor\":\"white\",\"startlinecolor\":\"#2a3f5f\"},\"baxis\":{\"endlinecolor\":\"#2a3f5f\",\"gridcolor\":\"white\",\"linecolor\":\"white\",\"minorgridcolor\":\"white\",\"startlinecolor\":\"#2a3f5f\"},\"type\":\"carpet\"}],\"table\":[{\"cells\":{\"fill\":{\"color\":\"#EBF0F8\"},\"line\":{\"color\":\"white\"}},\"header\":{\"fill\":{\"color\":\"#C8D4E3\"},\"line\":{\"color\":\"white\"}},\"type\":\"table\"}],\"barpolar\":[{\"marker\":{\"line\":{\"color\":\"#E5ECF6\",\"width\":0.5},\"pattern\":{\"fillmode\":\"overlay\",\"size\":10,\"solidity\":0.2}},\"type\":\"barpolar\"}],\"pie\":[{\"automargin\":true,\"type\":\"pie\"}]},\"layout\":{\"autotypenumbers\":\"strict\",\"colorway\":[\"#636efa\",\"#EF553B\",\"#00cc96\",\"#ab63fa\",\"#FFA15A\",\"#19d3f3\",\"#FF6692\",\"#B6E880\",\"#FF97FF\",\"#FECB52\"],\"font\":{\"color\":\"#2a3f5f\"},\"hovermode\":\"closest\",\"hoverlabel\":{\"align\":\"left\"},\"paper_bgcolor\":\"white\",\"plot_bgcolor\":\"#E5ECF6\",\"polar\":{\"bgcolor\":\"#E5ECF6\",\"angularaxis\":{\"gridcolor\":\"white\",\"linecolor\":\"white\",\"ticks\":\"\"},\"radialaxis\":{\"gridcolor\":\"white\",\"linecolor\":\"white\",\"ticks\":\"\"}},\"ternary\":{\"bgcolor\":\"#E5ECF6\",\"aaxis\":{\"gridcolor\":\"white\",\"linecolor\":\"white\",\"ticks\":\"\"},\"baxis\":{\"gridcolor\":\"white\",\"linecolor\":\"white\",\"ticks\":\"\"},\"caxis\":{\"gridcolor\":\"white\",\"linecolor\":\"white\",\"ticks\":\"\"}},\"coloraxis\":{\"colorbar\":{\"outlinewidth\":0,\"ticks\":\"\"}},\"colorscale\":{\"sequential\":[[0.0,\"#0d0887\"],[0.1111111111111111,\"#46039f\"],[0.2222222222222222,\"#7201a8\"],[0.3333333333333333,\"#9c179e\"],[0.4444444444444444,\"#bd3786\"],[0.5555555555555556,\"#d8576b\"],[0.6666666666666666,\"#ed7953\"],[0.7777777777777778,\"#fb9f3a\"],[0.8888888888888888,\"#fdca26\"],[1.0,\"#f0f921\"]],\"sequentialminus\":[[0.0,\"#0d0887\"],[0.1111111111111111,\"#46039f\"],[0.2222222222222222,\"#7201a8\"],[0.3333333333333333,\"#9c179e\"],[0.4444444444444444,\"#bd3786\"],[0.5555555555555556,\"#d8576b\"],[0.6666666666666666,\"#ed7953\"],[0.7777777777777778,\"#fb9f3a\"],[0.8888888888888888,\"#fdca26\"],[1.0,\"#f0f921\"]],\"diverging\":[[0,\"#8e0152\"],[0.1,\"#c51b7d\"],[0.2,\"#de77ae\"],[0.3,\"#f1b6da\"],[0.4,\"#fde0ef\"],[0.5,\"#f7f7f7\"],[0.6,\"#e6f5d0\"],[0.7,\"#b8e186\"],[0.8,\"#7fbc41\"],[0.9,\"#4d9221\"],[1,\"#276419\"]]},\"xaxis\":{\"gridcolor\":\"white\",\"linecolor\":\"white\",\"ticks\":\"\",\"title\":{\"standoff\":15},\"zerolinecolor\":\"white\",\"automargin\":true,\"zerolinewidth\":2},\"yaxis\":{\"gridcolor\":\"white\",\"linecolor\":\"white\",\"ticks\":\"\",\"title\":{\"standoff\":15},\"zerolinecolor\":\"white\",\"automargin\":true,\"zerolinewidth\":2},\"scene\":{\"xaxis\":{\"backgroundcolor\":\"#E5ECF6\",\"gridcolor\":\"white\",\"linecolor\":\"white\",\"showbackground\":true,\"ticks\":\"\",\"zerolinecolor\":\"white\",\"gridwidth\":2},\"yaxis\":{\"backgroundcolor\":\"#E5ECF6\",\"gridcolor\":\"white\",\"linecolor\":\"white\",\"showbackground\":true,\"ticks\":\"\",\"zerolinecolor\":\"white\",\"gridwidth\":2},\"zaxis\":{\"backgroundcolor\":\"#E5ECF6\",\"gridcolor\":\"white\",\"linecolor\":\"white\",\"showbackground\":true,\"ticks\":\"\",\"zerolinecolor\":\"white\",\"gridwidth\":2}},\"shapedefaults\":{\"line\":{\"color\":\"#2a3f5f\"}},\"annotationdefaults\":{\"arrowcolor\":\"#2a3f5f\",\"arrowhead\":0,\"arrowwidth\":1},\"geo\":{\"bgcolor\":\"white\",\"landcolor\":\"#E5ECF6\",\"subunitcolor\":\"white\",\"showland\":true,\"showlakes\":true,\"lakecolor\":\"white\"},\"title\":{\"x\":0.05},\"mapbox\":{\"style\":\"light\"}}},\"margin\":{\"l\":10,\"r\":10,\"t\":10,\"b\":10,\"pad\":5},\"legend\":{\"font\":{\"color\":\"white\",\"size\":12},\"title\":{\"text\":\"Location Types\"},\"x\":0.01,\"y\":0.99,\"orientation\":\"v\",\"bgcolor\":\"rgba(0,0,0,0)\",\"bordercolor\":\"white\",\"borderwidth\":2},\"plot_bgcolor\":\"#161515\",\"paper_bgcolor\":\"#161515\",\"clickmode\":\"event+select\",\"hovermode\":\"closest\",\"showlegend\":true,\"mapbox\":{\"accesstoken\":\"pk.eyJ1IjoiZGFpZ2VsZSIsImEiOiJjbHRycHhiMmUwZ295MmpvYm4yNGxtdmJ5In0.N8flhQHuAHCibl6PhifnVA\",\"bearing\":0,\"center\":{\"lat\":-2.016102206100899,\"lon\":-47.533012803695584},\"pitch\":5,\"style\":\"mapbox:\\u002f\\u002fstyles\\u002fdaigele\\u002fclizq8ugr00sn01p75chs6zgv\",\"zoom\":10}},                        {\"responsive\": true}                    ).then(function(){\n                            \nvar gd = document.getElementById('da7e21d7-f266-4fba-882c-86b58ad5c80d');\nvar x = new MutationObserver(function (mutations, observer) {{\n        var display = window.getComputedStyle(gd).display;\n        if (!display || display === 'none') {{\n            console.log([gd, 'removed!']);\n            Plotly.purge(gd);\n            observer.disconnect();\n        }}\n}});\n\n// Listen for the removal of the full notebook cells\nvar notebookContainer = gd.closest('#notebook-container');\nif (notebookContainer) {{\n    x.observe(notebookContainer, {childList: true});\n}}\n\n// Listen for the clearing of the current output cell\nvar outputEl = gd.closest('.output');\nif (outputEl) {{\n    x.observe(outputEl, {childList: true});\n}}\n\n                        })                };                });            </script>        </div>"
          },
          "metadata": {}
        }
      ],
      "execution_count": 39,
      "metadata": {
        "colab": {
          "base_uri": "https://localhost:8080/",
          "height": 542
        },
        "executionInfo": {
          "elapsed": 307,
          "status": "ok",
          "timestamp": 1686860171277,
          "user": {
            "displayName": "Utku Can Ozturk",
            "userId": "13276833277571537087"
          },
          "user_tz": -180
        },
        "gather": {
          "logged": 1710452181328
        },
        "id": "rB7c5I7SArwa",
        "outputId": "f913ae87-0ec6-48fb-b57f-efa6d520d2f2"
      }
    }
  ],
  "metadata": {
    "colab": {
      "provenance": []
    },
    "kernel_info": {
      "name": "daigele-env"
    },
    "kernelspec": {
      "name": "daigele-env",
      "language": "python",
      "display_name": "Daigele Environment)"
    },
    "language_info": {
      "name": "python",
      "version": "3.12.2",
      "mimetype": "text/x-python",
      "codemirror_mode": {
        "name": "ipython",
        "version": 3
      },
      "pygments_lexer": "ipython3",
      "nbconvert_exporter": "python",
      "file_extension": ".py"
    },
    "microsoft": {
      "host": {
        "AzureML": {
          "notebookHasBeenCompleted": true
        }
      },
      "ms_spell_check": {
        "ms_spell_check_language": "en"
      }
    },
    "nteract": {
      "version": "nteract-front-end@1.0.0"
    },
    "widgets": {
      "application/vnd.jupyter.widget-state+json": {
        "dbcb588af55241f396b88e75c887d399": {
          "model_module": "@jupyter-widgets/controls",
          "model_module_version": "1.5.0",
          "model_name": "VBoxModel",
          "state": {
            "_view_module_version": "1.5.0",
            "_model_name": "VBoxModel",
            "_model_module": "@jupyter-widgets/controls",
            "_view_name": "VBoxView",
            "_view_module": "@jupyter-widgets/controls",
            "_dom_classes": [],
            "layout": "IPY_MODEL_92af6ce2dcbb4a6f985e77706ff07967",
            "_view_count": null,
            "_model_module_version": "1.5.0",
            "box_style": "",
            "children": [
              "IPY_MODEL_5e283e36c8724dc1ba70dd854e3d8d80",
              "IPY_MODEL_16210811b7864fe7924ff7f086825a80",
              "IPY_MODEL_5cdf55f299be445db515c9b9271f3e26"
            ]
          }
        },
        "5cdf55f299be445db515c9b9271f3e26": {
          "model_module": "@jupyter-widgets/controls",
          "model_module_version": "1.5.0",
          "model_name": "HBoxModel",
          "state": {
            "_view_module_version": "1.5.0",
            "_model_name": "HBoxModel",
            "_model_module": "@jupyter-widgets/controls",
            "_view_name": "HBoxView",
            "_view_module": "@jupyter-widgets/controls",
            "_dom_classes": [],
            "layout": "IPY_MODEL_ddd3bae0bf9f4208a8333b56b1633928",
            "_view_count": null,
            "_model_module_version": "1.5.0",
            "box_style": "",
            "children": [
              "IPY_MODEL_85ac928b3f87447ea5a61c0c7042e73a"
            ]
          }
        },
        "16210811b7864fe7924ff7f086825a80": {
          "model_module": "@jupyter-widgets/controls",
          "model_module_version": "1.5.0",
          "model_name": "HBoxModel",
          "state": {
            "_view_module_version": "1.5.0",
            "_model_name": "HBoxModel",
            "_model_module": "@jupyter-widgets/controls",
            "_view_name": "HBoxView",
            "_view_module": "@jupyter-widgets/controls",
            "_dom_classes": [],
            "layout": "IPY_MODEL_1ded3b6f1bd74cf18a2c3442fe0ce87c",
            "_view_count": null,
            "_model_module_version": "1.5.0",
            "box_style": "",
            "children": [
              "IPY_MODEL_1e7e10446aba4e378d8e4a390fd15ee2"
            ]
          }
        },
        "6ba0ab6bdd3f4cd482325b3e0713117c": {
          "model_module": "@jupyter-widgets/controls",
          "model_module_version": "1.5.0",
          "model_name": "DropdownModel",
          "state": {
            "_view_module_version": "1.5.0",
            "description_tooltip": null,
            "_model_name": "DropdownModel",
            "_model_module": "@jupyter-widgets/controls",
            "_view_name": "DropdownView",
            "_view_module": "@jupyter-widgets/controls",
            "_dom_classes": [],
            "layout": "IPY_MODEL_bcb68a669be24f9d901b4b7d7c2b69db",
            "style": "IPY_MODEL_ab126a6c73da451fab4dd7a0fe238be8",
            "index": 32,
            "_view_count": null,
            "_model_module_version": "1.5.0",
            "disabled": false,
            "description": "Country:",
            "_options_labels": [
              "Aruba",
              "Afghanistan",
              "Angola",
              "Anguilla",
              "Åland Islands",
              "Albania",
              "Andorra",
              "United Arab Emirates",
              "Argentina",
              "Armenia",
              "American Samoa",
              "Antarctica",
              "French Southern Territories",
              "Antigua and Barbuda",
              "Australia",
              "Austria",
              "Azerbaijan",
              "Burundi",
              "Belgium",
              "Benin",
              "Bonaire, Sint Eustatius and Saba",
              "Burkina Faso",
              "Bangladesh",
              "Bulgaria",
              "Bahrain",
              "Bahamas",
              "Bosnia and Herzegovina",
              "Saint Barthélemy",
              "Belarus",
              "Belize",
              "Bermuda",
              "Bolivia, Plurinational State of",
              "Brazil",
              "Barbados",
              "Brunei Darussalam",
              "Bhutan",
              "Bouvet Island",
              "Botswana",
              "Central African Republic",
              "Canada",
              "Cocos (Keeling) Islands",
              "Switzerland",
              "Chile",
              "China",
              "Côte d'Ivoire",
              "Cameroon",
              "Congo, The Democratic Republic of the",
              "Congo",
              "Cook Islands",
              "Colombia",
              "Comoros",
              "Cabo Verde",
              "Costa Rica",
              "Cuba",
              "Curaçao",
              "Christmas Island",
              "Cayman Islands",
              "Cyprus",
              "Czechia",
              "Germany",
              "Djibouti",
              "Dominica",
              "Denmark",
              "Dominican Republic",
              "Algeria",
              "Ecuador",
              "Egypt",
              "Eritrea",
              "Western Sahara",
              "Spain",
              "Estonia",
              "Ethiopia",
              "Finland",
              "Fiji",
              "Falkland Islands (Malvinas)",
              "France",
              "Faroe Islands",
              "Micronesia, Federated States of",
              "Gabon",
              "United Kingdom",
              "Georgia",
              "Guernsey",
              "Ghana",
              "Gibraltar",
              "Guinea",
              "Guadeloupe",
              "Gambia",
              "Guinea-Bissau",
              "Equatorial Guinea",
              "Greece",
              "Grenada",
              "Greenland",
              "Guatemala",
              "French Guiana",
              "Guam",
              "Guyana",
              "Hong Kong",
              "Heard Island and McDonald Islands",
              "Honduras",
              "Croatia",
              "Haiti",
              "Hungary",
              "Indonesia",
              "Isle of Man",
              "India",
              "British Indian Ocean Territory",
              "Ireland",
              "Iran, Islamic Republic of",
              "Iraq",
              "Iceland",
              "Israel",
              "Italy",
              "Jamaica",
              "Jersey",
              "Jordan",
              "Japan",
              "Kazakhstan",
              "Kenya",
              "Kyrgyzstan",
              "Cambodia",
              "Kiribati",
              "Saint Kitts and Nevis",
              "Korea, Republic of",
              "Kuwait",
              "Lao People's Democratic Republic",
              "Lebanon",
              "Liberia",
              "Libya",
              "Saint Lucia",
              "Liechtenstein",
              "Sri Lanka",
              "Lesotho",
              "Lithuania",
              "Luxembourg",
              "Latvia",
              "Macao",
              "Saint Martin (French part)",
              "Morocco",
              "Monaco",
              "Moldova, Republic of",
              "Madagascar",
              "Maldives",
              "Mexico",
              "Marshall Islands",
              "North Macedonia",
              "Mali",
              "Malta",
              "Myanmar",
              "Montenegro",
              "Mongolia",
              "Northern Mariana Islands",
              "Mozambique",
              "Mauritania",
              "Montserrat",
              "Martinique",
              "Mauritius",
              "Malawi",
              "Malaysia",
              "Mayotte",
              "Namibia",
              "New Caledonia",
              "Niger",
              "Norfolk Island",
              "Nigeria",
              "Nicaragua",
              "Niue",
              "Netherlands",
              "Norway",
              "Nepal",
              "Nauru",
              "New Zealand",
              "Oman",
              "Pakistan",
              "Panama",
              "Pitcairn",
              "Peru",
              "Philippines",
              "Palau",
              "Papua New Guinea",
              "Poland",
              "Puerto Rico",
              "Korea, Democratic People's Republic of",
              "Portugal",
              "Paraguay",
              "Palestine, State of",
              "French Polynesia",
              "Qatar",
              "Réunion",
              "Romania",
              "Russian Federation",
              "Rwanda",
              "Saudi Arabia",
              "Sudan",
              "Senegal",
              "Singapore",
              "South Georgia and the South Sandwich Islands",
              "Saint Helena, Ascension and Tristan da Cunha",
              "Svalbard and Jan Mayen",
              "Solomon Islands",
              "Sierra Leone",
              "El Salvador",
              "San Marino",
              "Somalia",
              "Saint Pierre and Miquelon",
              "Serbia",
              "South Sudan",
              "Sao Tome and Principe",
              "Suriname",
              "Slovakia",
              "Slovenia",
              "Sweden",
              "Eswatini",
              "Sint Maarten (Dutch part)",
              "Seychelles",
              "Syrian Arab Republic",
              "Turks and Caicos Islands",
              "Chad",
              "Togo",
              "Thailand",
              "Tajikistan",
              "Tokelau",
              "Turkmenistan",
              "Timor-Leste",
              "Tonga",
              "Trinidad and Tobago",
              "Tunisia",
              "Turkey",
              "Tuvalu",
              "Taiwan, Province of China",
              "Tanzania, United Republic of",
              "Uganda",
              "Ukraine",
              "United States Minor Outlying Islands",
              "Uruguay",
              "United States",
              "Uzbekistan",
              "Holy See (Vatican City State)",
              "Saint Vincent and the Grenadines",
              "Venezuela, Bolivarian Republic of",
              "Virgin Islands, British",
              "Virgin Islands, U.S.",
              "Viet Nam",
              "Vanuatu",
              "Wallis and Futuna",
              "Samoa",
              "Yemen",
              "South Africa",
              "Zambia",
              "Zimbabwe"
            ]
          }
        },
        "85ac928b3f87447ea5a61c0c7042e73a": {
          "model_module": "@jupyter-widgets/controls",
          "model_module_version": "1.5.0",
          "model_name": "FloatSliderModel",
          "state": {
            "_view_module_version": "1.5.0",
            "description_tooltip": null,
            "_model_name": "FloatSliderModel",
            "_model_module": "@jupyter-widgets/controls",
            "max": 100,
            "_view_name": "FloatSliderView",
            "_view_module": "@jupyter-widgets/controls",
            "_dom_classes": [],
            "layout": "IPY_MODEL_375986d0c75541909b3739bfa87e0fd1",
            "step": 1,
            "orientation": "horizontal",
            "value": 15,
            "style": "IPY_MODEL_a910f638ff474b308bb9cfb18d66b22f",
            "min": 0,
            "_view_count": null,
            "readout": true,
            "continuous_update": true,
            "_model_module_version": "1.5.0",
            "disabled": false,
            "description": "Maximum Connection Length:",
            "readout_format": ".2f"
          }
        },
        "1e7e10446aba4e378d8e4a390fd15ee2": {
          "model_module": "@jupyter-widgets/controls",
          "model_module_version": "1.5.0",
          "model_name": "TextModel",
          "state": {
            "_view_module_version": "1.5.0",
            "description_tooltip": null,
            "_model_name": "TextModel",
            "_model_module": "@jupyter-widgets/controls",
            "_view_name": "TextView",
            "_view_module": "@jupyter-widgets/controls",
            "_dom_classes": [],
            "layout": "IPY_MODEL_bcb68a669be24f9d901b4b7d7c2b69db",
            "value": "1504059",
            "style": "IPY_MODEL_eff5874a824343168ce0db50552025c6",
            "placeholder": "​",
            "_view_count": null,
            "continuous_update": true,
            "_model_module_version": "1.5.0",
            "disabled": false,
            "description": "Municipaliy code:"
          }
        },
        "ddd3bae0bf9f4208a8333b56b1633928": {
          "model_module": "@jupyter-widgets/base",
          "model_module_version": "1.2.0",
          "model_name": "LayoutModel",
          "state": {
            "_view_module_version": "1.2.0",
            "_model_name": "LayoutModel",
            "grid_row": null,
            "_model_module": "@jupyter-widgets/base",
            "overflow": null,
            "max_height": null,
            "display": null,
            "grid_auto_flow": null,
            "grid_template_rows": null,
            "align_self": null,
            "grid_auto_columns": null,
            "width": null,
            "grid_area": null,
            "align_items": null,
            "_view_name": "LayoutView",
            "left": null,
            "height": null,
            "_view_module": "@jupyter-widgets/base",
            "object_position": null,
            "justify_content": "space-between",
            "bottom": null,
            "max_width": null,
            "border": null,
            "margin": null,
            "order": null,
            "grid_column": null,
            "grid_auto_rows": null,
            "padding": null,
            "grid_template_columns": null,
            "justify_items": null,
            "object_fit": null,
            "visibility": null,
            "_view_count": null,
            "flex_flow": null,
            "min_height": null,
            "top": null,
            "min_width": null,
            "flex": null,
            "_model_module_version": "1.2.0",
            "grid_template_areas": null,
            "overflow_x": null,
            "right": null,
            "overflow_y": null,
            "grid_gap": null,
            "align_content": null
          }
        },
        "bcb68a669be24f9d901b4b7d7c2b69db": {
          "model_module": "@jupyter-widgets/base",
          "model_module_version": "1.2.0",
          "model_name": "LayoutModel",
          "state": {
            "_view_module_version": "1.2.0",
            "_model_name": "LayoutModel",
            "grid_row": null,
            "_model_module": "@jupyter-widgets/base",
            "overflow": null,
            "max_height": null,
            "display": "flex",
            "grid_auto_flow": null,
            "grid_template_rows": null,
            "align_self": null,
            "grid_auto_columns": null,
            "width": "auto",
            "grid_area": null,
            "align_items": "center",
            "_view_name": "LayoutView",
            "left": null,
            "height": null,
            "_view_module": "@jupyter-widgets/base",
            "object_position": null,
            "justify_content": "space-between",
            "bottom": null,
            "max_width": null,
            "border": null,
            "margin": null,
            "order": null,
            "grid_column": null,
            "grid_auto_rows": null,
            "padding": null,
            "grid_template_columns": null,
            "justify_items": null,
            "object_fit": null,
            "visibility": null,
            "_view_count": null,
            "flex_flow": "row wrap",
            "min_height": null,
            "top": null,
            "min_width": "20px",
            "flex": "1 1",
            "_model_module_version": "1.2.0",
            "grid_template_areas": null,
            "overflow_x": null,
            "right": null,
            "overflow_y": null,
            "grid_gap": null,
            "align_content": null
          }
        },
        "5e283e36c8724dc1ba70dd854e3d8d80": {
          "model_module": "@jupyter-widgets/controls",
          "model_module_version": "1.5.0",
          "model_name": "HBoxModel",
          "state": {
            "_view_module_version": "1.5.0",
            "_model_name": "HBoxModel",
            "_model_module": "@jupyter-widgets/controls",
            "_view_name": "HBoxView",
            "_view_module": "@jupyter-widgets/controls",
            "_dom_classes": [],
            "layout": "IPY_MODEL_607339f88b51427ebb9518a2ccb36f09",
            "_view_count": null,
            "_model_module_version": "1.5.0",
            "box_style": "",
            "children": [
              "IPY_MODEL_6ba0ab6bdd3f4cd482325b3e0713117c"
            ]
          }
        },
        "92af6ce2dcbb4a6f985e77706ff07967": {
          "model_module": "@jupyter-widgets/base",
          "model_module_version": "1.2.0",
          "model_name": "LayoutModel",
          "state": {
            "_view_module_version": "1.2.0",
            "_model_name": "LayoutModel",
            "grid_row": null,
            "_model_module": "@jupyter-widgets/base",
            "overflow": null,
            "max_height": null,
            "display": null,
            "grid_auto_flow": null,
            "grid_template_rows": null,
            "align_self": null,
            "grid_auto_columns": null,
            "width": null,
            "grid_area": null,
            "align_items": null,
            "_view_name": "LayoutView",
            "left": null,
            "height": null,
            "_view_module": "@jupyter-widgets/base",
            "object_position": null,
            "justify_content": null,
            "bottom": null,
            "max_width": null,
            "border": null,
            "margin": null,
            "order": null,
            "grid_column": null,
            "grid_auto_rows": null,
            "padding": null,
            "grid_template_columns": null,
            "justify_items": null,
            "object_fit": null,
            "visibility": null,
            "_view_count": null,
            "flex_flow": null,
            "min_height": null,
            "top": null,
            "min_width": null,
            "flex": null,
            "_model_module_version": "1.2.0",
            "grid_template_areas": null,
            "overflow_x": null,
            "right": null,
            "overflow_y": null,
            "grid_gap": null,
            "align_content": null
          }
        },
        "1ded3b6f1bd74cf18a2c3442fe0ce87c": {
          "model_module": "@jupyter-widgets/base",
          "model_module_version": "1.2.0",
          "model_name": "LayoutModel",
          "state": {
            "_view_module_version": "1.2.0",
            "_model_name": "LayoutModel",
            "grid_row": null,
            "_model_module": "@jupyter-widgets/base",
            "overflow": null,
            "max_height": null,
            "display": null,
            "grid_auto_flow": null,
            "grid_template_rows": null,
            "align_self": null,
            "grid_auto_columns": null,
            "width": null,
            "grid_area": null,
            "align_items": null,
            "_view_name": "LayoutView",
            "left": null,
            "height": null,
            "_view_module": "@jupyter-widgets/base",
            "object_position": null,
            "justify_content": "space-between",
            "bottom": null,
            "max_width": null,
            "border": null,
            "margin": null,
            "order": null,
            "grid_column": null,
            "grid_auto_rows": null,
            "padding": null,
            "grid_template_columns": null,
            "justify_items": null,
            "object_fit": null,
            "visibility": null,
            "_view_count": null,
            "flex_flow": null,
            "min_height": null,
            "top": null,
            "min_width": null,
            "flex": null,
            "_model_module_version": "1.2.0",
            "grid_template_areas": null,
            "overflow_x": null,
            "right": null,
            "overflow_y": null,
            "grid_gap": null,
            "align_content": null
          }
        },
        "375986d0c75541909b3739bfa87e0fd1": {
          "model_module": "@jupyter-widgets/base",
          "model_module_version": "1.2.0",
          "model_name": "LayoutModel",
          "state": {
            "_view_module_version": "1.2.0",
            "_model_name": "LayoutModel",
            "grid_row": null,
            "_model_module": "@jupyter-widgets/base",
            "overflow": null,
            "max_height": null,
            "display": "flex",
            "grid_auto_flow": null,
            "grid_template_rows": null,
            "align_self": null,
            "grid_auto_columns": null,
            "width": "auto",
            "grid_area": null,
            "align_items": "center",
            "_view_name": "LayoutView",
            "left": null,
            "height": null,
            "_view_module": "@jupyter-widgets/base",
            "object_position": null,
            "justify_content": "space-between",
            "bottom": null,
            "max_width": null,
            "border": null,
            "margin": null,
            "order": null,
            "grid_column": null,
            "grid_auto_rows": null,
            "padding": null,
            "grid_template_columns": null,
            "justify_items": null,
            "object_fit": null,
            "visibility": null,
            "_view_count": null,
            "flex_flow": "row wrap",
            "min_height": null,
            "top": null,
            "min_width": "20px",
            "flex": "1 1 auto",
            "_model_module_version": "1.2.0",
            "grid_template_areas": null,
            "overflow_x": null,
            "right": null,
            "overflow_y": null,
            "grid_gap": null,
            "align_content": null
          }
        },
        "ab126a6c73da451fab4dd7a0fe238be8": {
          "model_module": "@jupyter-widgets/controls",
          "model_module_version": "1.5.0",
          "model_name": "DescriptionStyleModel",
          "state": {
            "_model_module": "@jupyter-widgets/controls",
            "_model_module_version": "1.5.0",
            "_model_name": "DescriptionStyleModel",
            "_view_count": null,
            "_view_module": "@jupyter-widgets/base",
            "_view_module_version": "1.2.0",
            "_view_name": "StyleView",
            "description_width": "initial"
          }
        },
        "eff5874a824343168ce0db50552025c6": {
          "model_module": "@jupyter-widgets/controls",
          "model_module_version": "1.5.0",
          "model_name": "DescriptionStyleModel",
          "state": {
            "_model_module": "@jupyter-widgets/controls",
            "_model_module_version": "1.5.0",
            "_model_name": "DescriptionStyleModel",
            "_view_count": null,
            "_view_module": "@jupyter-widgets/base",
            "_view_module_version": "1.2.0",
            "_view_name": "StyleView",
            "description_width": "initial"
          }
        },
        "a910f638ff474b308bb9cfb18d66b22f": {
          "model_module": "@jupyter-widgets/controls",
          "model_module_version": "1.5.0",
          "model_name": "SliderStyleModel",
          "state": {
            "_view_module_version": "1.2.0",
            "_model_name": "SliderStyleModel",
            "_model_module": "@jupyter-widgets/controls",
            "description_width": "initial",
            "_view_name": "StyleView",
            "_view_module": "@jupyter-widgets/base",
            "handle_color": null,
            "_view_count": null,
            "_model_module_version": "1.5.0"
          }
        },
        "607339f88b51427ebb9518a2ccb36f09": {
          "model_module": "@jupyter-widgets/base",
          "model_module_version": "1.2.0",
          "model_name": "LayoutModel",
          "state": {
            "_view_module_version": "1.2.0",
            "_model_name": "LayoutModel",
            "grid_row": null,
            "_model_module": "@jupyter-widgets/base",
            "overflow": null,
            "max_height": null,
            "display": null,
            "grid_auto_flow": null,
            "grid_template_rows": null,
            "align_self": null,
            "grid_auto_columns": null,
            "width": null,
            "grid_area": null,
            "align_items": null,
            "_view_name": "LayoutView",
            "left": null,
            "height": null,
            "_view_module": "@jupyter-widgets/base",
            "object_position": null,
            "justify_content": "space-between",
            "bottom": null,
            "max_width": null,
            "border": null,
            "margin": null,
            "order": null,
            "grid_column": null,
            "grid_auto_rows": null,
            "padding": null,
            "grid_template_columns": null,
            "justify_items": null,
            "object_fit": null,
            "visibility": null,
            "_view_count": null,
            "flex_flow": null,
            "min_height": null,
            "top": null,
            "min_width": null,
            "flex": null,
            "_model_module_version": "1.2.0",
            "grid_template_areas": null,
            "overflow_x": null,
            "right": null,
            "overflow_y": null,
            "grid_gap": null,
            "align_content": null
          }
        }
      }
    }
  },
  "nbformat": 4,
  "nbformat_minor": 4
}